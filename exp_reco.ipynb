{
 "cells": [
  {
   "cell_type": "code",
   "execution_count": 17,
   "metadata": {},
   "outputs": [],
   "source": [
    "from gammapy.datasets import Datasets\n",
    "from gammapy.modeling.models import (\n",
    "    PowerLawSpectralModel,\n",
    "    ConstantSpatialModel,\n",
    "    SkyModel,\n",
    ")\n",
    "from gammapy.datasets.map import MapEvaluator\n",
    "from gammapy.maps import Map\n",
    "from gammapy.makers.utils import _map_spectrum_weight\n",
    "import numpy as np"
   ]
  },
  {
   "cell_type": "code",
   "execution_count": 18,
   "metadata": {},
   "outputs": [],
   "source": [
    "def compute_reco_exposure(dataset, spectral_model=None):\n",
    "    \"\"\"\n",
    "    Create and exposure map in reco energies\n",
    "    Parameters\n",
    "    ----------\n",
    "    dataset:`~gammapy.cube.MapDataset` or `~gammapy.cube.MapDatasetOnOff`\n",
    "            the input dataset\n",
    "    spectral_model: `~gammapy.modeling.models.SpectralModel`\n",
    "            assumed spectral shape. If none, a Power Law of index 2 is assumed\n",
    "    \"\"\"\n",
    "    if spectral_model is None:\n",
    "        spectral_model = PowerLawSpectralModel()\n",
    "    model = SkyModel(\n",
    "        spatial_model=ConstantSpatialModel(), spectral_model=spectral_model\n",
    "    )\n",
    "    kernel = None\n",
    "    if dataset.edisp is not None:\n",
    "        kernel = dataset.edisp.get_edisp_kernel(position=dataset._geom.center_skydir)\n",
    "    meval = MapEvaluator(model=model, exposure=dataset.exposure, edisp=kernel)\n",
    "    npred = meval.compute_npred()\n",
    "    e_reco = dataset._geom.get_axis_by_name(\"energy\").edges\n",
    "    ref_flux = spectral_model.integral(e_reco[:-1], e_reco[1:])\n",
    "    reco_exposure = npred / ref_flux[:, np.newaxis, np.newaxis]\n",
    "    return reco_exposure\n"
   ]
  },
  {
   "cell_type": "code",
   "execution_count": 19,
   "metadata": {},
   "outputs": [
    {
     "name": "stderr",
     "output_type": "stream",
     "text": [
      "/opt/anaconda3/envs/gammapy-dev/lib/python3.7/site-packages/astropy/wcs/wcs.py:687: FITSFixedWarning: 'datfix' made the change 'Set DATE-REF to '1858-11-17' from MJD-REF'.\n",
      "  FITSFixedWarning)\n",
      "/opt/anaconda3/envs/gammapy-dev/lib/python3.7/site-packages/astropy/wcs/wcs.py:687: FITSFixedWarning: 'datfix' made the change 'Set DATE-REF to '1858-11-17' from MJD-REF'.\n",
      "  FITSFixedWarning)\n"
     ]
    }
   ],
   "source": [
    "datasets = Datasets.read(\n",
    "        \"$GAMMAPY_DATA/fermi-3fhl-crab\",\n",
    "        filedata=\"Fermi-LAT-3FHL_datasets.yaml\",\n",
    "        filemodel=\"Fermi-LAT-3FHL_models.yaml\",\n",
    "    )\n",
    "dataset = datasets[0]\n",
    "dataset.psf = None\n",
    "dataset.edisp = None\n",
    "etrue = dataset._geom.get_axis_by_name(\"energy\").copy(name=\"energy_true\")\n",
    "geom_etrue = dataset._geom.to_image().to_cube([etrue])\n",
    "dataset.exposure = Map.from_geom(\n",
    "    geom=geom_etrue, data=dataset.exposure.data, unit=dataset.exposure.unit\n",
    ")"
   ]
  },
  {
   "cell_type": "code",
   "execution_count": 20,
   "metadata": {},
   "outputs": [],
   "source": [
    "exposure = dataset.exposure\n",
    "exposure_reco = compute_reco_exposure(dataset)\n",
    "exposure_wt = _map_spectrum_weight(dataset.exposure)"
   ]
  },
  {
   "cell_type": "code",
   "execution_count": 21,
   "metadata": {},
   "outputs": [
    {
     "name": "stdout",
     "output_type": "stream",
     "text": [
      "original exposure:  2916306127242266.5 cm2 s\n",
      "exposure in ereco:  8881770290.89526 cm2 s\n",
      "exposure weighted:  596692266187102.2 cm2 s\n"
     ]
    }
   ],
   "source": [
    "print(\"original exposure: \",exposure.quantity.sum())\n",
    "print(\"exposure in ereco: \",exposure_reco.quantity.sum())\n",
    "print(\"exposure weighted: \",exposure_wt.quantity.sum())"
   ]
  },
  {
   "cell_type": "code",
   "execution_count": null,
   "metadata": {},
   "outputs": [],
   "source": []
  },
  {
   "cell_type": "code",
   "execution_count": null,
   "metadata": {},
   "outputs": [],
   "source": []
  }
 ],
 "metadata": {
  "kernelspec": {
   "display_name": "Python 3",
   "language": "python",
   "name": "python3"
  },
  "language_info": {
   "codemirror_mode": {
    "name": "ipython",
    "version": 3
   },
   "file_extension": ".py",
   "mimetype": "text/x-python",
   "name": "python",
   "nbconvert_exporter": "python",
   "pygments_lexer": "ipython3",
   "version": "3.7.0"
  }
 },
 "nbformat": 4,
 "nbformat_minor": 4
}
