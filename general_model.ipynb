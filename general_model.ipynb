{
 "cells": [
  {
   "cell_type": "markdown",
   "id": "135530d9-962f-4e31-9186-000c3b5a3098",
   "metadata": {},
   "source": [
    "# A generalised 1D model\n",
    "\n",
    "There are currently 2 types on 1D models in gammapy\n",
    "- `TemporalModel`\n",
    "- `SpectralModel`\n",
    "\n",
    "with significant code duplication. These have pre-defined parameter units and final evaluation units. \n",
    "\n",
    "It can be often useful to fit models on phase/radial distance etc, where the paramterisation remains the same and only the units differ.\n",
    "\n",
    "This notebook aims to provide an example of general 1 models with a unit less paramterisation. In this example, the `SkyModel` takes a dictionary of models specifying the axis on which the model operates"
   ]
  },
  {
   "cell_type": "code",
   "execution_count": 1,
   "id": "87fc40be-296d-4078-976f-720ae299c4d4",
   "metadata": {},
   "outputs": [],
   "source": [
    "\n",
    "import numpy as np\n",
    "\n",
    "import numpy as np\n",
    "from astropy import units as u\n",
    "from astropy.time import Time\n",
    "from gammapy.maps import *\n",
    "from gammapy.modeling import Parameter, Parameters\n",
    "from gammapy.utils.scripts import make_path\n",
    "from gammapy.utils.time import time_ref_from_dict, time_ref_to_dict\n",
    "from gammapy.modeling.models.core import ModelBase, _build_parameters_from_dict\n",
    "from gammapy.modeling.models.spectral import integrate_spectrum, PowerLawSpectralModel\n",
    "from gammapy.modeling.models import PowerLawTemporalModel, SkyModel"
   ]
  },
  {
   "cell_type": "markdown",
   "id": "a19fbce5-2425-43f5-ad8f-b21b60d5b973",
   "metadata": {},
   "source": [
    "In this example, we work with a simple power law model\n",
    "\n",
    "$\\phi(x) = \\phi_0 \\cdot \\left( \\frac{x-x_{ref}}{x_0} \\right)^{-\\alpha}$\n",
    "\n"
   ]
  },
  {
   "cell_type": "code",
   "execution_count": 2,
   "id": "cd50bf25-5563-4f5b-8c76-27cdf062ffed",
   "metadata": {},
   "outputs": [],
   "source": [
    "def integrate_linear(func, range_min, range_max, ndecade=100, oversampling_factor=100, **kwargs):\n",
    "        if isinstance(range_min, Time):\n",
    "            range_min=range_min.mjd * u.d\n",
    "            range_max=range_max.mjd * u.d\n",
    "        x, steps = np.linspace(\n",
    "            range_min, range_max, oversampling_factor, retstep=True, axis=-1\n",
    "        )\n",
    "        values = func(x)\n",
    "        integral = np.sum(values, axis=-1) * steps\n",
    "        return integral/np.sum(range_max - range_min) \n",
    "\n",
    "class PowerLawModel(ModelBase):\n",
    "\n",
    "    \n",
    "    alpha = Parameter(\"alpha\", 2, frozen=True)\n",
    "    x0 = Parameter(\"x0\", 1, frozen=True)\n",
    "    x_ref = Parameter(\"x_ref\", 1, frozen=True)\n",
    "    phi0 = Parameter(\"phi0\", 1, frozen=True, is_norm=True, scale_method=\"scale10\",\n",
    "                    interp=\"log\")\n",
    "    \n",
    "    def __init__(self, input_units=\"\", norm_units=\"\"):\n",
    "        super().__init__()\n",
    "        par_input_units = [\"x0\", \"x_ref\"]\n",
    "        self.axis_units = input_units\n",
    "        for p in par_input_units:\n",
    "            par = getattr(self, p)\n",
    "            par.unit = input_units\n",
    "        self.phi0.unit = norm_units\n",
    "\n",
    "    def __call__(self, x):\n",
    "        kwargs = {par.name: par.quantity for par in self.parameters}\n",
    "        if isinstance(x, Time):\n",
    "            x=Time(x, scale=x.scale).mjd * u.d\n",
    "        x = x.to(self.axis_units)\n",
    "        return self.evaluate(x, **kwargs)\n",
    "    \n",
    "    @staticmethod\n",
    "    def evaluate(x, x_ref, x0, alpha, phi0):\n",
    "        \"\"\"Evaluate the model (static function)\"\"\"\n",
    "        return phi0*np.power((x-x_ref)/x0, -alpha)\n",
    "\n",
    "\n",
    "    def integral(self, range_min, range_max, scale=\"linear\", **kwargs):\n",
    "        \"\"\"Integrates to 1 if normalise=True\"\"\"\n",
    "        if scale==\"log\":\n",
    "            integral = integrate_spectrum(self, range_min, range_max, **kwargs)\n",
    "        else:\n",
    "            integral = integrate_linear(self, range_min, range_max, **kwargs)\n",
    "        return integral\n",
    "        "
   ]
  },
  {
   "cell_type": "markdown",
   "id": "3d2a5ea9-535b-4039-ac31-b787c81a4c43",
   "metadata": {},
   "source": [
    "### Compare spectral"
   ]
  },
  {
   "cell_type": "code",
   "execution_count": 3,
   "id": "91ff6668-1265-4f72-93cb-3356ce3de1d0",
   "metadata": {},
   "outputs": [
    {
     "data": {
      "text/html": [
       "<div><i>Table length=4</i>\n",
       "<table id=\"table4803040016\" class=\"table-striped table-bordered table-condensed\">\n",
       "<thead><tr><th>type</th><th>name</th><th>value</th><th>unit</th><th>error</th><th>min</th><th>max</th><th>frozen</th><th>is_norm</th><th>link</th><th>prior</th></tr></thead>\n",
       "<thead><tr><th>str1</th><th>str5</th><th>float64</th><th>str14</th><th>float64</th><th>float64</th><th>float64</th><th>bool</th><th>bool</th><th>str1</th><th>str1</th></tr></thead>\n",
       "<tr><td></td><td>alpha</td><td>2.0000e+00</td><td></td><td>0.000e+00</td><td>nan</td><td>nan</td><td>True</td><td>False</td><td></td><td></td></tr>\n",
       "<tr><td></td><td>x0</td><td>1.0000e+00</td><td>TeV</td><td>0.000e+00</td><td>nan</td><td>nan</td><td>True</td><td>False</td><td></td><td></td></tr>\n",
       "<tr><td></td><td>x_ref</td><td>0.0000e+00</td><td>TeV</td><td>0.000e+00</td><td>nan</td><td>nan</td><td>True</td><td>False</td><td></td><td></td></tr>\n",
       "<tr><td></td><td>phi0</td><td>1.0000e-12</td><td>TeV-1 s-1 cm-2</td><td>0.000e+00</td><td>nan</td><td>nan</td><td>True</td><td>True</td><td></td><td></td></tr>\n",
       "</table></div>"
      ],
      "text/plain": [
       "<Table length=4>\n",
       "type  name   value         unit        error   ... frozen is_norm link prior\n",
       "str1  str5  float64       str14       float64  ...  bool    bool  str1  str1\n",
       "---- ----- ---------- -------------- --------- ... ------ ------- ---- -----\n",
       "     alpha 2.0000e+00                0.000e+00 ...   True   False           \n",
       "        x0 1.0000e+00            TeV 0.000e+00 ...   True   False           \n",
       "     x_ref 0.0000e+00            TeV 0.000e+00 ...   True   False           \n",
       "      phi0 1.0000e-12 TeV-1 s-1 cm-2 0.000e+00 ...   True    True           "
      ]
     },
     "execution_count": 3,
     "metadata": {},
     "output_type": "execute_result"
    }
   ],
   "source": [
    "# If correct units are given\n",
    "p = PowerLawModel(input_units=\"TeV\", norm_units='TeV-1 s-1 cm-2')\n",
    "p.x_ref.value = 0.0\n",
    "p.phi0.value = 1e-12\n",
    "p.parameters.to_table()\n"
   ]
  },
  {
   "cell_type": "code",
   "execution_count": 4,
   "id": "30066d11-1c22-4aca-9439-f44b5129587b",
   "metadata": {},
   "outputs": [
    {
     "data": {
      "text/latex": [
       "$[1 \\times 10^{-6},~4 \\times 10^{-8},~1 \\times 10^{-8}] \\; \\mathrm{\\frac{1}{TeV\\,s\\,cm^{2}}}$"
      ],
      "text/plain": [
       "<Quantity [1.e-06, 4.e-08, 1.e-08] 1 / (TeV s cm2)>"
      ]
     },
     "execution_count": 4,
     "metadata": {},
     "output_type": "execute_result"
    }
   ],
   "source": [
    "energies = [1, 5, 10]*u.GeV\n",
    "p(energies)"
   ]
  },
  {
   "cell_type": "code",
   "execution_count": 5,
   "id": "def7358a-2adb-421f-b25c-bd9de87501e7",
   "metadata": {},
   "outputs": [
    {
     "data": {
      "text/latex": [
       "$[1 \\times 10^{-6},~4 \\times 10^{-8},~1 \\times 10^{-8}] \\; \\mathrm{\\frac{1}{TeV\\,s\\,cm^{2}}}$"
      ],
      "text/plain": [
       "<Quantity [1.e-06, 4.e-08, 1.e-08] 1 / (TeV s cm2)>"
      ]
     },
     "execution_count": 5,
     "metadata": {},
     "output_type": "execute_result"
    }
   ],
   "source": [
    "#Compare with standard value\n",
    "p1 = PowerLawSpectralModel()\n",
    "p1(energies)"
   ]
  },
  {
   "cell_type": "code",
   "execution_count": 6,
   "id": "6437f001-8400-4d0a-9f06-b302dbcb1ca4",
   "metadata": {},
   "outputs": [
    {
     "data": {
      "text/latex": [
       "$9.9 \\times 10^{-12} \\; \\mathrm{\\frac{1}{s\\,cm^{2}}}$"
      ],
      "text/plain": [
       "<Quantity 9.9e-12 1 / (s cm2)>"
      ]
     },
     "execution_count": 6,
     "metadata": {},
     "output_type": "execute_result"
    }
   ],
   "source": [
    "p.integral(0.1 * u.TeV, 10 * u.TeV, scale=\"log\")"
   ]
  },
  {
   "cell_type": "code",
   "execution_count": 7,
   "id": "97a93f75-b264-4699-8872-92ef9c56f7e2",
   "metadata": {},
   "outputs": [
    {
     "data": {
      "text/latex": [
       "$9.9 \\times 10^{-12} \\; \\mathrm{\\frac{1}{s\\,cm^{2}}}$"
      ],
      "text/plain": [
       "<Quantity 9.9e-12 1 / (s cm2)>"
      ]
     },
     "execution_count": 7,
     "metadata": {},
     "output_type": "execute_result"
    }
   ],
   "source": [
    "p1.integral(0.1 * u.TeV, 10 * u.TeV)"
   ]
  },
  {
   "cell_type": "markdown",
   "id": "390af949-b91c-40bf-8374-cf03ecb6178a",
   "metadata": {},
   "source": [
    "### Compare temporal"
   ]
  },
  {
   "cell_type": "code",
   "execution_count": 8,
   "id": "f5d2a820-27a0-4674-8013-1adc6c5b3eb8",
   "metadata": {},
   "outputs": [
    {
     "data": {
      "text/latex": [
       "$[1,~0.11111111,~0.04] \\; \\mathrm{}$"
      ],
      "text/plain": [
       "<Quantity [1.        , 0.11111111, 0.04      ]>"
      ]
     },
     "execution_count": 8,
     "metadata": {},
     "output_type": "execute_result"
    }
   ],
   "source": [
    "# Normal temporal model\n",
    "t_ref = Time(46300, format=\"mjd\")\n",
    "t1 = PowerLawTemporalModel(t_ref=t_ref.mjd * u.d, alpha=-2)\n",
    "times = Time([46302, 46303], format=\"mjd\")\n",
    "time_start = t_ref + [1, 3, 5] * u.day\n",
    "time_stop = t_ref + [2, 3.5, 6] * u.day\n",
    "t1(time_start)\n"
   ]
  },
  {
   "cell_type": "code",
   "execution_count": 9,
   "id": "f76c3a0d-ef7e-455a-881b-06f6629b77ba",
   "metadata": {},
   "outputs": [
    {
     "data": {
      "text/latex": [
       "$[1,~0.11111111,~0.04] \\; \\mathrm{}$"
      ],
      "text/plain": [
       "<Quantity [1.        , 0.11111111, 0.04      ]>"
      ]
     },
     "execution_count": 9,
     "metadata": {},
     "output_type": "execute_result"
    }
   ],
   "source": [
    "t = PowerLawModel(input_units=u.d)\n",
    "t.x_ref.value = t_ref.mjd\n",
    "t(time_start)"
   ]
  },
  {
   "cell_type": "code",
   "execution_count": 10,
   "id": "8dda6bd5-2c3b-46f7-b044-c43bdaacb2db",
   "metadata": {},
   "outputs": [
    {
     "data": {
      "text/latex": [
       "$[0.2,~0.019047619,~0.013333333] \\; \\mathrm{}$"
      ],
      "text/plain": [
       "<Quantity [0.2       , 0.01904762, 0.01333333]>"
      ]
     },
     "execution_count": 10,
     "metadata": {},
     "output_type": "execute_result"
    }
   ],
   "source": [
    "t1.integral(time_start, time_stop)"
   ]
  },
  {
   "cell_type": "code",
   "execution_count": 11,
   "id": "10335af5-0bcc-4ae9-91f3-9d515fff54eb",
   "metadata": {},
   "outputs": [
    {
     "data": {
      "text/latex": [
       "$[0.2025312,~0.019242333,~0.013470281] \\; \\mathrm{}$"
      ],
      "text/plain": [
       "<Quantity [0.2025312 , 0.01924233, 0.01347028]>"
      ]
     },
     "execution_count": 11,
     "metadata": {},
     "output_type": "execute_result"
    }
   ],
   "source": [
    "t.integral(time_start, time_stop)"
   ]
  },
  {
   "cell_type": "code",
   "execution_count": 12,
   "id": "609a4cf1-be8a-4903-bb6f-e0ec485b8d54",
   "metadata": {},
   "outputs": [
    {
     "data": {
      "text/latex": [
       "$[1.2345679,~2.0408163,~4] \\; \\mathrm{}$"
      ],
      "text/plain": [
       "<Quantity [1.2345679 , 2.04081633, 4.        ]>"
      ]
     },
     "execution_count": 12,
     "metadata": {},
     "output_type": "execute_result"
    }
   ],
   "source": [
    "## General axis\n",
    "ph = PowerLawModel()\n",
    "phases = [0.1, 0.3, 0.5]*u.dimensionless_unscaled\n",
    "ph(phases)"
   ]
  },
  {
   "cell_type": "code",
   "execution_count": 13,
   "id": "ab0106be-a5c9-482d-9bc2-32b0c5f76796",
   "metadata": {},
   "outputs": [
    {
     "ename": "UnitConversionError",
     "evalue": "'TeV' (energy/torque/work) and '' (dimensionless) are not convertible",
     "output_type": "error",
     "traceback": [
      "\u001b[0;31m---------------------------------------------------------------------------\u001b[0m",
      "\u001b[0;31mUnitConversionError\u001b[0m                       Traceback (most recent call last)",
      "Cell \u001b[0;32mIn[13], line 3\u001b[0m\n\u001b[1;32m      1\u001b[0m \u001b[38;5;66;03m# Fails as expected if units are mismatched\u001b[39;00m\n\u001b[1;32m      2\u001b[0m px \u001b[38;5;241m=\u001b[39m PowerLawModel()\n\u001b[0;32m----> 3\u001b[0m \u001b[43mpx\u001b[49m\u001b[43m(\u001b[49m\u001b[43m[\u001b[49m\u001b[38;5;241;43m3\u001b[39;49m\u001b[43m,\u001b[49m\u001b[43m \u001b[49m\u001b[38;5;241;43m8\u001b[39;49m\u001b[43m]\u001b[49m\u001b[38;5;241;43m*\u001b[39;49m\u001b[43mu\u001b[49m\u001b[38;5;241;43m.\u001b[39;49m\u001b[43mTeV\u001b[49m\u001b[43m)\u001b[49m\n",
      "Cell \u001b[0;32mIn[2], line 34\u001b[0m, in \u001b[0;36mPowerLawModel.__call__\u001b[0;34m(self, x)\u001b[0m\n\u001b[1;32m     32\u001b[0m \u001b[38;5;28;01mif\u001b[39;00m \u001b[38;5;28misinstance\u001b[39m(x, Time):\n\u001b[1;32m     33\u001b[0m     x\u001b[38;5;241m=\u001b[39mTime(x, scale\u001b[38;5;241m=\u001b[39mx\u001b[38;5;241m.\u001b[39mscale)\u001b[38;5;241m.\u001b[39mmjd \u001b[38;5;241m*\u001b[39m u\u001b[38;5;241m.\u001b[39md\n\u001b[0;32m---> 34\u001b[0m x \u001b[38;5;241m=\u001b[39m \u001b[43mx\u001b[49m\u001b[38;5;241;43m.\u001b[39;49m\u001b[43mto\u001b[49m\u001b[43m(\u001b[49m\u001b[38;5;28;43mself\u001b[39;49m\u001b[38;5;241;43m.\u001b[39;49m\u001b[43maxis_units\u001b[49m\u001b[43m)\u001b[49m\n\u001b[1;32m     35\u001b[0m \u001b[38;5;28;01mreturn\u001b[39;00m \u001b[38;5;28mself\u001b[39m\u001b[38;5;241m.\u001b[39mevaluate(x, \u001b[38;5;241m*\u001b[39m\u001b[38;5;241m*\u001b[39mkwargs)\n",
      "File \u001b[0;32m~/anaconda3/envs/gammapy-dev/lib/python3.9/site-packages/astropy/units/quantity.py:938\u001b[0m, in \u001b[0;36mQuantity.to\u001b[0;34m(self, unit, equivalencies, copy)\u001b[0m\n\u001b[1;32m    934\u001b[0m unit \u001b[38;5;241m=\u001b[39m Unit(unit)\n\u001b[1;32m    935\u001b[0m \u001b[38;5;28;01mif\u001b[39;00m copy:\n\u001b[1;32m    936\u001b[0m     \u001b[38;5;66;03m# Avoid using to_value to ensure that we make a copy. We also\u001b[39;00m\n\u001b[1;32m    937\u001b[0m     \u001b[38;5;66;03m# don't want to slow down this method (esp. the scalar case).\u001b[39;00m\n\u001b[0;32m--> 938\u001b[0m     value \u001b[38;5;241m=\u001b[39m \u001b[38;5;28;43mself\u001b[39;49m\u001b[38;5;241;43m.\u001b[39;49m\u001b[43m_to_value\u001b[49m\u001b[43m(\u001b[49m\u001b[43munit\u001b[49m\u001b[43m,\u001b[49m\u001b[43m \u001b[49m\u001b[43mequivalencies\u001b[49m\u001b[43m)\u001b[49m\n\u001b[1;32m    939\u001b[0m \u001b[38;5;28;01melse\u001b[39;00m:\n\u001b[1;32m    940\u001b[0m     \u001b[38;5;66;03m# to_value only copies if necessary\u001b[39;00m\n\u001b[1;32m    941\u001b[0m     value \u001b[38;5;241m=\u001b[39m \u001b[38;5;28mself\u001b[39m\u001b[38;5;241m.\u001b[39mto_value(unit, equivalencies)\n",
      "File \u001b[0;32m~/anaconda3/envs/gammapy-dev/lib/python3.9/site-packages/astropy/units/quantity.py:891\u001b[0m, in \u001b[0;36mQuantity._to_value\u001b[0;34m(self, unit, equivalencies)\u001b[0m\n\u001b[1;32m    888\u001b[0m     equivalencies \u001b[38;5;241m=\u001b[39m \u001b[38;5;28mself\u001b[39m\u001b[38;5;241m.\u001b[39m_equivalencies\n\u001b[1;32m    889\u001b[0m \u001b[38;5;28;01mif\u001b[39;00m \u001b[38;5;129;01mnot\u001b[39;00m \u001b[38;5;28mself\u001b[39m\u001b[38;5;241m.\u001b[39mdtype\u001b[38;5;241m.\u001b[39mnames \u001b[38;5;129;01mor\u001b[39;00m \u001b[38;5;28misinstance\u001b[39m(\u001b[38;5;28mself\u001b[39m\u001b[38;5;241m.\u001b[39munit, StructuredUnit):\n\u001b[1;32m    890\u001b[0m     \u001b[38;5;66;03m# Standard path, let unit to do work.\u001b[39;00m\n\u001b[0;32m--> 891\u001b[0m     \u001b[38;5;28;01mreturn\u001b[39;00m \u001b[38;5;28;43mself\u001b[39;49m\u001b[38;5;241;43m.\u001b[39;49m\u001b[43munit\u001b[49m\u001b[38;5;241;43m.\u001b[39;49m\u001b[43mto\u001b[49m\u001b[43m(\u001b[49m\n\u001b[1;32m    892\u001b[0m \u001b[43m        \u001b[49m\u001b[43munit\u001b[49m\u001b[43m,\u001b[49m\u001b[43m \u001b[49m\u001b[38;5;28;43mself\u001b[39;49m\u001b[38;5;241;43m.\u001b[39;49m\u001b[43mview\u001b[49m\u001b[43m(\u001b[49m\u001b[43mnp\u001b[49m\u001b[38;5;241;43m.\u001b[39;49m\u001b[43mndarray\u001b[49m\u001b[43m)\u001b[49m\u001b[43m,\u001b[49m\u001b[43m \u001b[49m\u001b[43mequivalencies\u001b[49m\u001b[38;5;241;43m=\u001b[39;49m\u001b[43mequivalencies\u001b[49m\n\u001b[1;32m    893\u001b[0m \u001b[43m    \u001b[49m\u001b[43m)\u001b[49m\n\u001b[1;32m    895\u001b[0m \u001b[38;5;28;01melse\u001b[39;00m:\n\u001b[1;32m    896\u001b[0m     \u001b[38;5;66;03m# The .to() method of a simple unit cannot convert a structured\u001b[39;00m\n\u001b[1;32m    897\u001b[0m     \u001b[38;5;66;03m# dtype, so we work around it, by recursing.\u001b[39;00m\n\u001b[1;32m    898\u001b[0m     \u001b[38;5;66;03m# TODO: deprecate this?\u001b[39;00m\n\u001b[1;32m    899\u001b[0m     \u001b[38;5;66;03m# Convert simple to Structured on initialization?\u001b[39;00m\n\u001b[1;32m    900\u001b[0m     result \u001b[38;5;241m=\u001b[39m np\u001b[38;5;241m.\u001b[39mempty_like(\u001b[38;5;28mself\u001b[39m\u001b[38;5;241m.\u001b[39mview(np\u001b[38;5;241m.\u001b[39mndarray))\n",
      "File \u001b[0;32m~/anaconda3/envs/gammapy-dev/lib/python3.9/site-packages/astropy/units/core.py:1195\u001b[0m, in \u001b[0;36mUnitBase.to\u001b[0;34m(self, other, value, equivalencies)\u001b[0m\n\u001b[1;32m   1193\u001b[0m     \u001b[38;5;28;01mreturn\u001b[39;00m UNITY\n\u001b[1;32m   1194\u001b[0m \u001b[38;5;28;01melse\u001b[39;00m:\n\u001b[0;32m-> 1195\u001b[0m     \u001b[38;5;28;01mreturn\u001b[39;00m \u001b[38;5;28;43mself\u001b[39;49m\u001b[38;5;241;43m.\u001b[39;49m\u001b[43m_get_converter\u001b[49m\u001b[43m(\u001b[49m\u001b[43mUnit\u001b[49m\u001b[43m(\u001b[49m\u001b[43mother\u001b[49m\u001b[43m)\u001b[49m\u001b[43m,\u001b[49m\u001b[43m \u001b[49m\u001b[43mequivalencies\u001b[49m\u001b[43m)\u001b[49m(value)\n",
      "File \u001b[0;32m~/anaconda3/envs/gammapy-dev/lib/python3.9/site-packages/astropy/units/core.py:1124\u001b[0m, in \u001b[0;36mUnitBase._get_converter\u001b[0;34m(self, other, equivalencies)\u001b[0m\n\u001b[1;32m   1121\u001b[0m             \u001b[38;5;28;01melse\u001b[39;00m:\n\u001b[1;32m   1122\u001b[0m                 \u001b[38;5;28;01mreturn\u001b[39;00m \u001b[38;5;28;01mlambda\u001b[39;00m v: b(converter(v))\n\u001b[0;32m-> 1124\u001b[0m \u001b[38;5;28;01mraise\u001b[39;00m exc\n",
      "File \u001b[0;32m~/anaconda3/envs/gammapy-dev/lib/python3.9/site-packages/astropy/units/core.py:1107\u001b[0m, in \u001b[0;36mUnitBase._get_converter\u001b[0;34m(self, other, equivalencies)\u001b[0m\n\u001b[1;32m   1105\u001b[0m \u001b[38;5;66;03m# if that doesn't work, maybe we can do it with equivalencies?\u001b[39;00m\n\u001b[1;32m   1106\u001b[0m \u001b[38;5;28;01mtry\u001b[39;00m:\n\u001b[0;32m-> 1107\u001b[0m     \u001b[38;5;28;01mreturn\u001b[39;00m \u001b[38;5;28;43mself\u001b[39;49m\u001b[38;5;241;43m.\u001b[39;49m\u001b[43m_apply_equivalencies\u001b[49m\u001b[43m(\u001b[49m\n\u001b[1;32m   1108\u001b[0m \u001b[43m        \u001b[49m\u001b[38;5;28;43mself\u001b[39;49m\u001b[43m,\u001b[49m\u001b[43m \u001b[49m\u001b[43mother\u001b[49m\u001b[43m,\u001b[49m\u001b[43m \u001b[49m\u001b[38;5;28;43mself\u001b[39;49m\u001b[38;5;241;43m.\u001b[39;49m\u001b[43m_normalize_equivalencies\u001b[49m\u001b[43m(\u001b[49m\u001b[43mequivalencies\u001b[49m\u001b[43m)\u001b[49m\n\u001b[1;32m   1109\u001b[0m \u001b[43m    \u001b[49m\u001b[43m)\u001b[49m\n\u001b[1;32m   1110\u001b[0m \u001b[38;5;28;01mexcept\u001b[39;00m UnitsError \u001b[38;5;28;01mas\u001b[39;00m exc:\n\u001b[1;32m   1111\u001b[0m     \u001b[38;5;66;03m# Last hope: maybe other knows how to do it?\u001b[39;00m\n\u001b[1;32m   1112\u001b[0m     \u001b[38;5;66;03m# We assume the equivalencies have the unit itself as first item.\u001b[39;00m\n\u001b[1;32m   1113\u001b[0m     \u001b[38;5;66;03m# TODO: maybe better for other to have a `_back_converter` method?\u001b[39;00m\n\u001b[1;32m   1114\u001b[0m     \u001b[38;5;28;01mif\u001b[39;00m \u001b[38;5;28mhasattr\u001b[39m(other, \u001b[38;5;124m\"\u001b[39m\u001b[38;5;124mequivalencies\u001b[39m\u001b[38;5;124m\"\u001b[39m):\n",
      "File \u001b[0;32m~/anaconda3/envs/gammapy-dev/lib/python3.9/site-packages/astropy/units/core.py:1085\u001b[0m, in \u001b[0;36mUnitBase._apply_equivalencies\u001b[0;34m(self, unit, other, equivalencies)\u001b[0m\n\u001b[1;32m   1082\u001b[0m unit_str \u001b[38;5;241m=\u001b[39m get_err_str(unit)\n\u001b[1;32m   1083\u001b[0m other_str \u001b[38;5;241m=\u001b[39m get_err_str(other)\n\u001b[0;32m-> 1085\u001b[0m \u001b[38;5;28;01mraise\u001b[39;00m UnitConversionError(\u001b[38;5;124mf\u001b[39m\u001b[38;5;124m\"\u001b[39m\u001b[38;5;132;01m{\u001b[39;00munit_str\u001b[38;5;132;01m}\u001b[39;00m\u001b[38;5;124m and \u001b[39m\u001b[38;5;132;01m{\u001b[39;00mother_str\u001b[38;5;132;01m}\u001b[39;00m\u001b[38;5;124m are not convertible\u001b[39m\u001b[38;5;124m\"\u001b[39m)\n",
      "\u001b[0;31mUnitConversionError\u001b[0m: 'TeV' (energy/torque/work) and '' (dimensionless) are not convertible"
     ]
    }
   ],
   "source": [
    "# Fails as expected if units are mismatched\n",
    "px = PowerLawModel()\n",
    "px([3, 8]*u.TeV)"
   ]
  },
  {
   "cell_type": "markdown",
   "id": "a00597da-c5b5-47ed-86e1-4163f3a4d4f3",
   "metadata": {},
   "source": [
    "## Using with a SkyModel"
   ]
  },
  {
   "cell_type": "code",
   "execution_count": 14,
   "id": "28a0f4a6-deef-4abf-9892-4114834822cd",
   "metadata": {},
   "outputs": [],
   "source": [
    "class SkyModelGeneral():\n",
    "\n",
    "    def __init__(self, models, name=\"abc\"):\n",
    "        \"\"\"Models should be a dict of underlying models\"\"\"\n",
    "        self.models = models\n",
    "        self.name = name # replace by make_name()\n",
    "\n",
    "    def parameters(self):\n",
    "        parameters = []\n",
    "        for model in self.models:\n",
    "            parameters.append(model.parameters)\n",
    "        return Parameters.from_stack(parameters)\n",
    "\n",
    "    def evaluate_geom(self, geom, gti=None):\n",
    "        coord = geom.get_coord()\n",
    "        eval = Map.from_geom(geom, data=1)\n",
    "        for axis, model in self.models.items():\n",
    "            ax = geom.axes[axis]\n",
    "            if isinstance(ax, TimeMapAxis):\n",
    "                val = self._compute_time_integral(geom, ax, model, gti)\n",
    "            else:\n",
    "                val = model(coord[axis])\n",
    "            eval = eval*val\n",
    "        return eval.quantity\n",
    "\n",
    "    def _compute_time_integral(self, geom, time_axis, model, gti):\n",
    "        \"\"\"similar to SkyModel._compute_time_integral\"\"\"\n",
    "        temp_eval = np.ones(time_axis.nbin)\n",
    "        for idx in range(time_axis.nbin):\n",
    "            #Doing only for the case of GTI = None\n",
    "            t1, t2 = time_axis.time_min[idx], time_axis.time_max[idx]\n",
    "            integ = model.integral(t1, t2)\n",
    "            temp_eval[idx] = np.sum(integ)\n",
    "        value = Map.from_geom(geom, data=1).data\n",
    "        value = (value.T * temp_eval).T\n",
    "        return value\n",
    "        \n",
    "\n",
    "    def integrate_geom(self, geom, gti=None, oversampling_factor=None):\n",
    "        eval = Map.from_geom(geom, data=1)\n",
    "        for axis, model in self.models.items():\n",
    "            ax = geom.axes[axis]\n",
    "            if isinstance(ax, TimeMapAxis):\n",
    "                integ = self._compute_time_integral(geom, ax, model, gti)\n",
    "            else:\n",
    "                edges = ax.edges\n",
    "                shape = len(geom.data_shape) * [1,]\n",
    "                shape[geom.axes.index_data(axis)] = -1\n",
    "                integ = model.integral(edges[:-1], edges[1:], scale=ax.interp).reshape(shape)\n",
    "            eval = eval*integ\n",
    "        return eval"
   ]
  },
  {
   "cell_type": "code",
   "execution_count": 15,
   "id": "1312c9b5-609f-4afd-b29e-2e9b48062499",
   "metadata": {},
   "outputs": [],
   "source": [
    "energy_axis = MapAxis.from_energy_bounds(\n",
    "        \"1 TeV\", \"10 TeV\", nbin=3, name=\"energy_true\"\n",
    "    )\n",
    "\n",
    "time_min = t_ref + [1, 3, 5, 7] * u.day\n",
    "time_max = t_ref + [2, 4, 6, 8] * u.day\n",
    "\n",
    "time_axis = TimeMapAxis.from_time_edges(time_min=time_min, time_max=time_max)\n"
   ]
  },
  {
   "cell_type": "markdown",
   "id": "dde69830-530a-4fb6-8f7e-794282e4fb93",
   "metadata": {},
   "source": [
    "#### Just spectral"
   ]
  },
  {
   "cell_type": "code",
   "execution_count": 16,
   "id": "bb7680e6-68ef-4bf1-afd7-488507f49e0f",
   "metadata": {},
   "outputs": [],
   "source": [
    "reg_geom = RegionGeom.create(region=None,\n",
    "        axes=[energy_axis],\n",
    "    )\n",
    "\n",
    "sky_model = SkyModel(\n",
    "        spectral_model=p1\n",
    "    )\n",
    "sky_model_general = SkyModelGeneral(models={\"energy_true\": p})"
   ]
  },
  {
   "cell_type": "code",
   "execution_count": 17,
   "id": "d803c263-e9e5-4602-aac1-b18c62e8aa0e",
   "metadata": {},
   "outputs": [
    {
     "data": {
      "text/latex": [
       "$[[[4.6415888 \\times 10^{-13}]],~\n",
       "\n",
       " [[1 \\times 10^{-13}]],~\n",
       "\n",
       " [[2.1544347 \\times 10^{-14}]]] \\; \\mathrm{\\frac{1}{TeV\\,s\\,cm^{2}}}$"
      ],
      "text/plain": [
       "<Quantity [[[4.64158883e-13]],\n",
       "\n",
       "           [[1.00000000e-13]],\n",
       "\n",
       "           [[2.15443469e-14]]] 1 / (TeV s cm2)>"
      ]
     },
     "execution_count": 17,
     "metadata": {},
     "output_type": "execute_result"
    }
   ],
   "source": [
    "sky_model.evaluate_geom(reg_geom)"
   ]
  },
  {
   "cell_type": "code",
   "execution_count": 18,
   "id": "0207dcac-4690-40a2-a08c-cf8f17f1f3d9",
   "metadata": {},
   "outputs": [
    {
     "data": {
      "text/latex": [
       "$[[[4.6415888 \\times 10^{-13}]],~\n",
       "\n",
       " [[1 \\times 10^{-13}]],~\n",
       "\n",
       " [[2.1544347 \\times 10^{-14}]]] \\; \\mathrm{\\frac{1}{TeV\\,s\\,cm^{2}}}$"
      ],
      "text/plain": [
       "<Quantity [[[4.64158883e-13]],\n",
       "\n",
       "           [[1.00000000e-13]],\n",
       "\n",
       "           [[2.15443469e-14]]] 1 / (TeV s cm2)>"
      ]
     },
     "execution_count": 18,
     "metadata": {},
     "output_type": "execute_result"
    }
   ],
   "source": [
    "\n",
    "sky_model_general.evaluate_geom(reg_geom)"
   ]
  },
  {
   "cell_type": "code",
   "execution_count": 19,
   "id": "e369847f-1f80-4719-9115-1d4f47b47a6f",
   "metadata": {},
   "outputs": [
    {
     "data": {
      "text/latex": [
       "$[[[5.3584112 \\times 10^{-13}]],~\n",
       "\n",
       " [[2.4871541 \\times 10^{-13}]],~\n",
       "\n",
       " [[1.1544347 \\times 10^{-13}]]] \\; \\mathrm{\\frac{1}{s\\,cm^{2}}}$"
      ],
      "text/plain": [
       "<Quantity [[[5.35841117e-13]],\n",
       "\n",
       "           [[2.48715414e-13]],\n",
       "\n",
       "           [[1.15443469e-13]]] 1 / (s cm2)>"
      ]
     },
     "execution_count": 19,
     "metadata": {},
     "output_type": "execute_result"
    }
   ],
   "source": [
    "sky_model.integrate_geom(reg_geom).quantity"
   ]
  },
  {
   "cell_type": "code",
   "execution_count": 20,
   "id": "d12dc54d-4ba1-4317-baf0-67e1dab6c6a9",
   "metadata": {},
   "outputs": [
    {
     "data": {
      "text/latex": [
       "$[[[5.3584112 \\times 10^{-13}]],~\n",
       "\n",
       " [[2.4871541 \\times 10^{-13}]],~\n",
       "\n",
       " [[1.1544347 \\times 10^{-13}]]] \\; \\mathrm{\\frac{1}{s\\,cm^{2}}}$"
      ],
      "text/plain": [
       "<Quantity [[[5.35841117e-13]],\n",
       "\n",
       "           [[2.48715414e-13]],\n",
       "\n",
       "           [[1.15443469e-13]]] 1 / (s cm2)>"
      ]
     },
     "execution_count": 20,
     "metadata": {},
     "output_type": "execute_result"
    }
   ],
   "source": [
    "sky_model_general.integrate_geom(reg_geom).quantity"
   ]
  },
  {
   "cell_type": "markdown",
   "id": "2bac4ef4-abbe-4072-92c7-6792714faa66",
   "metadata": {},
   "source": [
    "#### Temporal & Spectral"
   ]
  },
  {
   "cell_type": "code",
   "execution_count": 21,
   "id": "ace60635-3d9d-4502-a993-27f8e785201c",
   "metadata": {},
   "outputs": [],
   "source": [
    "reg_geom = RegionGeom.create(region=None,\n",
    "        axes=[energy_axis,time_axis],\n",
    "    )"
   ]
  },
  {
   "cell_type": "code",
   "execution_count": 22,
   "id": "557f9cfe-110a-4277-bb21-908c00a5b1d3",
   "metadata": {},
   "outputs": [],
   "source": [
    "sky_model = SkyModel(\n",
    "        spectral_model=p1,\n",
    "        temporal_model=t1\n",
    "    )\n",
    "sky_model_general = SkyModelGeneral(models={\"energy_true\": p, \"time\":t})"
   ]
  },
  {
   "cell_type": "code",
   "execution_count": 23,
   "id": "632b6443-e5de-4e88-9397-d24814c13bd1",
   "metadata": {},
   "outputs": [
    {
     "data": {
      "text/latex": [
       "$[[[[2.3207944 \\times 10^{-13}]],~\n",
       "\n",
       "  [[5 \\times 10^{-14}]],~\n",
       "\n",
       "  [[1.0772173 \\times 10^{-14}]]],~\n",
       "\n",
       "\n",
       " [[[3.8679907 \\times 10^{-14}]],~\n",
       "\n",
       "  [[8.3333333 \\times 10^{-15}]],~\n",
       "\n",
       "  [[1.7953622 \\times 10^{-15}]]],~\n",
       "\n",
       "\n",
       " [[[1.5471963 \\times 10^{-14}]],~\n",
       "\n",
       "  [[3.3333333 \\times 10^{-15}]],~\n",
       "\n",
       "  [[7.181449 \\times 10^{-16}]]],~\n",
       "\n",
       "\n",
       " [[[8.2885515 \\times 10^{-15}]],~\n",
       "\n",
       "  [[1.7857143 \\times 10^{-15}]],~\n",
       "\n",
       "  [[3.8472048 \\times 10^{-16}]]]] \\; \\mathrm{\\frac{1}{TeV\\,s\\,cm^{2}}}$"
      ],
      "text/plain": [
       "<Quantity [[[[2.32079442e-13]],\n",
       "\n",
       "            [[5.00000000e-14]],\n",
       "\n",
       "            [[1.07721735e-14]]],\n",
       "\n",
       "\n",
       "           [[[3.86799069e-14]],\n",
       "\n",
       "            [[8.33333333e-15]],\n",
       "\n",
       "            [[1.79536224e-15]]],\n",
       "\n",
       "\n",
       "           [[[1.54719628e-14]],\n",
       "\n",
       "            [[3.33333333e-15]],\n",
       "\n",
       "            [[7.18144897e-16]]],\n",
       "\n",
       "\n",
       "           [[[8.28855149e-15]],\n",
       "\n",
       "            [[1.78571429e-15]],\n",
       "\n",
       "            [[3.84720480e-16]]]] 1 / (TeV s cm2)>"
      ]
     },
     "execution_count": 23,
     "metadata": {},
     "output_type": "execute_result"
    }
   ],
   "source": [
    "sky_model.evaluate_geom(reg_geom)"
   ]
  },
  {
   "cell_type": "code",
   "execution_count": 24,
   "id": "d8dea092-f4f2-4bd1-a11b-64a3ec6eadf1",
   "metadata": {},
   "outputs": [
    {
     "data": {
      "text/latex": [
       "$[[[[2.3501664 \\times 10^{-13}]],~\n",
       "\n",
       "  [[5.0632801 \\times 10^{-14}]],~\n",
       "\n",
       "  [[1.0908506 \\times 10^{-14}]]],~\n",
       "\n",
       "\n",
       " [[[3.9087062 \\times 10^{-14}]],~\n",
       "\n",
       "  [[8.4210521 \\times 10^{-15}]],~\n",
       "\n",
       "  [[1.8142607 \\times 10^{-15}]]],~\n",
       "\n",
       "\n",
       " [[[1.5630877 \\times 10^{-14}]],~\n",
       "\n",
       "  [[3.3675703 \\times 10^{-15}]],~\n",
       "\n",
       "  [[7.2552102 \\times 10^{-16}]]],~\n",
       "\n",
       "\n",
       " [[[8.3730294 \\times 10^{-15}]],~\n",
       "\n",
       "  [[1.8039145 \\times 10^{-15}]],~\n",
       "\n",
       "  [[3.886416 \\times 10^{-16}]]]] \\; \\mathrm{\\frac{1}{TeV\\,s\\,cm^{2}}}$"
      ],
      "text/plain": [
       "<Quantity [[[[2.35016644e-13]],\n",
       "\n",
       "            [[5.06328010e-14]],\n",
       "\n",
       "            [[1.09085063e-14]]],\n",
       "\n",
       "\n",
       "           [[[3.90870615e-14]],\n",
       "\n",
       "            [[8.42105212e-15]],\n",
       "\n",
       "            [[1.81426068e-15]]],\n",
       "\n",
       "\n",
       "           [[[1.56308765e-14]],\n",
       "\n",
       "            [[3.36757027e-15]],\n",
       "\n",
       "            [[7.25521020e-16]]],\n",
       "\n",
       "\n",
       "           [[[8.37302935e-15]],\n",
       "\n",
       "            [[1.80391449e-15]],\n",
       "\n",
       "            [[3.88641595e-16]]]] 1 / (TeV s cm2)>"
      ]
     },
     "execution_count": 24,
     "metadata": {},
     "output_type": "execute_result"
    }
   ],
   "source": [
    "sky_model_general.evaluate_geom(reg_geom)"
   ]
  },
  {
   "cell_type": "code",
   "execution_count": 25,
   "id": "54a0afe5-8a4b-406d-b3e9-3c656e8d15b1",
   "metadata": {},
   "outputs": [
    {
     "data": {
      "text/plain": [
       "array([[[[2.67920558e-13]],\n",
       "\n",
       "        [[1.24357707e-13]],\n",
       "\n",
       "        [[5.77217345e-14]]],\n",
       "\n",
       "\n",
       "       [[[4.46534264e-14]],\n",
       "\n",
       "        [[2.07262845e-14]],\n",
       "\n",
       "        [[9.62028908e-15]]],\n",
       "\n",
       "\n",
       "       [[[1.78613706e-14]],\n",
       "\n",
       "        [[8.29051381e-15]],\n",
       "\n",
       "        [[3.84811563e-15]]],\n",
       "\n",
       "\n",
       "       [[[9.56859137e-15]],\n",
       "\n",
       "        [[4.44134668e-15]],\n",
       "\n",
       "        [[2.06149052e-15]]]])"
      ]
     },
     "execution_count": 25,
     "metadata": {},
     "output_type": "execute_result"
    }
   ],
   "source": [
    "sky_model.integrate_geom(reg_geom).data"
   ]
  },
  {
   "cell_type": "code",
   "execution_count": 26,
   "id": "afcb5902-65a5-45ec-8a40-8204767023be",
   "metadata": {},
   "outputs": [
    {
     "data": {
      "text/plain": [
       "array([[[[2.71311366e-13]],\n",
       "\n",
       "        [[1.25931581e-13]],\n",
       "\n",
       "        [[5.84522620e-14]]],\n",
       "\n",
       "\n",
       "       [[[4.51234597e-14]],\n",
       "\n",
       "        [[2.09444547e-14]],\n",
       "\n",
       "        [[9.72155470e-15]]],\n",
       "\n",
       "\n",
       "       [[[1.80448261e-14]],\n",
       "\n",
       "        [[8.37566634e-15]],\n",
       "\n",
       "        [[3.88763994e-15]]],\n",
       "\n",
       "\n",
       "       [[[9.66611554e-15]],\n",
       "\n",
       "        [[4.48661340e-15]],\n",
       "\n",
       "        [[2.08250146e-15]]]])"
      ]
     },
     "execution_count": 26,
     "metadata": {},
     "output_type": "execute_result"
    }
   ],
   "source": [
    "sky_model_general.integrate_geom(reg_geom).data"
   ]
  },
  {
   "cell_type": "markdown",
   "id": "4154dd11-8c4d-49ef-aa30-0ccba9948dd2",
   "metadata": {},
   "source": [
    "#### Can work without a spectral model"
   ]
  },
  {
   "cell_type": "code",
   "execution_count": 27,
   "id": "4a0df617-a0cc-446f-89da-d90ae2ee2e8b",
   "metadata": {},
   "outputs": [],
   "source": [
    "phase_axis = MapAxis.from_edges([0.1, 0.2, 0.5], name=\"phase\")\n",
    "reg_geom = RegionGeom.create(region=None,\n",
    "        axes=[phase_axis])"
   ]
  },
  {
   "cell_type": "code",
   "execution_count": 28,
   "id": "f4108c8f-ac43-4784-8972-cffca5eef6af",
   "metadata": {},
   "outputs": [],
   "source": [
    "ph = PowerLawModel()\n",
    "sky_model_general = SkyModelGeneral(models={\"phase\": ph})"
   ]
  },
  {
   "cell_type": "code",
   "execution_count": 29,
   "id": "eb3dbb49-e45b-471f-a248-d3bd129403a9",
   "metadata": {},
   "outputs": [
    {
     "data": {
      "text/latex": [
       "$[[[1.384083]],~\n",
       "\n",
       " [[2.3668639]]] \\; \\mathrm{}$"
      ],
      "text/plain": [
       "<Quantity [[[1.38408304]],\n",
       "\n",
       "           [[2.36686391]]]>"
      ]
     },
     "execution_count": 29,
     "metadata": {},
     "output_type": "execute_result"
    }
   ],
   "source": [
    "sky_model_general.evaluate_geom(reg_geom)"
   ]
  },
  {
   "cell_type": "code",
   "execution_count": 30,
   "id": "4577ecad-b5cb-4d96-81a0-9760df62a9b8",
   "metadata": {},
   "outputs": [
    {
     "data": {
      "text/plain": [
       "array([[[0.35075412]],\n",
       "\n",
       "       [[1.89609321]]])"
      ]
     },
     "execution_count": 30,
     "metadata": {},
     "output_type": "execute_result"
    }
   ],
   "source": [
    "sky_model_general.integrate_geom(reg_geom).data"
   ]
  },
  {
   "cell_type": "code",
   "execution_count": null,
   "id": "ece61696-76b9-4d40-a0c3-2d7b588cfca8",
   "metadata": {},
   "outputs": [],
   "source": []
  },
  {
   "cell_type": "code",
   "execution_count": null,
   "id": "094027bb-d86e-43f7-b285-3965cf5fb057",
   "metadata": {},
   "outputs": [],
   "source": []
  }
 ],
 "metadata": {
  "kernelspec": {
   "display_name": "Python 3 (ipykernel)",
   "language": "python",
   "name": "python3"
  },
  "language_info": {
   "codemirror_mode": {
    "name": "ipython",
    "version": 3
   },
   "file_extension": ".py",
   "mimetype": "text/x-python",
   "name": "python",
   "nbconvert_exporter": "python",
   "pygments_lexer": "ipython3",
   "version": "3.9.18"
  }
 },
 "nbformat": 4,
 "nbformat_minor": 5
}
