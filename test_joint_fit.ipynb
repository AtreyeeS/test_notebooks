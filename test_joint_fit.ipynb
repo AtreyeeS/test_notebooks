{
 "cells": [
  {
   "cell_type": "code",
   "execution_count": 1,
   "metadata": {},
   "outputs": [],
   "source": [
    "%matplotlib inline\n",
    "import matplotlib.pyplot as plt"
   ]
  },
  {
   "cell_type": "code",
   "execution_count": 2,
   "metadata": {},
   "outputs": [],
   "source": [
    "from astropy import units as u\n",
    "from gammapy.modeling.models import (\n",
    "    PowerLawSpectralModel,\n",
    "    ExpCutoffPowerLawSpectralModel,\n",
    "    LogParabolaSpectralModel,\n",
    "    SkyModel,\n",
    ")\n",
    "from gammapy.estimators import FluxPoints\n",
    "from gammapy.datasets import FluxPointsDataset, Datasets\n",
    "from gammapy.catalog import CATALOG_REGISTRY\n",
    "from gammapy.modeling import Fit"
   ]
  },
  {
   "cell_type": "code",
   "execution_count": 4,
   "metadata": {},
   "outputs": [
    {
     "name": "stderr",
     "output_type": "stream",
     "text": [
      "No reference model set for FluxMaps. Assuming point source with E^-2 spectrum.\n"
     ]
    }
   ],
   "source": [
    "filename = '$GAMMAPY_DATA/hawc_crab/HAWC19_flux_points.fits'\n",
    "flux_points = FluxPoints.read(filename)"
   ]
  },
  {
   "cell_type": "code",
   "execution_count": 5,
   "metadata": {},
   "outputs": [],
   "source": [
    "pwl = PowerLawSpectralModel(\n",
    "    index=2, amplitude=\"1e-12 cm-2 s-1 TeV-1\", reference=\"1 TeV\"\n",
    ")\n",
    "model = SkyModel(spectral_model=pwl, name=\"crab\")"
   ]
  },
  {
   "cell_type": "code",
   "execution_count": 6,
   "metadata": {},
   "outputs": [],
   "source": [
    "dataset1 = FluxPointsDataset(data=flux_points)\n",
    "dataset1.models = model"
   ]
  },
  {
   "cell_type": "code",
   "execution_count": 7,
   "metadata": {},
   "outputs": [],
   "source": [
    "fit = Fit()"
   ]
  },
  {
   "cell_type": "code",
   "execution_count": 8,
   "metadata": {},
   "outputs": [
    {
     "name": "stdout",
     "output_type": "stream",
     "text": [
      "CPU times: user 153 ms, sys: 4.89 ms, total: 157 ms\n",
      "Wall time: 156 ms\n"
     ]
    }
   ],
   "source": [
    "%%time\n",
    "result1 = fit.run(datasets=[dataset1])"
   ]
  },
  {
   "cell_type": "code",
   "execution_count": 9,
   "metadata": {},
   "outputs": [
    {
     "data": {
      "text/html": [
       "<div><i>Table length=3</i>\n",
       "<table id=\"table140341155744792\" class=\"table-striped table-bordered table-condensed\">\n",
       "<thead><tr><th>type</th><th>name</th><th>value</th><th>unit</th><th>error</th><th>min</th><th>max</th><th>frozen</th><th>is_norm</th><th>link</th></tr></thead>\n",
       "<thead><tr><th>str8</th><th>str9</th><th>float64</th><th>str14</th><th>float64</th><th>float64</th><th>float64</th><th>bool</th><th>bool</th><th>str1</th></tr></thead>\n",
       "<tr><td>spectral</td><td>index</td><td>2.6988e+00</td><td></td><td>1.069e-02</td><td>nan</td><td>nan</td><td>False</td><td>False</td><td></td></tr>\n",
       "<tr><td>spectral</td><td>amplitude</td><td>4.2377e-11</td><td>cm-2 s-1 TeV-1</td><td>7.289e-13</td><td>nan</td><td>nan</td><td>False</td><td>True</td><td></td></tr>\n",
       "<tr><td>spectral</td><td>reference</td><td>1.0000e+00</td><td>TeV</td><td>0.000e+00</td><td>nan</td><td>nan</td><td>True</td><td>False</td><td></td></tr>\n",
       "</table></div>"
      ],
      "text/plain": [
       "<Table length=3>\n",
       "  type      name     value         unit        error   ...   max   frozen is_norm link\n",
       "  str8      str9    float64       str14       float64  ... float64  bool    bool  str1\n",
       "-------- --------- ---------- -------------- --------- ... ------- ------ ------- ----\n",
       "spectral     index 2.6988e+00                1.069e-02 ...     nan  False   False     \n",
       "spectral amplitude 4.2377e-11 cm-2 s-1 TeV-1 7.289e-13 ...     nan  False    True     \n",
       "spectral reference 1.0000e+00            TeV 0.000e+00 ...     nan   True   False     "
      ]
     },
     "execution_count": 9,
     "metadata": {},
     "output_type": "execute_result"
    }
   ],
   "source": [
    "dataset1.models.parameters.to_table()"
   ]
  },
  {
   "cell_type": "code",
   "execution_count": 10,
   "metadata": {},
   "outputs": [
    {
     "data": {
      "text/plain": [
       "<AxesSubplot:xlabel='Energy [TeV]', ylabel='dnde [1 / (cm2 s TeV)]'>"
      ]
     },
     "execution_count": 10,
     "metadata": {},
     "output_type": "execute_result"
    },
    {
     "data": {
      "image/png": "[encoded data removed]",
      "text/plain": [
       "<Figure size 432x288 with 1 Axes>"
      ]
     },
     "metadata": {
      "needs_background": "light"
     },
     "output_type": "display_data"
    }
   ],
   "source": [
    "energy_bounds = [5e-1, 5e2] * u.TeV\n",
    "ax = flux_points.plot()\n",
    "model.spectral_model.plot(ax=ax, energy_bounds=energy_bounds)"
   ]
  },
  {
   "cell_type": "markdown",
   "metadata": {},
   "source": [
    "## Now, split into multiple fp"
   ]
  },
  {
   "cell_type": "code",
   "execution_count": 14,
   "metadata": {},
   "outputs": [],
   "source": [
    "t1 = flux_points.to_table()"
   ]
  },
  {
   "cell_type": "code",
   "execution_count": 15,
   "metadata": {},
   "outputs": [
    {
     "name": "stderr",
     "output_type": "stream",
     "text": [
      "No reference model set for FluxMaps. Assuming point source with E^-2 spectrum.\n",
      "No reference model set for FluxMaps. Assuming point source with E^-2 spectrum.\n",
      "No reference model set for FluxMaps. Assuming point source with E^-2 spectrum.\n",
      "No reference model set for FluxMaps. Assuming point source with E^-2 spectrum.\n",
      "No reference model set for FluxMaps. Assuming point source with E^-2 spectrum.\n",
      "No reference model set for FluxMaps. Assuming point source with E^-2 spectrum.\n",
      "No reference model set for FluxMaps. Assuming point source with E^-2 spectrum.\n",
      "No reference model set for FluxMaps. Assuming point source with E^-2 spectrum.\n",
      "No reference model set for FluxMaps. Assuming point source with E^-2 spectrum.\n",
      "No reference model set for FluxMaps. Assuming point source with E^-2 spectrum.\n"
     ]
    }
   ],
   "source": [
    "datasets2 = []\n",
    "for i in range(len(t1)):\n",
    "    fp = flux_points.from_table(t1[i:i+1])\n",
    "    ds = FluxPointsDataset(data=fp, name=str(i))\n",
    "    datasets2.append(ds)\n",
    "datasets2=Datasets(datasets2)"
   ]
  },
  {
   "cell_type": "code",
   "execution_count": 16,
   "metadata": {},
   "outputs": [],
   "source": [
    "pwl = PowerLawSpectralModel(\n",
    "    index=2, amplitude=\"1e-12 cm-2 s-1 TeV-1\", reference=\"1 TeV\"\n",
    ")\n",
    "model2 = SkyModel(spectral_model=pwl, name=\"crab\")"
   ]
  },
  {
   "cell_type": "code",
   "execution_count": 17,
   "metadata": {},
   "outputs": [],
   "source": [
    "datasets2.models=model2"
   ]
  },
  {
   "cell_type": "code",
   "execution_count": 18,
   "metadata": {},
   "outputs": [
    {
     "name": "stdout",
     "output_type": "stream",
     "text": [
      "CPU times: user 867 ms, sys: 6.61 ms, total: 874 ms\n",
      "Wall time: 873 ms\n"
     ]
    }
   ],
   "source": [
    "%%time\n",
    "result2 = fit.run(datasets=datasets2)"
   ]
  },
  {
   "cell_type": "code",
   "execution_count": 19,
   "metadata": {},
   "outputs": [
    {
     "data": {
      "text/html": [
       "<div><i>Table length=3</i>\n",
       "<table id=\"table140340612085128\" class=\"table-striped table-bordered table-condensed\">\n",
       "<thead><tr><th>model</th><th>type</th><th>name</th><th>value</th><th>unit</th><th>error</th><th>min</th><th>max</th><th>frozen</th><th>is_norm</th><th>link</th></tr></thead>\n",
       "<thead><tr><th>str4</th><th>str8</th><th>str9</th><th>float64</th><th>str14</th><th>float64</th><th>float64</th><th>float64</th><th>bool</th><th>bool</th><th>str1</th></tr></thead>\n",
       "<tr><td>crab</td><td>spectral</td><td>index</td><td>2.6988e+00</td><td></td><td>1.069e-02</td><td>nan</td><td>nan</td><td>False</td><td>False</td><td></td></tr>\n",
       "<tr><td>crab</td><td>spectral</td><td>amplitude</td><td>4.2377e-11</td><td>cm-2 s-1 TeV-1</td><td>7.289e-13</td><td>nan</td><td>nan</td><td>False</td><td>True</td><td></td></tr>\n",
       "<tr><td>crab</td><td>spectral</td><td>reference</td><td>1.0000e+00</td><td>TeV</td><td>0.000e+00</td><td>nan</td><td>nan</td><td>True</td><td>False</td><td></td></tr>\n",
       "</table></div>"
      ],
      "text/plain": [
       "<Table length=3>\n",
       "model   type      name     value         unit      ...   max   frozen is_norm link\n",
       " str4   str8      str9    float64       str14      ... float64  bool    bool  str1\n",
       "----- -------- --------- ---------- -------------- ... ------- ------ ------- ----\n",
       " crab spectral     index 2.6988e+00                ...     nan  False   False     \n",
       " crab spectral amplitude 4.2377e-11 cm-2 s-1 TeV-1 ...     nan  False    True     \n",
       " crab spectral reference 1.0000e+00            TeV ...     nan   True   False     "
      ]
     },
     "execution_count": 19,
     "metadata": {},
     "output_type": "execute_result"
    }
   ],
   "source": [
    "datasets2.models.to_parameters_table()"
   ]
  },
  {
   "cell_type": "code",
   "execution_count": 20,
   "metadata": {},
   "outputs": [
    {
     "name": "stderr",
     "output_type": "stream",
     "text": [
      "No handles with labels found to put in legend.\n"
     ]
    },
    {
     "data": {
      "text/plain": [
       "<matplotlib.legend.Legend at 0x7fa3ab61bb70>"
      ]
     },
     "execution_count": 20,
     "metadata": {},
     "output_type": "execute_result"
    },
    {
     "data": {
      "image/png": "[encoded data removed]",
      "text/plain": [
       "<Figure size 432x288 with 1 Axes>"
      ]
     },
     "metadata": {
      "needs_background": "light"
     },
     "output_type": "display_data"
    }
   ],
   "source": [
    "energy_bounds = [5e-1, 5e2] * u.TeV\n",
    "ax = plt.subplot()\n",
    "kwargs = {\"ax\": ax, \"sed_type\": \"dnde\"}\n",
    "for d in datasets2:\n",
    "    d.data.plot(**kwargs)\n",
    "model2.spectral_model.plot(ax=ax, energy_bounds=energy_bounds)\n",
    "ax.set_xlim(energy_bounds)\n",
    "ax.legend()"
   ]
  }
 ],
 "metadata": {
  "kernelspec": {
   "display_name": "Python 3 (ipykernel)",
   "language": "python",
   "name": "python3"
  },
  "language_info": {
   "codemirror_mode": {
    "name": "ipython",
    "version": 3
   },
   "file_extension": ".py",
   "mimetype": "text/x-python",
   "name": "python",
   "nbconvert_exporter": "python",
   "pygments_lexer": "ipython3",
   "version": "3.7.0"
  }
 },
 "nbformat": 4,
 "nbformat_minor": 4
}
