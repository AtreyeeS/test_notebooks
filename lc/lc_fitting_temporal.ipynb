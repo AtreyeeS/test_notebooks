{
 "cells": [
  {
   "cell_type": "markdown",
   "metadata": {},
   "source": [
    "# Light curve fitting - using temporal model\n",
    "- Simulatenous (joint) fitting of several datasets.\n",
    "- Does *not* use the light curve estimator\n",
    "- Directly uses temporal models"
   ]
  },
  {
   "cell_type": "code",
   "execution_count": 3,
   "metadata": {},
   "outputs": [],
   "source": [
    "import numpy as np\n",
    "import matplotlib.pyplot as plt\n",
    "import astropy.units as u\n",
    "from astropy.time import Time\n",
    "from gammapy.modeling.models import GaussianTemporalModel, ExpDecayTemporalModel, ConstantTemporalModel\n",
    "from gammapy.modeling import Fit\n",
    "from gammapy.datasets import Datasets, SpectrumDataset\n",
    "from gammapy.modeling.models import PowerLawSpectralModel, SkyModel\n",
    "from gammapy.maps import MapAxis"
   ]
  },
  {
   "cell_type": "code",
   "execution_count": 4,
   "metadata": {},
   "outputs": [],
   "source": [
    "# Read the datasets previously produced\n",
    "datasets = Datasets.read(\"./_datasets.yaml\", \"./_models.yaml\")"
   ]
  },
  {
   "cell_type": "markdown",
   "metadata": {},
   "source": [
    "# Use both temporal and spectral models to joint fit the datasets\n",
    "\n",
    "- For simplicity, only the profiles used before"
   ]
  },
  {
   "cell_type": "code",
   "execution_count": 5,
   "metadata": {},
   "outputs": [],
   "source": [
    "# First flare:\n",
    "temporal1 = GaussianTemporalModel(t_ref = 53945.9 * u.day, sigma=10.0*u.min)\n",
    "temporal1.parameters[\"t_ref\"].frozen = False\n",
    "temporal1.parameters[\"t_ref\"].max = 53946.95\n",
    "temporal1.parameters[\"t_ref\"].min = 53945.85\n",
    "\n",
    "spectral_model1 = PowerLawSpectralModel(\n",
    "    index=3.4,\n",
    "    amplitude=1e-11 * u.Unit(\"1 / (cm2 s TeV)\"),\n",
    "    reference=1 * u.TeV,\n",
    ")\n",
    "spectral_model1.parameters['index'].frozen = True \n",
    "#We keep the indices frozen for now - will thaw later\n",
    "model1 = SkyModel(spectral_model=spectral_model1, temporal_model=temporal1, name=\"flare1\")"
   ]
  },
  {
   "cell_type": "code",
   "execution_count": 6,
   "metadata": {},
   "outputs": [],
   "source": [
    "temporal2 = GaussianTemporalModel(t_ref = 53946.07 * u.day, sigma=3.0*u.min)\n",
    "temporal2.parameters[\"t_ref\"].frozen = False\n",
    "temporal2.parameters[\"t_ref\"].max = 53946.10\n",
    "temporal2.parameters[\"t_ref\"].min = 53946.01\n",
    "\n",
    "spectral_model2 = PowerLawSpectralModel(\n",
    "    index=3.4,\n",
    "    amplitude=1e-11 * u.Unit(\"1 / (cm2 s TeV)\"),\n",
    "    reference=1 * u.TeV,\n",
    ")\n",
    "spectral_model2.parameters['index'].frozen = True \n",
    "\n",
    "model2 = SkyModel(spectral_model=spectral_model2, temporal_model=temporal2, name=\"flare2\")\n"
   ]
  },
  {
   "cell_type": "code",
   "execution_count": 7,
   "metadata": {},
   "outputs": [],
   "source": [
    "#Attaching the models on the datasets to be fitted\n",
    "datasets_fit = []\n",
    "for ds in datasets[:16]:\n",
    "    ds.models = model1\n",
    "    datasets_fit.append(ds)\n",
    "    \n",
    "for ds in datasets[-30:-10]:\n",
    "    ds.models = model2\n",
    "    datasets_fit.append(ds)\n",
    "datasets_fit=Datasets(datasets_fit)"
   ]
  },
  {
   "cell_type": "code",
   "execution_count": 8,
   "metadata": {},
   "outputs": [
    {
     "name": "stdout",
     "output_type": "stream",
     "text": [
      "CPU times: user 1min 8s, sys: 517 ms, total: 1min 8s\n",
      "Wall time: 1min 9s\n"
     ]
    }
   ],
   "source": [
    "%%time\n",
    "fit = Fit(datasets_fit)\n",
    "result = fit.run()"
   ]
  },
  {
   "cell_type": "code",
   "execution_count": 9,
   "metadata": {},
   "outputs": [
    {
     "data": {
      "text/plain": [
       "True"
      ]
     },
     "execution_count": 9,
     "metadata": {},
     "output_type": "execute_result"
    }
   ],
   "source": [
    "result.success"
   ]
  },
  {
   "cell_type": "code",
   "execution_count": 10,
   "metadata": {},
   "outputs": [
    {
     "name": "stdout",
     "output_type": "stream",
     "text": [
      "398.1628296854262\n"
     ]
    }
   ],
   "source": [
    "L1 = result.total_stat\n",
    "print(L1)"
   ]
  },
  {
   "cell_type": "code",
   "execution_count": 11,
   "metadata": {},
   "outputs": [
    {
     "data": {
      "text/html": [
       "<i>Table length=10</i>\n",
       "<table id=\"table4804924528\" class=\"table-striped table-bordered table-condensed\">\n",
       "<thead><tr><th>name</th><th>value</th><th>unit</th><th>min</th><th>max</th><th>frozen</th><th>error</th></tr></thead>\n",
       "<thead><tr><th>str9</th><th>float64</th><th>str14</th><th>float64</th><th>float64</th><th>bool</th><th>float64</th></tr></thead>\n",
       "<tr><td>index</td><td>3.400e+00</td><td></td><td>nan</td><td>nan</td><td>True</td><td>0.000e+00</td></tr>\n",
       "<tr><td>amplitude</td><td>2.177e-10</td><td>cm-2 s-1 TeV-1</td><td>nan</td><td>nan</td><td>False</td><td>4.838e-12</td></tr>\n",
       "<tr><td>reference</td><td>1.000e+00</td><td>TeV</td><td>nan</td><td>nan</td><td>True</td><td>0.000e+00</td></tr>\n",
       "<tr><td>t_ref</td><td>5.395e+04</td><td>d</td><td>5.395e+04</td><td>5.395e+04</td><td>False</td><td>8.863e-04</td></tr>\n",
       "<tr><td>sigma</td><td>3.021e-02</td><td>d</td><td>nan</td><td>nan</td><td>False</td><td>1.171e-03</td></tr>\n",
       "<tr><td>index</td><td>3.400e+00</td><td></td><td>nan</td><td>nan</td><td>True</td><td>0.000e+00</td></tr>\n",
       "<tr><td>amplitude</td><td>6.446e-11</td><td>cm-2 s-1 TeV-1</td><td>nan</td><td>nan</td><td>False</td><td>2.281e-12</td></tr>\n",
       "<tr><td>reference</td><td>1.000e+00</td><td>TeV</td><td>nan</td><td>nan</td><td>True</td><td>0.000e+00</td></tr>\n",
       "<tr><td>t_ref</td><td>5.395e+04</td><td>d</td><td>5.395e+04</td><td>5.395e+04</td><td>False</td><td>2.391e-03</td></tr>\n",
       "<tr><td>sigma</td><td>4.837e-02</td><td>d</td><td>nan</td><td>nan</td><td>False</td><td>4.221e-03</td></tr>\n",
       "</table>"
      ],
      "text/plain": [
       "<Table length=10>\n",
       "   name     value        unit         min       max    frozen   error  \n",
       "   str9    float64      str14       float64   float64   bool   float64 \n",
       "--------- --------- -------------- --------- --------- ------ ---------\n",
       "    index 3.400e+00                      nan       nan   True 0.000e+00\n",
       "amplitude 2.177e-10 cm-2 s-1 TeV-1       nan       nan  False 4.838e-12\n",
       "reference 1.000e+00            TeV       nan       nan   True 0.000e+00\n",
       "    t_ref 5.395e+04              d 5.395e+04 5.395e+04  False 8.863e-04\n",
       "    sigma 3.021e-02              d       nan       nan  False 1.171e-03\n",
       "    index 3.400e+00                      nan       nan   True 0.000e+00\n",
       "amplitude 6.446e-11 cm-2 s-1 TeV-1       nan       nan  False 2.281e-12\n",
       "reference 1.000e+00            TeV       nan       nan   True 0.000e+00\n",
       "    t_ref 5.395e+04              d 5.395e+04 5.395e+04  False 2.391e-03\n",
       "    sigma 4.837e-02              d       nan       nan  False 4.221e-03"
      ]
     },
     "execution_count": 11,
     "metadata": {},
     "output_type": "execute_result"
    }
   ],
   "source": [
    "result.parameters.to_table()"
   ]
  },
  {
   "cell_type": "code",
   "execution_count": 12,
   "metadata": {},
   "outputs": [],
   "source": [
    "cnts = []\n",
    "npreds = []\n",
    "times = []\n",
    "lvtm = []\n",
    "exposure = []\n",
    "for ds in datasets_fit:\n",
    "    cnts.append(ds.counts.data.sum())\n",
    "    npreds.append(ds.npred().data.sum())\n",
    "    lvtm.append(ds.livetime.value)\n",
    "    exposure.append(ds.exposure.data.sum())\n",
    "    times.append((ds.gti.time_start + ds.gti.time_delta/2.0).mjd)"
   ]
  },
  {
   "cell_type": "code",
   "execution_count": 13,
   "metadata": {},
   "outputs": [],
   "source": [
    "residuals = (np.array(cnts) - np.array(npreds))/np.array(npreds)"
   ]
  },
  {
   "cell_type": "code",
   "execution_count": 14,
   "metadata": {},
   "outputs": [
    {
     "data": {
      "text/plain": [
       "<matplotlib.lines.Line2D at 0x11fcfbe48>"
      ]
     },
     "execution_count": 14,
     "metadata": {},
     "output_type": "execute_result"
    },
    {
     "data": {
      "image/png": "[encoded data removed]",
      "text/plain": [
       "<Figure size 864x288 with 2 Axes>"
      ]
     },
     "metadata": {
      "needs_background": "light"
     },
     "output_type": "display_data"
    }
   ],
   "source": [
    "fig = plt.figure(figsize=(12, 4))\n",
    "\n",
    "ax1 = fig.add_subplot(2, 1, 1)\n",
    "ax1.plot(times, cnts, \"*\")\n",
    "ax1.plot(times, npreds, \"+\")\n",
    "\n",
    "ax2 = fig.add_subplot(2, 1, 2)\n",
    "ax2.plot(times, residuals, \"o\")\n",
    "ax2.axhline(0, color=\"black\", lw=0.5)"
   ]
  },
  {
   "cell_type": "code",
   "execution_count": 15,
   "metadata": {},
   "outputs": [
    {
     "data": {
      "text/plain": [
       "[<matplotlib.lines.Line2D at 0x11fd1e6d8>]"
      ]
     },
     "execution_count": 15,
     "metadata": {},
     "output_type": "execute_result"
    },
    {
     "data": {
      "image/png": "[encoded data removed]",
      "text/plain": [
       "<Figure size 432x288 with 1 Axes>"
      ]
     },
     "metadata": {
      "needs_background": "light"
     },
     "output_type": "display_data"
    }
   ],
   "source": [
    "plt.plot(times, np.divide(cnts, exposure), \"*\")\n",
    "plt.plot(times, np.divide(npreds, exposure), \".\")"
   ]
  },
  {
   "cell_type": "markdown",
   "metadata": {},
   "source": [
    "The fit works well. The power of this method is we can try to do fun things with it. Eg: Try to see if there are spectral changes between the flares"
   ]
  },
  {
   "cell_type": "code",
   "execution_count": 16,
   "metadata": {},
   "outputs": [],
   "source": [
    "# Free the spectral parameter\n",
    "model1.spectral_model.parameters['index'].frozen = False\n",
    "model2.spectral_model.parameters['index'].frozen = False"
   ]
  },
  {
   "cell_type": "code",
   "execution_count": 17,
   "metadata": {},
   "outputs": [
    {
     "name": "stdout",
     "output_type": "stream",
     "text": [
      "CPU times: user 36 s, sys: 249 ms, total: 36.2 s\n",
      "Wall time: 36.6 s\n"
     ]
    }
   ],
   "source": [
    "%%time\n",
    "fit = Fit(datasets_fit)\n",
    "result = fit.run()"
   ]
  },
  {
   "cell_type": "code",
   "execution_count": 18,
   "metadata": {},
   "outputs": [
    {
     "data": {
      "text/plain": [
       "True"
      ]
     },
     "execution_count": 18,
     "metadata": {},
     "output_type": "execute_result"
    }
   ],
   "source": [
    "result.success"
   ]
  },
  {
   "cell_type": "code",
   "execution_count": 19,
   "metadata": {},
   "outputs": [
    {
     "name": "stdout",
     "output_type": "stream",
     "text": [
      "334.69759933674396\n"
     ]
    }
   ],
   "source": [
    "L2 = result.total_stat\n",
    "print(L2)"
   ]
  },
  {
   "cell_type": "code",
   "execution_count": 20,
   "metadata": {},
   "outputs": [
    {
     "name": "stdout",
     "output_type": "stream",
     "text": [
      "63.46523034868221\n"
     ]
    }
   ],
   "source": [
    "print(L1 - L2)"
   ]
  },
  {
   "cell_type": "code",
   "execution_count": 21,
   "metadata": {},
   "outputs": [
    {
     "data": {
      "text/html": [
       "<i>Table length=10</i>\n",
       "<table id=\"table4963329808\" class=\"table-striped table-bordered table-condensed\">\n",
       "<thead><tr><th>name</th><th>value</th><th>unit</th><th>min</th><th>max</th><th>frozen</th><th>error</th></tr></thead>\n",
       "<thead><tr><th>str9</th><th>float64</th><th>str14</th><th>float64</th><th>float64</th><th>bool</th><th>float64</th></tr></thead>\n",
       "<tr><td>index</td><td>3.572e+00</td><td></td><td>nan</td><td>nan</td><td>False</td><td>4.084e-02</td></tr>\n",
       "<tr><td>amplitude</td><td>2.007e-10</td><td>cm-2 s-1 TeV-1</td><td>nan</td><td>nan</td><td>False</td><td>5.624e-12</td></tr>\n",
       "<tr><td>reference</td><td>1.000e+00</td><td>TeV</td><td>nan</td><td>nan</td><td>True</td><td>0.000e+00</td></tr>\n",
       "<tr><td>t_ref</td><td>5.395e+04</td><td>d</td><td>5.395e+04</td><td>5.395e+04</td><td>False</td><td>1.137e-03</td></tr>\n",
       "<tr><td>sigma</td><td>3.151e-02</td><td>d</td><td>nan</td><td>nan</td><td>False</td><td>1.328e-03</td></tr>\n",
       "<tr><td>index</td><td>3.766e+00</td><td></td><td>nan</td><td>nan</td><td>False</td><td>5.070e-02</td></tr>\n",
       "<tr><td>amplitude</td><td>5.259e-11</td><td>cm-2 s-1 TeV-1</td><td>nan</td><td>nan</td><td>False</td><td>2.119e-12</td></tr>\n",
       "<tr><td>reference</td><td>1.000e+00</td><td>TeV</td><td>nan</td><td>nan</td><td>True</td><td>0.000e+00</td></tr>\n",
       "<tr><td>t_ref</td><td>5.395e+04</td><td>d</td><td>5.395e+04</td><td>5.395e+04</td><td>False</td><td>2.515e-03</td></tr>\n",
       "<tr><td>sigma</td><td>4.827e-02</td><td>d</td><td>nan</td><td>nan</td><td>False</td><td>3.348e-03</td></tr>\n",
       "</table>"
      ],
      "text/plain": [
       "<Table length=10>\n",
       "   name     value        unit         min       max    frozen   error  \n",
       "   str9    float64      str14       float64   float64   bool   float64 \n",
       "--------- --------- -------------- --------- --------- ------ ---------\n",
       "    index 3.572e+00                      nan       nan  False 4.084e-02\n",
       "amplitude 2.007e-10 cm-2 s-1 TeV-1       nan       nan  False 5.624e-12\n",
       "reference 1.000e+00            TeV       nan       nan   True 0.000e+00\n",
       "    t_ref 5.395e+04              d 5.395e+04 5.395e+04  False 1.137e-03\n",
       "    sigma 3.151e-02              d       nan       nan  False 1.328e-03\n",
       "    index 3.766e+00                      nan       nan  False 5.070e-02\n",
       "amplitude 5.259e-11 cm-2 s-1 TeV-1       nan       nan  False 2.119e-12\n",
       "reference 1.000e+00            TeV       nan       nan   True 0.000e+00\n",
       "    t_ref 5.395e+04              d 5.395e+04 5.395e+04  False 2.515e-03\n",
       "    sigma 4.827e-02              d       nan       nan  False 3.348e-03"
      ]
     },
     "execution_count": 21,
     "metadata": {},
     "output_type": "execute_result"
    }
   ],
   "source": [
    "result.parameters.to_table()"
   ]
  },
  {
   "cell_type": "markdown",
   "metadata": {},
   "source": [
    "The indices in this case differ roughly by 2-sigma.\n",
    "\n",
    "This can be applied for more general use cases\n",
    "- spectral changes between flare and quiescent states\n",
    "- quantifying variability while allowing for spectral changes\n",
    "- fitting lightcurves between different instruments, telescopes"
   ]
  },
  {
   "cell_type": "code",
   "execution_count": null,
   "metadata": {},
   "outputs": [],
   "source": []
  }
 ],
 "metadata": {
  "kernelspec": {
   "display_name": "Python 3",
   "language": "python",
   "name": "python3"
  },
  "language_info": {
   "codemirror_mode": {
    "name": "ipython",
    "version": 3
   },
   "file_extension": ".py",
   "mimetype": "text/x-python",
   "name": "python",
   "nbconvert_exporter": "python",
   "pygments_lexer": "ipython3",
   "version": "3.7.0"
  }
 },
 "nbformat": 4,
 "nbformat_minor": 4
}
