{
 "cells": [
  {
   "cell_type": "markdown",
   "metadata": {},
   "source": [
    "# Spectrum simulation\n",
    "\n",
    "## Prerequisites\n",
    "\n",
    "- Knowledge of spectral extraction and datasets used in gammapy, see for instance the [spectral analysis tutorial](spectrum_analysis.ipynb)\n",
    "\n",
    "## Context\n",
    "\n",
    "To simulate a specific observation, it is not always necessary to simulate the full photon list. For many uses cases, simulating directly a reduced binned dataset is enough: the IRFs reduced in the correct geometry are combined with a source model to predict an actual number of counts per bin. The latter is then used to simulate a reduced dataset using Poisson probability distribution.\n",
    "\n",
    "This can be done to check the feasibility of a measurement, to test whether fitted parameters really provide a good fit to the data etc.\n",
    "\n",
    "Here we will see how to perform a 1D spectral simulation of a CTA observation, in particular, we will generate OFF observations following the template background stored in the CTA IRFs.\n",
    "\n",
    "**Objective: simulate a number of spectral ON-OFF observations of a source with a power-law spectral model with CTA using the CTA 1DC response, fit them with the assumed spectral model and check that the distribution of fitted parameters is consistent with the input values.**\n",
    "\n",
    "## Proposed approach:\n",
    "\n",
    "We will use the following classes:\n",
    "\n",
    "* `~gammapy.datasets.SpectrumDatasetOnOff`\n",
    "* `~gammapy.datasets.SpectrumDataset`\n",
    "* `~gammapy.irf.load_cta_irfs`\n",
    "* `~gammapy.modeling.models.PowerLawSpectralModel`"
   ]
  },
  {
   "cell_type": "markdown",
   "metadata": {},
   "source": [
    "## Setup\n"
   ]
  },
  {
   "cell_type": "code",
   "execution_count": 1,
   "metadata": {},
   "outputs": [],
   "source": [
    "%matplotlib inline\n",
    "import matplotlib.pyplot as plt"
   ]
  },
  {
   "cell_type": "code",
   "execution_count": 2,
   "metadata": {},
   "outputs": [],
   "source": [
    "import numpy as np\n",
    "import astropy.units as u\n",
    "from astropy.coordinates import SkyCoord, Angle\n",
    "from regions import CircleSkyRegion\n",
    "from gammapy.datasets import SpectrumDatasetOnOff, SpectrumDataset, Datasets\n",
    "from gammapy.makers import SpectrumDatasetMaker\n",
    "from gammapy.modeling import Fit\n",
    "from gammapy.modeling.models import (\n",
    "    PowerLawSpectralModel,\n",
    "    SkyModel,\n",
    ")\n",
    "from gammapy.irf import load_cta_irfs\n",
    "from gammapy.data import Observation\n",
    "from gammapy.maps import MapAxis, RegionGeom"
   ]
  },
  {
   "cell_type": "markdown",
   "metadata": {},
   "source": [
    "## Simulation of a single spectrum\n",
    "\n",
    "To do a simulation, we need to define the observational parameters like the livetime, the offset, the assumed integration radius, the energy range to perform the simulation for and the choice of spectral model. We then use an in-memory observation which is convolved with the IRFs to get the predicted number of counts. This is Poission fluctuated using the `fake()` to get the simulated counts for each observation.  "
   ]
  },
  {
   "cell_type": "code",
   "execution_count": 45,
   "metadata": {},
   "outputs": [],
   "source": [
    "# Define simulation parameters parameters\n",
    "livetime = 1 * u.h\n",
    "\n",
    "pointing = SkyCoord(0, 0, unit=\"deg\", frame=\"galactic\")\n",
    "offset = 0.5 * u.deg\n",
    "\n",
    "# Reconstructed and true energy axis\n",
    "energy_axis = MapAxis.from_edges(\n",
    "    np.logspace(-0.5, 1.0, 10), unit=\"TeV\", name=\"energy\", interp=\"log\"\n",
    ")\n",
    "energy_axis_true = MapAxis.from_edges(\n",
    "    np.logspace(-1.2, 2.0, 31), unit=\"TeV\", name=\"energy_true\", interp=\"log\"\n",
    ")\n",
    "\n",
    "on_region_radius = Angle(\"0.11 deg\")\n",
    "\n",
    "center = pointing.directional_offset_by(\n",
    "    position_angle=0 * u.deg, separation=offset\n",
    ")\n",
    "on_region = CircleSkyRegion(center=center, radius=on_region_radius)"
   ]
  },
  {
   "cell_type": "code",
   "execution_count": 95,
   "metadata": {},
   "outputs": [
    {
     "name": "stdout",
     "output_type": "stream",
     "text": [
      "PowerLawSpectralModel\n",
      "\n",
      "   name     value         unit      min max frozen   error  \n",
      "--------- ---------- -------------- --- --- ------ ---------\n",
      "    index 3.0000e+00                nan nan  False 0.000e+00\n",
      "amplitude 1.0000e-12 cm-2 s-1 TeV-1 nan nan  False 0.000e+00\n",
      "reference 1.0000e+00            TeV nan nan   True 0.000e+00\n"
     ]
    }
   ],
   "source": [
    "# Define spectral model - a simple Power Law in this case\n",
    "model_simu = PowerLawSpectralModel(\n",
    "    index=3.0,\n",
    "    amplitude=1e-12 * u.Unit(\"cm-2 s-1 TeV-1\"),\n",
    "    reference=1 * u.TeV,\n",
    ")\n",
    "print(model_simu)\n",
    "# we set the sky model used in the dataset\n",
    "model = SkyModel(spectral_model=model_simu, name=\"source\")"
   ]
  },
  {
   "cell_type": "code",
   "execution_count": 96,
   "metadata": {},
   "outputs": [
    {
     "name": "stderr",
     "output_type": "stream",
     "text": [
      "Invalid unit found in background table! Assuming (s-1 MeV-1 sr-1)\n"
     ]
    }
   ],
   "source": [
    "# Load the IRFs\n",
    "# In this simulation, we use the CTA-1DC irfs shipped with gammapy.\n",
    "irfs = load_cta_irfs(\n",
    "    \"$GAMMAPY_DATA/cta-1dc/caldb/data/cta/1dc/bcf/South_z20_50h/irf_file.fits\"\n",
    ")"
   ]
  },
  {
   "cell_type": "code",
   "execution_count": 97,
   "metadata": {},
   "outputs": [
    {
     "name": "stdout",
     "output_type": "stream",
     "text": [
      "Observation\n",
      "\n",
      "\tobs id            : 0 \n",
      " \ttstart            : 51544.00\n",
      "\ttstop             : 51544.04\n",
      "\tduration          : 3600.00 s\n",
      "\tpointing (icrs)   : 266.4 deg, -28.9 deg\n",
      "\n",
      "\tdeadtime fraction : 0.0%\n",
      "\n"
     ]
    }
   ],
   "source": [
    "obs = Observation.create(pointing=pointing, livetime=livetime, irfs=irfs)\n",
    "print(obs)"
   ]
  },
  {
   "cell_type": "code",
   "execution_count": 98,
   "metadata": {},
   "outputs": [],
   "source": [
    "# Make the SpectrumDataset\n",
    "geom = RegionGeom.create(region=on_region, axes=[energy_axis])\n",
    "\n",
    "dataset_empty = SpectrumDataset.create(\n",
    "    geom=geom, energy_axis_true=energy_axis_true, name=\"obs-0\"\n",
    ")\n",
    "maker = SpectrumDatasetMaker(selection=[\"exposure\", \"edisp\", \"background\"])\n",
    "\n",
    "dataset = maker.run(dataset_empty, obs)"
   ]
  },
  {
   "cell_type": "code",
   "execution_count": 99,
   "metadata": {},
   "outputs": [
    {
     "name": "stdout",
     "output_type": "stream",
     "text": [
      "SpectrumDataset\n",
      "---------------\n",
      "\n",
      "  Name                            : obs-0 \n",
      "\n",
      "  Total counts                    : 128 \n",
      "  Total background counts         : 22.32\n",
      "  Total excess counts             : 105.68\n",
      "\n",
      "  Predicted counts                : 134.87\n",
      "  Predicted background counts     : 22.32\n",
      "  Predicted excess counts         : 112.55\n",
      "\n",
      "  Exposure min                    : 2.53e+08 m2 s\n",
      "  Exposure max                    : 1.77e+10 m2 s\n",
      "\n",
      "  Number of total bins            : 9 \n",
      "  Number of fit bins              : 0 \n",
      "\n",
      "  Fit statistic type              : cash\n",
      "  Fit statistic value (-2 log(L)) : -569.62\n",
      "\n",
      "  Number of models                : 1 \n",
      "  Number of parameters            : 3\n",
      "  Number of free parameters       : 2\n",
      "\n",
      "  Component 0: SkyModel\n",
      "  \n",
      "    Name                      : source\n",
      "    Datasets names            : None\n",
      "    Spectral model type       : PowerLawSpectralModel\n",
      "    Spatial  model type       : \n",
      "    Temporal model type       : \n",
      "    Parameters:\n",
      "      index                   :   3.000              \n",
      "      amplitude               :   1.00e-12  1 / (cm2 s TeV)\n",
      "      reference    (frozen)   :   1.000  TeV         \n",
      "  \n",
      "  \n"
     ]
    }
   ],
   "source": [
    "# Set the model on the dataset, and fake\n",
    "dataset.models = model\n",
    "dataset.fake(random_state=42)\n",
    "print(dataset)"
   ]
  },
  {
   "cell_type": "markdown",
   "metadata": {},
   "source": [
    "### What we have now\n",
    "\n",
    "- dataset.plot_residuals() does not work\n",
    "- method='diff/model'  not very helpful\n",
    "- dataset.plot_fit() is nice"
   ]
  },
  {
   "cell_type": "code",
   "execution_count": 100,
   "metadata": {},
   "outputs": [
    {
     "data": {
      "text/plain": [
       "(<AxesSubplot:ylabel='$\\\\mathrm{}$'>,\n",
       " <AxesSubplot:xlabel='Energy [TeV]', ylabel='Residuals\\ndata - model'>)"
      ]
     },
     "execution_count": 100,
     "metadata": {},
     "output_type": "execute_result"
    },
    {
     "data": {
      "image/png": "[encoded data removed]",
      "text/plain": [
       "<Figure size 576x504 with 2 Axes>"
      ]
     },
     "metadata": {
      "needs_background": "light"
     },
     "output_type": "display_data"
    }
   ],
   "source": [
    "dataset.plot_fit()"
   ]
  },
  {
   "cell_type": "code",
   "execution_count": 101,
   "metadata": {},
   "outputs": [
    {
     "data": {
      "text/plain": [
       "Text(0.5, 1.0, 'diff/sqrt(model)')"
      ]
     },
     "execution_count": 101,
     "metadata": {},
     "output_type": "execute_result"
    },
    {
     "data": {
      "image/png": "[encoded data removed]",
      "text/plain": [
       "<Figure size 1152x360 with 3 Axes>"
      ]
     },
     "metadata": {
      "needs_background": "light"
     },
     "output_type": "display_data"
    }
   ],
   "source": [
    "\n",
    "plt.figure(figsize=(16,5))\n",
    "\n",
    "ax1 = plt.subplot(131)\n",
    "dataset.plot_residuals_spectral(method='diff', ax=ax1)\n",
    "ax1.set_title('diff')\n",
    "\n",
    "ax2 = plt.subplot(132)\n",
    "dataset.plot_residuals_spectral(method='diff/model', ax=ax2)\n",
    "ax2.set_title('diff/model')\n",
    "\n",
    "ax3 = plt.subplot(133)\n",
    "dataset.plot_residuals_spectral(method='diff/sqrt(model)', ax=ax3)\n",
    "ax3.set_title('diff/sqrt(model)')\n"
   ]
  },
  {
   "cell_type": "markdown",
   "metadata": {},
   "source": [
    "## 1. Plot without error"
   ]
  },
  {
   "cell_type": "code",
   "execution_count": 105,
   "metadata": {},
   "outputs": [],
   "source": [
    "def plot_residuals_spectral(self, ax=None, method=\"diff\", region=None, **kwargs):\n",
    "    \n",
    "        counts, npred = self.counts.copy(), self.npred()\n",
    "\n",
    "        if self.mask is not None:\n",
    "            counts *= self.mask\n",
    "            npred *= self.mask\n",
    "\n",
    "        counts_spec = counts.get_spectrum(region)\n",
    "        npred_spec = npred.get_spectrum(region)\n",
    "        residuals = self._compute_residuals(counts_spec, npred_spec, method)\n",
    "\n",
    "        if method == \"diff\":\n",
    "            yerr = np.sqrt((counts_spec.data + npred_spec.data).flatten())\n",
    "        #else:\n",
    "            \n",
    "        yerr = np.zeros_like(residuals.data.flatten())\n",
    "\n",
    "        kwargs.setdefault(\"color\", kwargs.pop(\"c\", \"black\"))\n",
    "        ax = residuals.plot(ax, yerr=yerr, **kwargs)\n",
    "        ax.axhline(0, color=kwargs[\"color\"], lw=0.5)\n",
    "\n",
    "        label = self._residuals_labels[method]\n",
    "        ax.set_ylabel(f\"Residuals ({label})\")\n",
    "        ax.set_yscale(\"linear\")\n",
    "        ymin = 1.05 * np.nanmin(residuals.data - yerr)\n",
    "        ymax = 1.05 * np.nanmax(residuals.data + yerr)\n",
    "        ax.set_ylim(ymin, ymax)\n",
    "        return ax"
   ]
  },
  {
   "cell_type": "code",
   "execution_count": 106,
   "metadata": {},
   "outputs": [
    {
     "data": {
      "text/plain": [
       "Text(0.5, 1.0, 'diff/sqrt(model)')"
      ]
     },
     "execution_count": 106,
     "metadata": {},
     "output_type": "execute_result"
    },
    {
     "data": {
      "image/png": "[encoded data removed]",
      "text/plain": [
       "<Figure size 1152x360 with 3 Axes>"
      ]
     },
     "metadata": {
      "needs_background": "light"
     },
     "output_type": "display_data"
    }
   ],
   "source": [
    "plt.figure(figsize=(16,5))\n",
    "\n",
    "ax1 = plt.subplot(131)\n",
    "plot_residuals_spectral(dataset, method='diff', ax=ax1)\n",
    "ax1.set_title('diff')\n",
    "\n",
    "ax2 = plt.subplot(132)\n",
    "plot_residuals_spectral(dataset, method='diff/model', ax=ax2)\n",
    "ax2.set_title('diff/model')\n",
    "\n",
    "ax3 = plt.subplot(133)\n",
    "plot_residuals_spectral(dataset, method='diff/sqrt(model)', ax=ax3)\n",
    "ax3.set_title('diff/sqrt(model)')\n",
    "\n"
   ]
  },
  {
   "cell_type": "markdown",
   "metadata": {},
   "source": [
    "## 2. Using CountStatistics\n",
    "\n",
    "- different for OnOff and normal datasets\n",
    "- smaller error bars than before\n",
    "- only for the `diff` case\n",
    "\n",
    "- What to do for `FluxPointDataset`?"
   ]
  },
  {
   "cell_type": "code",
   "execution_count": 108,
   "metadata": {},
   "outputs": [],
   "source": [
    "from gammapy.stats import CashCountsStatistic, WStatCountsStatistic"
   ]
  },
  {
   "cell_type": "code",
   "execution_count": 110,
   "metadata": {},
   "outputs": [],
   "source": [
    "cash = CashCountsStatistic(dataset.counts.data, dataset.npred().data)"
   ]
  },
  {
   "cell_type": "code",
   "execution_count": 139,
   "metadata": {},
   "outputs": [
    {
     "data": {
      "text/plain": [
       "<ErrorbarContainer object of 3 artists>"
      ]
     },
     "execution_count": 139,
     "metadata": {},
     "output_type": "execute_result"
    },
    {
     "data": {
      "image/png": "[encoded data removed]",
      "text/plain": [
       "<Figure size 432x288 with 1 Axes>"
      ]
     },
     "metadata": {
      "needs_background": "light"
     },
     "output_type": "display_data"
    }
   ],
   "source": [
    "\n",
    "dataset.plot_residuals_spectral(method='diff')\n",
    "plt.errorbar(energy_axis.center.value, \n",
    "             cash.n_sig.flatten(), \n",
    "             yerr=cash.error.flatten(),\n",
    "            fmt='o', color='red')"
   ]
  },
  {
   "cell_type": "markdown",
   "metadata": {},
   "source": [
    "## Using FluxPointEstimator\n",
    "\n",
    "- Unnecessarily complicated\n",
    "- more lines of code for the user (or, FluxPointEstimator is imported in Datasets)\n",
    "- more intuitive for me to see the number of counts instead of flux"
   ]
  },
  {
   "cell_type": "code",
   "execution_count": 145,
   "metadata": {},
   "outputs": [],
   "source": [
    "from gammapy.estimators import FluxPointsEstimator"
   ]
  },
  {
   "cell_type": "code",
   "execution_count": 148,
   "metadata": {},
   "outputs": [
    {
     "name": "stdout",
     "output_type": "stream",
     "text": [
      "CPU times: user 2.29 s, sys: 23.9 ms, total: 2.32 s\n",
      "Wall time: 2.33 s\n"
     ]
    }
   ],
   "source": [
    "%%time\n",
    "fpe = FluxPointsEstimator(energy_edges=energy_axis.edges, source=\"source\")\n",
    "flux_points = fpe.run(datasets=[dataset])"
   ]
  },
  {
   "cell_type": "code",
   "execution_count": 147,
   "metadata": {},
   "outputs": [
    {
     "name": "stderr",
     "output_type": "stream",
     "text": [
      "/Users/asinha/Gammapy-dev/gammapy/gammapy/estimators/flux_point.py:667: MatplotlibDeprecationWarning: The 'nonposx' parameter of __init__() has been renamed 'nonpositive' since Matplotlib 3.3; support for the old name will be dropped two minor releases later.\n",
      "  ax.set_xscale(\"log\", nonposx=\"clip\")\n",
      "/Users/asinha/Gammapy-dev/gammapy/gammapy/estimators/flux_point.py:668: MatplotlibDeprecationWarning: The 'nonposy' parameter of __init__() has been renamed 'nonpositive' since Matplotlib 3.3; support for the old name will be dropped two minor releases later.\n",
      "  ax.set_yscale(\"log\", nonposy=\"clip\")\n",
      "/Users/asinha/Gammapy-dev/gammapy/gammapy/estimators/flux_point.py:742: MatplotlibDeprecationWarning: shading='flat' when X and Y have the same dimensions as C is deprecated since 3.3.  Either specify the corners of the quadrilaterals with X and Y, or pass shading='auto', 'nearest' or 'gouraud', or set rcParams['pcolor.shading'].  This will become an error two minor releases later.\n",
      "  caxes = ax.pcolormesh(x.value, y_values.value, -z.T, **kwargs)\n",
      "/Users/asinha/Gammapy-dev/gammapy/gammapy/estimators/flux_point.py:743: MatplotlibDeprecationWarning: The 'nonposx' parameter of __init__() has been renamed 'nonpositive' since Matplotlib 3.3; support for the old name will be dropped two minor releases later.\n",
      "  ax.set_xscale(\"log\", nonposx=\"clip\")\n",
      "/Users/asinha/Gammapy-dev/gammapy/gammapy/estimators/flux_point.py:744: MatplotlibDeprecationWarning: The 'nonposy' parameter of __init__() has been renamed 'nonpositive' since Matplotlib 3.3; support for the old name will be dropped two minor releases later.\n",
      "  ax.set_yscale(\"log\", nonposy=\"clip\")\n"
     ]
    },
    {
     "data": {
      "image/png": "[encoded data removed]",
      "text/plain": [
       "<Figure size 576x360 with 2 Axes>"
      ]
     },
     "metadata": {
      "needs_background": "light"
     },
     "output_type": "display_data"
    }
   ],
   "source": [
    "plt.figure(figsize=(8, 5))\n",
    "flux_points.table[\"is_ul\"] = flux_points.table[\"ts\"] < 4\n",
    "ax = flux_points.plot(\n",
    "    energy_power=2, flux_unit=\"erg-1 cm-2 s-1\", color=\"darkorange\"\n",
    ")\n",
    "flux_points.to_sed_type(\"e2dnde\").plot_ts_profiles(ax=ax);"
   ]
  },
  {
   "cell_type": "code",
   "execution_count": null,
   "metadata": {},
   "outputs": [],
   "source": []
  }
 ],
 "metadata": {
  "kernelspec": {
   "display_name": "Python 3",
   "language": "python",
   "name": "python3"
  },
  "language_info": {
   "codemirror_mode": {
    "name": "ipython",
    "version": 3
   },
   "file_extension": ".py",
   "mimetype": "text/x-python",
   "name": "python",
   "nbconvert_exporter": "python",
   "pygments_lexer": "ipython3",
   "version": "3.7.0"
  }
 },
 "nbformat": 4,
 "nbformat_minor": 4
}
