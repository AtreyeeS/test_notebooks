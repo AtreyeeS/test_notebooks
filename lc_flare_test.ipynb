{
 "cells": [
  {
   "cell_type": "markdown",
   "metadata": {},
   "source": [
    "# Light curve - Flare\n",
    "\n",
    "## Introduction\n",
    "\n",
    "In this notebook, I try to do a simultaneous fitting of the PKS 2155-304 flares from the Chandra night.\n",
    "\n",
    "The first part of the notebook is the gammapy flare lightcurve. The datasets thus obtained are used to do the modelling and fitting in the later section (so jump directly to the Fitting section for the new results)"
   ]
  },
  {
   "cell_type": "code",
   "execution_count": 3,
   "metadata": {},
   "outputs": [],
   "source": [
    "%matplotlib inline\n",
    "import astropy.units as u\n",
    "import numpy as np\n",
    "from astropy.coordinates import SkyCoord\n",
    "from astropy.time import Time\n",
    "from regions import CircleSkyRegion\n",
    "from astropy.coordinates import Angle\n",
    "\n",
    "import logging\n",
    "\n",
    "log = logging.getLogger(__name__)\n",
    "\n",
    "from gammapy.data import DataStore\n",
    "from gammapy.datasets import SpectrumDataset\n",
    "from gammapy.modeling.models import PowerLawSpectralModel, SkyModel\n",
    "from gammapy.maps import MapAxis\n",
    "from gammapy.estimators import LightCurveEstimator, LightCurve\n",
    "from gammapy.makers import (\n",
    "    SpectrumDatasetMaker,\n",
    "    ReflectedRegionsBackgroundMaker,\n",
    "    SafeMaskMaker,\n",
    ")"
   ]
  },
  {
   "cell_type": "code",
   "execution_count": 4,
   "metadata": {},
   "outputs": [
    {
     "data": {
      "text/plain": [
       "'0.16.dev734+g277ede6d1'"
      ]
     },
     "execution_count": 4,
     "metadata": {},
     "output_type": "execute_result"
    }
   ],
   "source": [
    "import gammapy\n",
    "gammapy.__version__"
   ]
  },
  {
   "cell_type": "markdown",
   "metadata": {},
   "source": [
    "## Select the data\n",
    "\n",
    "We first set the datastore."
   ]
  },
  {
   "cell_type": "code",
   "execution_count": 5,
   "metadata": {},
   "outputs": [],
   "source": [
    "data_store = DataStore.from_dir(\"$GAMMAPY_DATA/hess-dl3-dr1/\")"
   ]
  },
  {
   "cell_type": "markdown",
   "metadata": {},
   "source": [
    "Now we select observations within 2 degrees of PKS 2155-304. "
   ]
  },
  {
   "cell_type": "code",
   "execution_count": 6,
   "metadata": {},
   "outputs": [
    {
     "name": "stdout",
     "output_type": "stream",
     "text": [
      "Number of selected observations : 21\n"
     ]
    }
   ],
   "source": [
    "target_position = SkyCoord(\n",
    "    329.71693826 * u.deg, -30.2255890 * u.deg, frame=\"icrs\"\n",
    ")\n",
    "selection = dict(\n",
    "    type=\"sky_circle\",\n",
    "    frame=\"icrs\",\n",
    "    lon=target_position.ra,\n",
    "    lat=target_position.dec,\n",
    "    radius=2 * u.deg,\n",
    ")\n",
    "obs_ids = data_store.obs_table.select_observations(selection)[\"OBS_ID\"]\n",
    "observations = data_store.get_observations(obs_ids)\n",
    "print(f\"Number of selected observations : {len(observations)}\")"
   ]
  },
  {
   "cell_type": "markdown",
   "metadata": {},
   "source": [
    "## Define time intervals\n",
    "We create the list of time intervals. Each time interval is an `~astropy.time.Time` object, containing a start and stop time."
   ]
  },
  {
   "cell_type": "code",
   "execution_count": 7,
   "metadata": {},
   "outputs": [
    {
     "name": "stdout",
     "output_type": "stream",
     "text": [
      "[53945.85416667 53945.86111111]\n"
     ]
    }
   ],
   "source": [
    "t0 = Time(\"2006-07-29T20:30\")\n",
    "duration = 10 * u.min\n",
    "n_time_bins = 35\n",
    "times = t0 + np.arange(n_time_bins) * duration\n",
    "time_intervals = [\n",
    "    Time([tstart, tstop]) for tstart, tstop in zip(times[:-1], times[1:])\n",
    "]\n",
    "print(time_intervals[0].mjd)"
   ]
  },
  {
   "cell_type": "markdown",
   "metadata": {},
   "source": [
    "## Filter the observations list in time intervals\n",
    "\n",
    "Here we apply the list of time intervals to the observations with `~gammapy.data.Observations.select_time()`.\n",
    "\n",
    "This will return a new list of Observations filtered by time_intervals. For each time interval, a new observation is created that convers the intersection of the GTIs and time interval. "
   ]
  },
  {
   "cell_type": "code",
   "execution_count": 8,
   "metadata": {},
   "outputs": [
    {
     "name": "stdout",
     "output_type": "stream",
     "text": [
      "Number of observations after time filtering: 44\n",
      "\n",
      "GTI info:\n",
      "- Number of GTIs: 1\n",
      "- Duration: 600.0 s\n",
      "- Start: 53945.861865555555 MET\n",
      "- Start: 2006-07-29T20:41:05.184 (time standard: TT)\n",
      "- Stop: 53945.86881 MET\n",
      "- Stop: 2006-07-29T20:51:05.184 (time standard: TT)\n",
      "\n"
     ]
    }
   ],
   "source": [
    "short_observations = observations.select_time(time_intervals)\n",
    "# check that observations have been filtered\n",
    "print(\n",
    "    f\"Number of observations after time filtering: {len(short_observations)}\\n\"\n",
    ")\n",
    "print(short_observations[1].gti)"
   ]
  },
  {
   "cell_type": "markdown",
   "metadata": {},
   "source": [
    "As we can see, we have now observations of duration equal to the chosen time step.\n",
    "\n",
    "Now data reduction and light curve extraction can proceed exactly as before."
   ]
  },
  {
   "cell_type": "markdown",
   "metadata": {},
   "source": [
    "## Building 1D datasets from the new observations\n",
    "\n",
    "Here we will perform the data reduction in 1D with reflected regions.\n",
    "\n",
    "*Beware, with small time intervals the background normalization with OFF regions might become problematic.*"
   ]
  },
  {
   "cell_type": "markdown",
   "metadata": {},
   "source": [
    "### Defining the geometry\n",
    "\n",
    "We define the energy axes. As usual, the true energy axis has to cover a wider range to ensure a good coverage of the measured energy range chosen. \n",
    "\n",
    "We need to define the ON extraction region. Its size follows typical spectral extraction regions for HESS analyses."
   ]
  },
  {
   "cell_type": "code",
   "execution_count": 9,
   "metadata": {},
   "outputs": [],
   "source": [
    "# Target definition\n",
    "e_reco = MapAxis.from_energy_bounds(0.4, 20, 10, \"TeV\").edges\n",
    "e_true = MapAxis.from_energy_bounds(0.1, 40, 20, \"TeV\").edges\n",
    "\n",
    "on_region_radius = Angle(\"0.11 deg\")\n",
    "on_region = CircleSkyRegion(center=target_position, radius=on_region_radius)"
   ]
  },
  {
   "cell_type": "markdown",
   "metadata": {},
   "source": [
    "### Creation of the data reduction makers\n",
    "\n",
    "We now create the dataset and background makers for the selected geometry."
   ]
  },
  {
   "cell_type": "code",
   "execution_count": 10,
   "metadata": {},
   "outputs": [],
   "source": [
    "dataset_maker = SpectrumDatasetMaker(\n",
    "    containment_correction=True, selection=[\"counts\", \"aeff\", \"edisp\"]\n",
    ")\n",
    "bkg_maker = ReflectedRegionsBackgroundMaker()\n",
    "safe_mask_masker = SafeMaskMaker(methods=[\"aeff-max\"], aeff_percent=10)"
   ]
  },
  {
   "cell_type": "markdown",
   "metadata": {},
   "source": [
    "### Creation of the datasets\n",
    "\n",
    "Now we perform the actual data reduction in the time_intervals."
   ]
  },
  {
   "cell_type": "code",
   "execution_count": 11,
   "metadata": {},
   "outputs": [
    {
     "name": "stdout",
     "output_type": "stream",
     "text": [
      "CPU times: user 14.1 s, sys: 432 ms, total: 14.5 s\n",
      "Wall time: 14.5 s\n"
     ]
    }
   ],
   "source": [
    "%%time\n",
    "datasets = []\n",
    "\n",
    "dataset_empty = SpectrumDataset.create(\n",
    "    e_reco=e_reco, e_true=e_true, region=on_region\n",
    ")\n",
    "\n",
    "for obs in short_observations:\n",
    "    dataset = dataset_maker.run(dataset_empty.copy(), obs)\n",
    "\n",
    "    dataset_on_off = bkg_maker.run(dataset, obs)\n",
    "    dataset_on_off = safe_mask_masker.run(dataset_on_off, obs)\n",
    "    datasets.append(dataset_on_off)"
   ]
  },
  {
   "cell_type": "markdown",
   "metadata": {},
   "source": [
    "## Define the Model\n",
    "\n",
    "The actual flux will depend on the spectral shape assumed. For simplicity, we use the power law spectral model of index 3.4 used in the [reference paper](https://ui.adsabs.harvard.edu/abs/2009A%26A...502..749A/abstract).\n",
    "\n",
    "Here we use only a spectral model in the `~gammapy.modeling.models.SkyModel` object."
   ]
  },
  {
   "cell_type": "code",
   "execution_count": 12,
   "metadata": {},
   "outputs": [],
   "source": [
    "spectral_model = PowerLawSpectralModel(\n",
    "    index=3.4,\n",
    "    amplitude=2e-11 * u.Unit(\"1 / (cm2 s TeV)\"),\n",
    "    reference=1 * u.TeV,\n",
    ")\n",
    "spectral_model.parameters[\"index\"].frozen = False\n",
    "\n",
    "sky_model = SkyModel(\n",
    "    spatial_model=None, spectral_model=spectral_model, name=\"pks2155\"\n",
    ")"
   ]
  },
  {
   "cell_type": "markdown",
   "metadata": {},
   "source": [
    "### Assign to model to all datasets\n",
    "\n",
    "We assign each dataset its spectral model"
   ]
  },
  {
   "cell_type": "code",
   "execution_count": 13,
   "metadata": {},
   "outputs": [],
   "source": [
    "for dataset in datasets:\n",
    "    dataset.models = sky_model"
   ]
  },
  {
   "cell_type": "markdown",
   "metadata": {},
   "source": [
    "## Extract the light curve\n",
    "\n",
    "We first create the `~gammapy.time.LightCurveEstimator` for the list of datasets we just produced. We give the estimator the name of the source component to be fitted."
   ]
  },
  {
   "cell_type": "code",
   "execution_count": 14,
   "metadata": {},
   "outputs": [],
   "source": [
    "lc_maker_1d = LightCurveEstimator(datasets, source=\"pks2155\")"
   ]
  },
  {
   "cell_type": "markdown",
   "metadata": {},
   "source": [
    "We can now perform the light curve extraction itself. To compare with the [reference paper](https://ui.adsabs.harvard.edu/abs/2009A%26A...502..749A/abstract), we select the 0.7-20 TeV range."
   ]
  },
  {
   "cell_type": "code",
   "execution_count": 15,
   "metadata": {},
   "outputs": [
    {
     "name": "stdout",
     "output_type": "stream",
     "text": [
      "CPU times: user 5.08 s, sys: 21.1 ms, total: 5.1 s\n",
      "Wall time: 5.1 s\n"
     ]
    }
   ],
   "source": [
    "%%time\n",
    "lc_1d = lc_maker_1d.run(e_ref=1 * u.TeV, e_min=0.7 * u.TeV, e_max=20.0 * u.TeV)"
   ]
  },
  {
   "cell_type": "markdown",
   "metadata": {},
   "source": [
    "Finally we plot the result for the 1D lightcurve:"
   ]
  },
  {
   "cell_type": "code",
   "execution_count": 16,
   "metadata": {},
   "outputs": [
    {
     "data": {
      "text/plain": [
       "<matplotlib.axes._subplots.AxesSubplot at 0x11aed4e80>"
      ]
     },
     "execution_count": 16,
     "metadata": {},
     "output_type": "execute_result"
    },
    {
     "data": {
      "image/png": "[encoded data removed]",
      "text/plain": [
       "<Figure size 432x288 with 1 Axes>"
      ]
     },
     "metadata": {
      "needs_background": "light"
     },
     "output_type": "display_data"
    }
   ],
   "source": [
    "lc_1d.plot(marker=\"o\")"
   ]
  },
  {
   "cell_type": "markdown",
   "metadata": {},
   "source": [
    "# Fitting \n",
    "\n",
    "This starts the new part of the notebook. \n",
    "We try to fit the flare profiles.\n",
    "\n",
    "For sake of simplicity, we only model the first and the last features - they look well behaved! This basically explains how to assign different models to different datasets to do the fitting. With sufficient motivation, the other points can be modelled as well\n",
    "\n",
    "We first use scipy to model the flux points to see if a joint fit might be reasonable"
   ]
  },
  {
   "cell_type": "markdown",
   "metadata": {},
   "source": [
    "## Modeling the flux points with 2 Gaussians - a standard thing "
   ]
  },
  {
   "cell_type": "code",
   "execution_count": 18,
   "metadata": {},
   "outputs": [
    {
     "data": {
      "text/plain": [
       "<matplotlib.axes._subplots.AxesSubplot at 0x11ab67f98>"
      ]
     },
     "execution_count": 18,
     "metadata": {},
     "output_type": "execute_result"
    },
    {
     "data": {
      "image/png": "[encoded data removed]",
      "text/plain": [
       "<Figure size 432x288 with 1 Axes>"
      ]
     },
     "metadata": {
      "needs_background": "light"
     },
     "output_type": "display_data"
    }
   ],
   "source": [
    "from scipy.optimize import curve_fit\n",
    "import matplotlib.pyplot as plt\n",
    "\n",
    "# Extract the two features to be modeled\n",
    "lc_part1 = LightCurve(lc_1d.table[0:16])\n",
    "lc_part1.plot()\n",
    "\n",
    "lc_part2 = LightCurve(lc_1d.table[-15:-1])\n",
    "lc_part2.plot()\n"
   ]
  },
  {
   "cell_type": "code",
   "execution_count": 19,
   "metadata": {},
   "outputs": [],
   "source": [
    "x = np.append(lc_part1._get_times_and_errors()[0], lc_part2._get_times_and_errors()[0])\n",
    "y = np.append(lc_part1.table[\"flux\"].quantity.to_value('1/ (cm2 s)'), lc_part2.table[\"flux\"].quantity.to_value('1/ (cm2 s)'))\n",
    "yerr = np.append(lc_part1.table[\"flux_err\"].quantity.to_value('1/ (cm2 s)'), lc_part2.table[\"flux_err\"].quantity.to_value('1/ (cm2 s)'))"
   ]
  },
  {
   "cell_type": "code",
   "execution_count": 20,
   "metadata": {},
   "outputs": [],
   "source": [
    "def gauss(x, A, tmean, tsig):\n",
    "    return A*np.exp(-(x-tmean)**2/(2.0*tsig**2))"
   ]
  },
  {
   "cell_type": "code",
   "execution_count": 21,
   "metadata": {},
   "outputs": [],
   "source": [
    "def lc(x, A1, m1, s1, A2, m2, s2):\n",
    "    f1 = gauss(x, A1, m1, s1)\n",
    "    f2 = gauss(x, A2, m2, s2)\n",
    "    return (f1+f2)"
   ]
  },
  {
   "cell_type": "code",
   "execution_count": 22,
   "metadata": {},
   "outputs": [
    {
     "name": "stdout",
     "output_type": "stream",
     "text": [
      "[2.10034254e-10 5.39459032e+04 3.06881355e-02 6.71324346e-11\n",
      " 5.39460517e+04 3.44491246e-02]\n"
     ]
    }
   ],
   "source": [
    "popt, pcov = curve_fit(lc, x, y, sigma=yerr, p0=[1e-10, 53945.9, 0.01, 1e-11, 53946.05, 0.03])\n",
    "print(popt)"
   ]
  },
  {
   "cell_type": "code",
   "execution_count": 23,
   "metadata": {},
   "outputs": [],
   "source": [
    "x1 = np.linspace(x[0] ,x[-1] ,100)\n",
    "y1 = lc(x1, popt[0], popt[1], popt[2], popt[3], popt[4], popt[5])"
   ]
  },
  {
   "cell_type": "code",
   "execution_count": 24,
   "metadata": {},
   "outputs": [
    {
     "data": {
      "text/plain": [
       "[<matplotlib.lines.Line2D at 0x11b0287f0>]"
      ]
     },
     "execution_count": 24,
     "metadata": {},
     "output_type": "execute_result"
    },
    {
     "data": {
      "image/png": "[encoded data removed]",
      "text/plain": [
       "<Figure size 432x288 with 1 Axes>"
      ]
     },
     "metadata": {
      "needs_background": "light"
     },
     "output_type": "display_data"
    }
   ],
   "source": [
    "ax = lc_part1.plot(marker=\"o\")\n",
    "ax = lc_part2.plot(marker=\"o\")\n",
    "ax.plot(x1,y1)"
   ]
  },
  {
   "cell_type": "code",
   "execution_count": 25,
   "metadata": {},
   "outputs": [
    {
     "data": {
      "text/plain": [
       "[<matplotlib.lines.Line2D at 0x11b3e85f8>]"
      ]
     },
     "execution_count": 25,
     "metadata": {},
     "output_type": "execute_result"
    },
    {
     "data": {
      "image/png": "[encoded data removed]",
      "text/plain": [
       "<Figure size 432x288 with 1 Axes>"
      ]
     },
     "metadata": {
      "needs_background": "light"
     },
     "output_type": "display_data"
    }
   ],
   "source": [
    "ax = lc_1d.plot(marker=\"o\")\n",
    "ax.plot(x1,y1)"
   ]
  },
  {
   "cell_type": "markdown",
   "metadata": {},
   "source": [
    "Since a sum of 2 Gaussians well models the observed flux points, I try to fit a temporal model to the datasets.\n",
    "\n",
    "## Simultaneous fitting of datasets - fit temporal model"
   ]
  },
  {
   "cell_type": "code",
   "execution_count": 26,
   "metadata": {},
   "outputs": [],
   "source": [
    "from gammapy.modeling.models import GaussianTemporalModel, ExpDecayTemporalModel, ConstantTemporalModel\n",
    "from gammapy.modeling import Fit\n"
   ]
  },
  {
   "cell_type": "code",
   "execution_count": 27,
   "metadata": {},
   "outputs": [],
   "source": [
    "temporal1 = GaussianTemporalModel(t_ref = 53945.9, sigma=10.0*u.min)\n",
    "temporal1.parameters[\"t_ref\"].frozen = False\n",
    "temporal1.parameters[\"t_ref\"].max = 53946.95\n",
    "temporal1.parameters[\"t_ref\"].min = 53945.85\n",
    "\n",
    "temporal2 = GaussianTemporalModel(t_ref = 53946.07, sigma=3.0*u.min)\n",
    "temporal2.parameters[\"t_ref\"].frozen = False\n",
    "temporal2.parameters[\"t_ref\"].max = 53946.10\n",
    "temporal2.parameters[\"t_ref\"].min = 53946.01\n",
    "\n",
    "\n",
    "spectral_model1 = PowerLawSpectralModel(\n",
    "    index=3.4,\n",
    "    amplitude=1e-11 * u.Unit(\"1 / (cm2 s TeV)\"),\n",
    "    reference=1 * u.TeV,\n",
    ")\n",
    "spectral_model1.parameters['index'].frozen = True\n",
    "\n",
    "spectral_model2 = PowerLawSpectralModel(\n",
    "    index=3.4,\n",
    "    amplitude=1e-11 * u.Unit(\"1 / (cm2 s TeV)\"),\n",
    "    reference=1 * u.TeV,\n",
    ")\n",
    "spectral_model2.parameters['index'].frozen = True\n",
    "model1 = SkyModel(spectral_model=spectral_model1, temporal_model=temporal1, name=\"flare1\")\n",
    "model2 = SkyModel(spectral_model=spectral_model2, temporal_model=temporal2, name=\"flare2\")"
   ]
  },
  {
   "cell_type": "code",
   "execution_count": 28,
   "metadata": {},
   "outputs": [],
   "source": [
    "#Attaching the models on the datasets to be fitted\n",
    "datasets_fit = []\n",
    "for ds in datasets[:16]:\n",
    "    ds.models = model1\n",
    "    datasets_fit.append(ds)\n",
    "    \n",
    "for ds in datasets[-15:-1]:\n",
    "    ds.models = model2\n",
    "    datasets_fit.append(ds)\n"
   ]
  },
  {
   "cell_type": "code",
   "execution_count": 29,
   "metadata": {},
   "outputs": [
    {
     "name": "stdout",
     "output_type": "stream",
     "text": [
      "CPU times: user 1min 19s, sys: 194 ms, total: 1min 19s\n",
      "Wall time: 1min 19s\n"
     ]
    }
   ],
   "source": [
    "%%time\n",
    "fit = Fit(datasets_fit)\n",
    "result = fit.optimize()"
   ]
  },
  {
   "cell_type": "code",
   "execution_count": 30,
   "metadata": {},
   "outputs": [
    {
     "data": {
      "text/plain": [
       "True"
      ]
     },
     "execution_count": 30,
     "metadata": {},
     "output_type": "execute_result"
    }
   ],
   "source": [
    "result.success"
   ]
  },
  {
   "cell_type": "code",
   "execution_count": 31,
   "metadata": {},
   "outputs": [
    {
     "data": {
      "text/plain": [
       "350.2685157538987"
      ]
     },
     "execution_count": 31,
     "metadata": {},
     "output_type": "execute_result"
    }
   ],
   "source": [
    "result.total_stat"
   ]
  },
  {
   "cell_type": "code",
   "execution_count": 32,
   "metadata": {},
   "outputs": [
    {
     "data": {
      "text/html": [
       "<i>Table length=10</i>\n",
       "<table id=\"table4888100032\" class=\"table-striped table-bordered table-condensed\">\n",
       "<thead><tr><th>name</th><th>value</th><th>error</th><th>unit</th><th>min</th><th>max</th><th>frozen</th></tr></thead>\n",
       "<thead><tr><th>str9</th><th>float64</th><th>float64</th><th>str14</th><th>float64</th><th>float64</th><th>bool</th></tr></thead>\n",
       "<tr><td>t_ref</td><td>5.395e+04</td><td>nan</td><td></td><td>5.395e+04</td><td>5.395e+04</td><td>False</td></tr>\n",
       "<tr><td>sigma</td><td>3.021e-02</td><td>nan</td><td>d</td><td>nan</td><td>nan</td><td>False</td></tr>\n",
       "<tr><td>index</td><td>3.400e+00</td><td>nan</td><td></td><td>nan</td><td>nan</td><td>True</td></tr>\n",
       "<tr><td>amplitude</td><td>2.177e-10</td><td>nan</td><td>cm-2 s-1 TeV-1</td><td>nan</td><td>nan</td><td>False</td></tr>\n",
       "<tr><td>reference</td><td>1.000e+00</td><td>nan</td><td>TeV</td><td>nan</td><td>nan</td><td>True</td></tr>\n",
       "<tr><td>t_ref</td><td>5.395e+04</td><td>nan</td><td></td><td>5.395e+04</td><td>5.395e+04</td><td>False</td></tr>\n",
       "<tr><td>sigma</td><td>3.515e-02</td><td>nan</td><td>d</td><td>nan</td><td>nan</td><td>False</td></tr>\n",
       "<tr><td>index</td><td>3.400e+00</td><td>nan</td><td></td><td>nan</td><td>nan</td><td>True</td></tr>\n",
       "<tr><td>amplitude</td><td>6.901e-11</td><td>nan</td><td>cm-2 s-1 TeV-1</td><td>nan</td><td>nan</td><td>False</td></tr>\n",
       "<tr><td>reference</td><td>1.000e+00</td><td>nan</td><td>TeV</td><td>nan</td><td>nan</td><td>True</td></tr>\n",
       "</table>"
      ],
      "text/plain": [
       "<Table length=10>\n",
       "   name     value    error       unit         min       max    frozen\n",
       "   str9    float64  float64     str14       float64   float64   bool \n",
       "--------- --------- ------- -------------- --------- --------- ------\n",
       "    t_ref 5.395e+04     nan                5.395e+04 5.395e+04  False\n",
       "    sigma 3.021e-02     nan              d       nan       nan  False\n",
       "    index 3.400e+00     nan                      nan       nan   True\n",
       "amplitude 2.177e-10     nan cm-2 s-1 TeV-1       nan       nan  False\n",
       "reference 1.000e+00     nan            TeV       nan       nan   True\n",
       "    t_ref 5.395e+04     nan                5.395e+04 5.395e+04  False\n",
       "    sigma 3.515e-02     nan              d       nan       nan  False\n",
       "    index 3.400e+00     nan                      nan       nan   True\n",
       "amplitude 6.901e-11     nan cm-2 s-1 TeV-1       nan       nan  False\n",
       "reference 1.000e+00     nan            TeV       nan       nan   True"
      ]
     },
     "execution_count": 32,
     "metadata": {},
     "output_type": "execute_result"
    }
   ],
   "source": [
    "result.parameters.to_table()"
   ]
  },
  {
   "cell_type": "code",
   "execution_count": 33,
   "metadata": {},
   "outputs": [
    {
     "data": {
      "text/plain": [
       "Parameter(name='t_ref', value=53945.90291769685, factor=5.394590291769685, scale=10000.0, unit=Unit(dimensionless), min=53945.85, max=53946.95, frozen=False, id=0x123595978)"
      ]
     },
     "execution_count": 33,
     "metadata": {},
     "output_type": "execute_result"
    }
   ],
   "source": [
    "model1.parameters['t_ref']"
   ]
  },
  {
   "cell_type": "code",
   "execution_count": 34,
   "metadata": {},
   "outputs": [
    {
     "data": {
      "text/plain": [
       "Parameter(name='t_ref', value=53946.051272073506, factor=5.394605127207351, scale=10000.0, unit=Unit(dimensionless), min=53946.01, max=53946.1, frozen=False, id=0x123595c88)"
      ]
     },
     "execution_count": 34,
     "metadata": {},
     "output_type": "execute_result"
    }
   ],
   "source": [
    "model2.parameters['t_ref']"
   ]
  },
  {
   "cell_type": "code",
   "execution_count": 35,
   "metadata": {},
   "outputs": [],
   "source": [
    "cnts = []\n",
    "npreds = []\n",
    "times = []\n",
    "lvtm = []\n",
    "for ds in datasets_fit:\n",
    "    cnts.append(ds.counts.data.sum())\n",
    "    npreds.append(ds.npred().data.sum())\n",
    "    lvtm.append(ds.livetime.value)\n",
    "    times.append((ds.gti.time_start + ds.gti.time_delta/2.0).mjd)"
   ]
  },
  {
   "cell_type": "code",
   "execution_count": 36,
   "metadata": {},
   "outputs": [],
   "source": [
    "residuals = (np.array(cnts) - np.array(npreds))/np.array(npreds)"
   ]
  },
  {
   "cell_type": "code",
   "execution_count": 37,
   "metadata": {
    "scrolled": true
   },
   "outputs": [
    {
     "data": {
      "text/plain": [
       "<matplotlib.lines.Line2D at 0x123cb65f8>"
      ]
     },
     "execution_count": 37,
     "metadata": {},
     "output_type": "execute_result"
    },
    {
     "data": {
      "image/png": "[encoded data removed]",
      "text/plain": [
       "<Figure size 864x288 with 2 Axes>"
      ]
     },
     "metadata": {
      "needs_background": "light"
     },
     "output_type": "display_data"
    }
   ],
   "source": [
    "fig = plt.figure(figsize=(12, 4))\n",
    "\n",
    "ax1 = fig.add_subplot(2, 1, 1)\n",
    "ax1.plot(times, cnts, \"*\")\n",
    "ax1.plot(times, npreds, \"+\")\n",
    "\n",
    "ax2 = fig.add_subplot(2, 1, 2)\n",
    "ax2.plot(times, residuals, \"o\")\n",
    "ax2.axhline(0, color=\"black\", lw=0.5)"
   ]
  },
  {
   "cell_type": "code",
   "execution_count": 38,
   "metadata": {},
   "outputs": [
    {
     "data": {
      "text/plain": [
       "[<matplotlib.lines.Line2D at 0x123ce4e10>]"
      ]
     },
     "execution_count": 38,
     "metadata": {},
     "output_type": "execute_result"
    },
    {
     "data": {
      "image/png": "[encoded data removed]",
      "text/plain": [
       "<Figure size 432x288 with 1 Axes>"
      ]
     },
     "metadata": {
      "needs_background": "light"
     },
     "output_type": "display_data"
    }
   ],
   "source": [
    "plt.plot(times, np.divide(cnts, lvtm), \"*\")\n",
    "plt.plot(times, np.divide(npreds, lvtm), \".\")"
   ]
  },
  {
   "cell_type": "markdown",
   "metadata": {},
   "source": [
    "The fit works well.\n",
    "The power of this method is we can try to do fun things with it.\n",
    "Eg: Try to see if there are spectral changes between the flares"
   ]
  },
  {
   "cell_type": "code",
   "execution_count": 39,
   "metadata": {},
   "outputs": [],
   "source": [
    "# Free the spectral parameter\n",
    "model1.spectral_model.parameters['index'].frozen = False\n",
    "model2.spectral_model.parameters['index'].frozen = False"
   ]
  },
  {
   "cell_type": "code",
   "execution_count": 40,
   "metadata": {},
   "outputs": [
    {
     "name": "stdout",
     "output_type": "stream",
     "text": [
      "CPU times: user 28.8 s, sys: 76.5 ms, total: 28.9 s\n",
      "Wall time: 28.9 s\n"
     ]
    }
   ],
   "source": [
    "%%time\n",
    "fit = Fit(datasets_fit)\n",
    "result = fit.optimize()"
   ]
  },
  {
   "cell_type": "code",
   "execution_count": 41,
   "metadata": {},
   "outputs": [
    {
     "data": {
      "text/plain": [
       "True"
      ]
     },
     "execution_count": 41,
     "metadata": {},
     "output_type": "execute_result"
    }
   ],
   "source": [
    "result.success"
   ]
  },
  {
   "cell_type": "code",
   "execution_count": 42,
   "metadata": {},
   "outputs": [
    {
     "data": {
      "text/plain": [
       "296.82118702692577"
      ]
     },
     "execution_count": 42,
     "metadata": {},
     "output_type": "execute_result"
    }
   ],
   "source": [
    "result.total_stat"
   ]
  },
  {
   "cell_type": "code",
   "execution_count": 43,
   "metadata": {},
   "outputs": [
    {
     "data": {
      "text/html": [
       "<i>Table length=10</i>\n",
       "<table id=\"table4897933128\" class=\"table-striped table-bordered table-condensed\">\n",
       "<thead><tr><th>name</th><th>value</th><th>error</th><th>unit</th><th>min</th><th>max</th><th>frozen</th></tr></thead>\n",
       "<thead><tr><th>str9</th><th>float64</th><th>float64</th><th>str14</th><th>float64</th><th>float64</th><th>bool</th></tr></thead>\n",
       "<tr><td>t_ref</td><td>5.395e+04</td><td>nan</td><td></td><td>5.395e+04</td><td>5.395e+04</td><td>False</td></tr>\n",
       "<tr><td>sigma</td><td>3.151e-02</td><td>nan</td><td>d</td><td>nan</td><td>nan</td><td>False</td></tr>\n",
       "<tr><td>index</td><td>3.572e+00</td><td>nan</td><td></td><td>nan</td><td>nan</td><td>False</td></tr>\n",
       "<tr><td>amplitude</td><td>2.007e-10</td><td>nan</td><td>cm-2 s-1 TeV-1</td><td>nan</td><td>nan</td><td>False</td></tr>\n",
       "<tr><td>reference</td><td>1.000e+00</td><td>nan</td><td>TeV</td><td>nan</td><td>nan</td><td>True</td></tr>\n",
       "<tr><td>t_ref</td><td>5.395e+04</td><td>nan</td><td></td><td>5.395e+04</td><td>5.395e+04</td><td>False</td></tr>\n",
       "<tr><td>sigma</td><td>3.516e-02</td><td>nan</td><td>d</td><td>nan</td><td>nan</td><td>False</td></tr>\n",
       "<tr><td>index</td><td>3.763e+00</td><td>nan</td><td></td><td>nan</td><td>nan</td><td>False</td></tr>\n",
       "<tr><td>amplitude</td><td>5.635e-11</td><td>nan</td><td>cm-2 s-1 TeV-1</td><td>nan</td><td>nan</td><td>False</td></tr>\n",
       "<tr><td>reference</td><td>1.000e+00</td><td>nan</td><td>TeV</td><td>nan</td><td>nan</td><td>True</td></tr>\n",
       "</table>"
      ],
      "text/plain": [
       "<Table length=10>\n",
       "   name     value    error       unit         min       max    frozen\n",
       "   str9    float64  float64     str14       float64   float64   bool \n",
       "--------- --------- ------- -------------- --------- --------- ------\n",
       "    t_ref 5.395e+04     nan                5.395e+04 5.395e+04  False\n",
       "    sigma 3.151e-02     nan              d       nan       nan  False\n",
       "    index 3.572e+00     nan                      nan       nan  False\n",
       "amplitude 2.007e-10     nan cm-2 s-1 TeV-1       nan       nan  False\n",
       "reference 1.000e+00     nan            TeV       nan       nan   True\n",
       "    t_ref 5.395e+04     nan                5.395e+04 5.395e+04  False\n",
       "    sigma 3.516e-02     nan              d       nan       nan  False\n",
       "    index 3.763e+00     nan                      nan       nan  False\n",
       "amplitude 5.635e-11     nan cm-2 s-1 TeV-1       nan       nan  False\n",
       "reference 1.000e+00     nan            TeV       nan       nan   True"
      ]
     },
     "execution_count": 43,
     "metadata": {},
     "output_type": "execute_result"
    }
   ],
   "source": [
    "result.parameters.to_table()"
   ]
  },
  {
   "cell_type": "code",
   "execution_count": 44,
   "metadata": {},
   "outputs": [
    {
     "data": {
      "image/png": "[encoded data removed]",
      "text/plain": [
       "<Figure size 864x288 with 2 Axes>"
      ]
     },
     "metadata": {
      "needs_background": "light"
     },
     "output_type": "display_data"
    }
   ],
   "source": [
    "cnts = []\n",
    "npreds = []\n",
    "times = []\n",
    "lvtm = []\n",
    "for ds in datasets_fit:\n",
    "    cnts.append(ds.counts.data.sum())\n",
    "    npreds.append(ds.npred().data.sum())\n",
    "    lvtm.append(ds.livetime.value)\n",
    "    times.append((ds.gti.time_start + ds.gti.time_delta/2.0).mjd)\n",
    "residuals = (np.array(cnts) - np.array(npreds))/np.array(npreds)\n",
    "fig = plt.figure(figsize=(12, 4))\n",
    "\n",
    "ax1 = fig.add_subplot(2, 1, 1)\n",
    "ax1.plot(times, cnts, \"*\", label=\"observed\")\n",
    "ax1.plot(times, npreds, \"+\",  label=\"npred\")\n",
    "ax1.set_ylabel(\"counts\")\n",
    "ax1.legend()\n",
    "\n",
    "\n",
    "ax2 = fig.add_subplot(2, 1, 2)\n",
    "ax2.plot(times, residuals, \"o\")\n",
    "ax2.axhline(0, color=\"black\", lw=0.5)\n",
    "ax2.set_ylabel(\"residuals\")\n",
    "ax1.set_xlabel(\"time\");"
   ]
  },
  {
   "cell_type": "code",
   "execution_count": 45,
   "metadata": {},
   "outputs": [
    {
     "data": {
      "text/plain": [
       "[<matplotlib.lines.Line2D at 0x1240460b8>]"
      ]
     },
     "execution_count": 45,
     "metadata": {},
     "output_type": "execute_result"
    },
    {
     "data": {
      "image/png": "[encoded data removed]",
      "text/plain": [
       "<Figure size 432x288 with 1 Axes>"
      ]
     },
     "metadata": {
      "needs_background": "light"
     },
     "output_type": "display_data"
    }
   ],
   "source": [
    "plt.plot(times, np.divide(cnts, lvtm), \"*\")\n",
    "plt.plot(times, np.divide(npreds, lvtm), \".\")"
   ]
  }
 ],
 "metadata": {
  "kernelspec": {
   "display_name": "Python 3",
   "language": "python",
   "name": "python3"
  },
  "language_info": {
   "codemirror_mode": {
    "name": "ipython",
    "version": 3
   },
   "file_extension": ".py",
   "mimetype": "text/x-python",
   "name": "python",
   "nbconvert_exporter": "python",
   "pygments_lexer": "ipython3",
   "version": "3.7.0"
  }
 },
 "nbformat": 4,
 "nbformat_minor": 4
}
