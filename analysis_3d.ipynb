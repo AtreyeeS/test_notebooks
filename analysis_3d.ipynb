{
 "cells": [
  {
   "cell_type": "markdown",
   "metadata": {},
   "source": [
    "# 3D detailed analysis\n",
    "\n",
    "This tutorial does a 3D map based analsis on the galactic center, using simulated observations from the CTA-1DC. We will use the high level interface for the data reduction, and then do a detailed modelling. This will be done in two different ways:\n",
    "\n",
    "- stacking all the maps together and fitting the stacked maps\n",
    "- handling all the observations separately and doing a joint fitting on all the maps"
   ]
  },
  {
   "cell_type": "code",
   "execution_count": 1,
   "metadata": {},
   "outputs": [],
   "source": [
    "%matplotlib inline\n",
    "import matplotlib.pyplot as plt\n",
    "import numpy as np\n",
    "import astropy.units as u\n",
    "from pathlib import Path\n",
    "from regions import CircleSkyRegion\n",
    "from scipy.stats import norm\n",
    "from gammapy.analysis import Analysis, AnalysisConfig\n",
    "from gammapy.modeling.models import (\n",
    "    SkyModel,\n",
    "    ExpCutoffPowerLawSpectralModel,\n",
    "    PointSpatialModel,\n",
    "    FoVBackgroundModel,\n",
    "    Models,\n",
    ")\n",
    "from gammapy.modeling import Fit\n",
    "from gammapy.maps import Map\n",
    "from gammapy.estimators import ExcessMapEstimator\n",
    "from gammapy.datasets import MapDataset"
   ]
  },
  {
   "cell_type": "markdown",
   "metadata": {},
   "source": [
    "## Analysis configuration"
   ]
  },
  {
   "cell_type": "markdown",
   "metadata": {},
   "source": [
    "In this section we select observations and define the analysis geometries, irrespective of  joint/stacked analysis. For configuration of the analysis, we will programatically build a config file from scratch."
   ]
  },
  {
   "cell_type": "code",
   "execution_count": 2,
   "metadata": {},
   "outputs": [
    {
     "name": "stdout",
     "output_type": "stream",
     "text": [
      "AnalysisConfig\n",
      "\n",
      "    general:\n",
      "        log: {level: info, filename: null, filemode: null, format: null, datefmt: null}\n",
      "        outdir: .\n",
      "    observations:\n",
      "        datastore: $GAMMAPY_DATA/hess-dl3-dr1\n",
      "        obs_ids: []\n",
      "        obs_file: null\n",
      "        obs_cone: {frame: null, lon: null, lat: null, radius: null}\n",
      "        obs_time: {start: null, stop: null}\n",
      "        required_irf: [aeff, edisp, psf, bkg]\n",
      "    datasets:\n",
      "        type: 1d\n",
      "        stack: true\n",
      "        geom:\n",
      "            wcs:\n",
      "                skydir: {frame: null, lon: null, lat: null}\n",
      "                binsize: 0.02 deg\n",
      "                width: {width: 5.0 deg, height: 5.0 deg}\n",
      "                binsize_irf: 0.2 deg\n",
      "            selection: {offset_max: 2.5 deg}\n",
      "            axes:\n",
      "                energy: {min: 1.0 TeV, max: 10.0 TeV, nbins: 5}\n",
      "                energy_true: {min: 0.5 TeV, max: 20.0 TeV, nbins: 16}\n",
      "        map_selection: [counts, exposure, background, psf, edisp]\n",
      "        background:\n",
      "            method: null\n",
      "            exclusion: null\n",
      "            parameters: {}\n",
      "        safe_mask:\n",
      "            methods: [aeff-default]\n",
      "            parameters: {}\n",
      "        on_region: {frame: null, lon: null, lat: null, radius: null}\n",
      "        containment_correction: true\n",
      "    fit:\n",
      "        fit_range: {min: null, max: null}\n",
      "    flux_points:\n",
      "        energy: {min: null, max: null, nbins: null}\n",
      "        source: source\n",
      "        parameters: {selection_optional: all}\n",
      "    excess_map:\n",
      "        correlation_radius: 0.1 deg\n",
      "        parameters: {}\n",
      "        energy_edges: {min: null, max: null, nbins: null}\n",
      "    light_curve:\n",
      "        time_intervals: {start: null, stop: null}\n",
      "        energy_edges: {min: null, max: null, nbins: null}\n",
      "        source: source\n",
      "        parameters: {selection_optional: all}\n",
      "    \n"
     ]
    }
   ],
   "source": [
    "config = AnalysisConfig()\n",
    "# The config file is now empty, with only a few defaults specified.\n",
    "print(config)"
   ]
  },
  {
   "cell_type": "code",
   "execution_count": 3,
   "metadata": {},
   "outputs": [],
   "source": [
    "# Selecting the observations\n",
    "config.observations.datastore = \"$GAMMAPY_DATA/cta-1dc/index/gps/\"\n",
    "config.observations.obs_ids = [110380, 111140, 111159]"
   ]
  },
  {
   "cell_type": "code",
   "execution_count": 4,
   "metadata": {},
   "outputs": [],
   "source": [
    "# Defining a reference geometry for the reduced datasets\n",
    "\n",
    "config.datasets.type = \"3d\"  # Analysis type is 3D\n",
    "\n",
    "config.datasets.geom.wcs.skydir = {\n",
    "    \"lon\": \"0 deg\",\n",
    "    \"lat\": \"0 deg\",\n",
    "    \"frame\": \"galactic\",\n",
    "}  # The WCS geometry - centered on the galactic center\n",
    "config.datasets.geom.wcs.width = {\"width\": \"10 deg\", \"height\": \"8 deg\"}\n",
    "config.datasets.geom.wcs.binsize = \"0.02 deg\"\n",
    "\n",
    "# Cutout size (for the run-wise event selection)\n",
    "config.datasets.geom.selection.offset_max = 3.5 * u.deg\n",
    "config.datasets.safe_mask.methods = [\"aeff-default\", \"offset-max\"]\n",
    "\n",
    "# We now fix the energy axis for the counts map - (the reconstructed energy binning)\n",
    "config.datasets.geom.axes.energy.min = \"0.1 TeV\"\n",
    "config.datasets.geom.axes.energy.max = \"10 TeV\"\n",
    "config.datasets.geom.axes.energy.nbins = 10\n",
    "\n",
    "# We now fix the energy axis for the IRF maps (exposure, etc) - (the true enery binning)\n",
    "config.datasets.geom.axes.energy_true.min = \"0.08 TeV\"\n",
    "config.datasets.geom.axes.energy_true.max = \"12 TeV\"\n",
    "config.datasets.geom.axes.energy_true.nbins = 14"
   ]
  },
  {
   "cell_type": "code",
   "execution_count": 5,
   "metadata": {},
   "outputs": [
    {
     "name": "stdout",
     "output_type": "stream",
     "text": [
      "AnalysisConfig\n",
      "\n",
      "    general:\n",
      "        log: {level: info, filename: null, filemode: null, format: null, datefmt: null}\n",
      "        outdir: .\n",
      "    observations:\n",
      "        datastore: $GAMMAPY_DATA/cta-1dc/index/gps\n",
      "        obs_ids: [110380, 111140, 111159]\n",
      "        obs_file: null\n",
      "        obs_cone: {frame: null, lon: null, lat: null, radius: null}\n",
      "        obs_time: {start: null, stop: null}\n",
      "        required_irf: [aeff, edisp, psf, bkg]\n",
      "    datasets:\n",
      "        type: 3d\n",
      "        stack: true\n",
      "        geom:\n",
      "            wcs:\n",
      "                skydir: {frame: galactic, lon: 0.0 deg, lat: 0.0 deg}\n",
      "                binsize: 0.02 deg\n",
      "                width: {width: 10.0 deg, height: 8.0 deg}\n",
      "                binsize_irf: 0.2 deg\n",
      "            selection: {offset_max: 3.5 deg}\n",
      "            axes:\n",
      "                energy: {min: 0.1 TeV, max: 10.0 TeV, nbins: 10}\n",
      "                energy_true: {min: 0.08 TeV, max: 12.0 TeV, nbins: 14}\n",
      "        map_selection: [counts, exposure, background, psf, edisp]\n",
      "        background:\n",
      "            method: null\n",
      "            exclusion: null\n",
      "            parameters: {}\n",
      "        safe_mask:\n",
      "            methods: [aeff-default, offset-max]\n",
      "            parameters: {}\n",
      "        on_region: {frame: null, lon: null, lat: null, radius: null}\n",
      "        containment_correction: true\n",
      "    fit:\n",
      "        fit_range: {min: null, max: null}\n",
      "    flux_points:\n",
      "        energy: {min: null, max: null, nbins: null}\n",
      "        source: source\n",
      "        parameters: {selection_optional: all}\n",
      "    excess_map:\n",
      "        correlation_radius: 0.1 deg\n",
      "        parameters: {}\n",
      "        energy_edges: {min: null, max: null, nbins: null}\n",
      "    light_curve:\n",
      "        time_intervals: {start: null, stop: null}\n",
      "        energy_edges: {min: null, max: null, nbins: null}\n",
      "        source: source\n",
      "        parameters: {selection_optional: all}\n",
      "    \n"
     ]
    }
   ],
   "source": [
    "print(config)"
   ]
  },
  {
   "cell_type": "markdown",
   "metadata": {},
   "source": [
    "## Configuration for stacked and joint analysis\n",
    "\n",
    "This is done just by specfiying the flag on `config.datasets.stack`. Since the internal machinery will work differently for the two cases, we will write it as two config files and save it to disc in YAML format for future reference. "
   ]
  },
  {
   "cell_type": "code",
   "execution_count": 6,
   "metadata": {},
   "outputs": [],
   "source": [
    "config_stack = config.copy(deep=True)\n",
    "config_stack.datasets.stack = True\n",
    "\n",
    "config_joint = config.copy(deep=True)\n",
    "config_joint.datasets.stack = False"
   ]
  },
  {
   "cell_type": "code",
   "execution_count": 7,
   "metadata": {},
   "outputs": [],
   "source": [
    "# To prevent unnecessary cluttering, we write it in a separate folder.\n",
    "path = Path(\"analysis_3d\")\n",
    "path.mkdir(exist_ok=True)\n",
    "config_joint.write(path=path / \"config_joint.yaml\", overwrite=True)\n",
    "config_stack.write(path=path / \"config_stack.yaml\", overwrite=True)"
   ]
  },
  {
   "cell_type": "markdown",
   "metadata": {},
   "source": [
    "## Stacked analysis\n",
    "\n",
    "### Data reduction\n",
    "\n",
    "We first show the steps for the stacked analysis and then repeat the same for the joint analysis later\n"
   ]
  },
  {
   "cell_type": "code",
   "execution_count": 8,
   "metadata": {},
   "outputs": [],
   "source": [
    "# Reading yaml file:\n",
    "config_stacked = AnalysisConfig.read(path=path / \"config_stack.yaml\")"
   ]
  },
  {
   "cell_type": "code",
   "execution_count": 9,
   "metadata": {},
   "outputs": [
    {
     "name": "stderr",
     "output_type": "stream",
     "text": [
      "Setting logging config: {'level': 'INFO', 'filename': None, 'filemode': None, 'format': None, 'datefmt': None}\n"
     ]
    }
   ],
   "source": [
    "analysis_stacked = Analysis(config_stacked)"
   ]
  },
  {
   "cell_type": "code",
   "execution_count": 10,
   "metadata": {},
   "outputs": [
    {
     "name": "stderr",
     "output_type": "stream",
     "text": [
      "Fetching observations.\n",
      "Number of selected observations: 3\n",
      "Creating reference dataset and makers.\n",
      "Creating the background Maker.\n",
      "No background maker set. Check configuration.\n",
      "Start the data reduction loop.\n",
      "Invalid unit found in background table! Assuming (s-1 MeV-1 sr-1)\n",
      "Invalid unit found in background table! Assuming (s-1 MeV-1 sr-1)\n",
      "No default thresholds defined for obs 110380\n",
      "Invalid unit found in background table! Assuming (s-1 MeV-1 sr-1)\n",
      "Invalid unit found in background table! Assuming (s-1 MeV-1 sr-1)\n",
      "No default thresholds defined for obs 111140\n",
      "Invalid unit found in background table! Assuming (s-1 MeV-1 sr-1)\n",
      "Invalid unit found in background table! Assuming (s-1 MeV-1 sr-1)\n",
      "No default thresholds defined for obs 111159\n"
     ]
    },
    {
     "name": "stdout",
     "output_type": "stream",
     "text": [
      "CPU times: user 8.28 s, sys: 1.62 s, total: 9.89 s\n",
      "Wall time: 9.89 s\n"
     ]
    }
   ],
   "source": [
    "%%time\n",
    "# select observations:\n",
    "analysis_stacked.get_observations()\n",
    "\n",
    "# run data reduction\n",
    "analysis_stacked.get_datasets()"
   ]
  },
  {
   "cell_type": "code",
   "execution_count": 11,
   "metadata": {},
   "outputs": [
    {
     "name": "stdout",
     "output_type": "stream",
     "text": [
      "MapDataset\n",
      "----------\n",
      "\n",
      "  Name                            : stacked \n",
      "\n",
      "  Total counts                    : 121241 \n",
      "  Total background counts         : 108043.52\n",
      "  Total excess counts             : 13197.48\n",
      "\n",
      "  Predicted counts                : 108043.52\n",
      "  Predicted background counts     : 108043.52\n",
      "  Predicted excess counts         : nan\n",
      "\n",
      "  Exposure min                    : 6.28e+07 m2 s\n",
      "  Exposure max                    : 1.90e+10 m2 s\n",
      "\n",
      "  Number of total bins            : 2000000 \n",
      "  Number of fit bins              : 1411180 \n",
      "\n",
      "  Fit statistic type              : cash\n",
      "  Fit statistic value (-2 log(L)) : nan\n",
      "\n",
      "  Number of models                : 0 \n",
      "  Number of parameters            : 0\n",
      "  Number of free parameters       : 0\n",
      "\n",
      "\n"
     ]
    }
   ],
   "source": [
    "dataset_stacked = analysis_stacked.datasets[\"stacked\"]\n",
    "print(dataset_stacked)"
   ]
  },
  {
   "cell_type": "markdown",
   "metadata": {},
   "source": [
    "### Modeling and fitting\n",
    "\n",
    "Now comes the interesting part of the analysis - choosing appropriate models for our source and fitting them.\n",
    "\n",
    "We choose a point source model with an exponential cutoff power-law spectrum."
   ]
  },
  {
   "cell_type": "code",
   "execution_count": 12,
   "metadata": {},
   "outputs": [],
   "source": [
    "dataset_stacked.mask_fit = dataset_stacked.counts.geom.energy_mask(energy_min=0.3*u.TeV,\n",
    "                            energy_max=None)"
   ]
  },
  {
   "cell_type": "code",
   "execution_count": 13,
   "metadata": {},
   "outputs": [],
   "source": [
    "bkg_model = FoVBackgroundModel(dataset_name=\"stacked\")\n",
    "bkg_model.spectral_model.norm.value = 1.3\n",
    "\n",
    "models_stacked = Models([bkg_model])\n",
    "dataset_stacked.models = models_stacked"
   ]
  },
  {
   "cell_type": "code",
   "execution_count": 14,
   "metadata": {},
   "outputs": [
    {
     "name": "stdout",
     "output_type": "stream",
     "text": [
      "------------------------------------------------------------------\n",
      "| FCN = 1.817e+05               |      Ncalls=21 (21 total)      |\n",
      "| EDM = 1.77e-07 (Goal: 0.0002) |            up = 1.0            |\n",
      "------------------------------------------------------------------\n",
      "|  Valid Min.   | Valid Param.  | Above EDM | Reached call limit |\n",
      "------------------------------------------------------------------\n",
      "|     True      |     True      |   False   |       False        |\n",
      "------------------------------------------------------------------\n",
      "| Hesse failed  |   Has cov.    | Accurate  | Pos. def. | Forced |\n",
      "------------------------------------------------------------------\n",
      "|     False     |     True      |   True    |   True    | False  |\n",
      "------------------------------------------------------------------\n",
      "CPU times: user 1.11 s, sys: 171 ms, total: 1.28 s\n",
      "Wall time: 1.29 s\n"
     ]
    }
   ],
   "source": [
    "%%time\n",
    "fit = Fit(optimize_opts={\"print_level\": 1})\n",
    "result = fit.run(datasets=[dataset_stacked])"
   ]
  },
  {
   "cell_type": "code",
   "execution_count": 15,
   "metadata": {},
   "outputs": [],
   "source": [
    "L0 = dataset_stacked.stat_sum()"
   ]
  },
  {
   "cell_type": "code",
   "execution_count": 16,
   "metadata": {},
   "outputs": [
    {
     "name": "stdout",
     "output_type": "stream",
     "text": [
      "  type      name     value    unit   error   min max frozen\n",
      "-------- --------- ---------- ---- --------- --- --- ------\n",
      "spectral      norm 1.3678e+00      9.373e-03 nan nan  False\n",
      "spectral      tilt 0.0000e+00      0.000e+00 nan nan   True\n",
      "spectral reference 1.0000e+00  TeV 0.000e+00 nan nan   True\n"
     ]
    }
   ],
   "source": [
    "models_stacked.parameters.to_table().pprint_all()"
   ]
  },
  {
   "cell_type": "code",
   "execution_count": 17,
   "metadata": {},
   "outputs": [],
   "source": [
    "spatial_model = PointSpatialModel(\n",
    "    lon_0=\"-0.05 deg\", lat_0=\"-0.05 deg\", frame=\"galactic\"\n",
    ")\n",
    "spectral_model = ExpCutoffPowerLawSpectralModel(\n",
    "    index=2.3,\n",
    "    amplitude=2.8e-12 * u.Unit(\"cm-2 s-1 TeV-1\"),\n",
    "    reference=1.0 * u.TeV,\n",
    "    lambda_=0.02 / u.TeV,\n",
    ")\n",
    "\n",
    "model = SkyModel(\n",
    "    spatial_model=spatial_model,\n",
    "    spectral_model=spectral_model,\n",
    "    name=\"gc-source\",\n",
    ")\n",
    "\n",
    "\n",
    "models_stacked = Models([model, bkg_model])\n",
    "\n",
    "dataset_stacked.models = models_stacked"
   ]
  },
  {
   "cell_type": "code",
   "execution_count": 18,
   "metadata": {},
   "outputs": [
    {
     "name": "stdout",
     "output_type": "stream",
     "text": [
      "------------------------------------------------------------------\n",
      "| FCN = 1.805e+05               |     Ncalls=190 (190 total)     |\n",
      "| EDM = 3.36e-05 (Goal: 0.0002) |            up = 1.0            |\n",
      "------------------------------------------------------------------\n",
      "|  Valid Min.   | Valid Param.  | Above EDM | Reached call limit |\n",
      "------------------------------------------------------------------\n",
      "|     True      |     True      |   False   |       False        |\n",
      "------------------------------------------------------------------\n",
      "| Hesse failed  |   Has cov.    | Accurate  | Pos. def. | Forced |\n",
      "------------------------------------------------------------------\n",
      "|     False     |     True      |   True    |   True    | False  |\n",
      "------------------------------------------------------------------\n",
      "CPU times: user 12.8 s, sys: 1.48 s, total: 14.2 s\n",
      "Wall time: 14.4 s\n"
     ]
    }
   ],
   "source": [
    "%%time\n",
    "fit = Fit(optimize_opts={\"print_level\": 1})\n",
    "result = fit.run(datasets=[dataset_stacked])"
   ]
  },
  {
   "cell_type": "code",
   "execution_count": 19,
   "metadata": {},
   "outputs": [
    {
     "name": "stdout",
     "output_type": "stream",
     "text": [
      "1284.9229974735354\n"
     ]
    }
   ],
   "source": [
    "L1 = dataset_stacked.stat_sum()\n",
    "del_TS = L0-L1\n",
    "print(del_TS)"
   ]
  },
  {
   "cell_type": "code",
   "execution_count": 20,
   "metadata": {},
   "outputs": [
    {
     "name": "stdout",
     "output_type": "stream",
     "text": [
      "  type      name      value         unit        error      min        max    frozen\n",
      "-------- --------- ----------- -------------- --------- ---------- --------- ------\n",
      "spectral     index  2.4141e+00                1.523e-01        nan       nan  False\n",
      "spectral amplitude  2.6635e-12 cm-2 s-1 TeV-1 3.104e-13        nan       nan  False\n",
      "spectral reference  1.0000e+00            TeV 0.000e+00        nan       nan   True\n",
      "spectral   lambda_ -1.3283e-02          TeV-1 6.840e-02        nan       nan  False\n",
      "spectral     alpha  1.0000e+00                0.000e+00        nan       nan   True\n",
      " spatial     lon_0 -4.8064e-02            deg 2.597e-03        nan       nan  False\n",
      " spatial     lat_0 -5.2606e-02            deg 2.256e-03 -9.000e+01 9.000e+01  False\n",
      "spectral      norm  1.3481e+00                9.314e-03        nan       nan  False\n",
      "spectral      tilt  0.0000e+00                0.000e+00        nan       nan   True\n",
      "spectral reference  1.0000e+00            TeV 0.000e+00        nan       nan   True\n"
     ]
    }
   ],
   "source": [
    "models_stacked.parameters.to_table().pprint_all()"
   ]
  },
  {
   "cell_type": "markdown",
   "metadata": {},
   "source": [
    "## Estimators"
   ]
  },
  {
   "cell_type": "code",
   "execution_count": 21,
   "metadata": {},
   "outputs": [],
   "source": [
    "from gammapy.estimators import FluxPointsEstimator"
   ]
  },
  {
   "cell_type": "code",
   "execution_count": 22,
   "metadata": {},
   "outputs": [
    {
     "data": {
      "text/latex": [
       "$[0.1,~0.15848932,~0.25118864,~0.39810717,~0.63095734,~1,~1.5848932,~2.5118864,~3.9810717,~6.3095734,~10] \\; \\mathrm{TeV}$"
      ],
      "text/plain": [
       "<Quantity [ 0.1       ,  0.15848932,  0.25118864,  0.39810717,  0.63095734,\n",
       "            1.        ,  1.58489319,  2.51188643,  3.98107171,  6.30957344,\n",
       "           10.        ] TeV>"
      ]
     },
     "execution_count": 22,
     "metadata": {},
     "output_type": "execute_result"
    }
   ],
   "source": [
    "e_min, e_max = 0.1, 10\n",
    "energy_edges = np.geomspace(e_min, e_max, 11) * u.TeV\n",
    "energy_edges"
   ]
  },
  {
   "cell_type": "markdown",
   "metadata": {},
   "source": [
    "### Reoptimize = false"
   ]
  },
  {
   "cell_type": "code",
   "execution_count": 23,
   "metadata": {},
   "outputs": [],
   "source": [
    "fpe = FluxPointsEstimator(energy_edges=energy_edges, source='gc-source')\n",
    "flux_points = fpe.run(dataset_stacked)"
   ]
  },
  {
   "cell_type": "code",
   "execution_count": 24,
   "metadata": {},
   "outputs": [
    {
     "data": {
      "text/plain": [
       "array([[[         nan]],\n",
       "\n",
       "       [[         nan]],\n",
       "\n",
       "       [[         nan]],\n",
       "\n",
       "       [[273.48086524]],\n",
       "\n",
       "       [[215.86683331]],\n",
       "\n",
       "       [[184.29113013]],\n",
       "\n",
       "       [[241.17497767]],\n",
       "\n",
       "       [[147.29497937]],\n",
       "\n",
       "       [[146.38933979]],\n",
       "\n",
       "       [[ 84.00263254]]])"
      ]
     },
     "execution_count": 24,
     "metadata": {},
     "output_type": "execute_result"
    }
   ],
   "source": [
    "flux_points.ts.data"
   ]
  },
  {
   "cell_type": "code",
   "execution_count": 25,
   "metadata": {},
   "outputs": [
    {
     "data": {
      "text/plain": [
       "(1292.5007580424972, 1284.9229974735354)"
      ]
     },
     "execution_count": 25,
     "metadata": {},
     "output_type": "execute_result"
    }
   ],
   "source": [
    "np.nansum(flux_points.ts.data), del_TS"
   ]
  },
  {
   "cell_type": "markdown",
   "metadata": {},
   "source": [
    "### Reoptimize = true"
   ]
  },
  {
   "cell_type": "code",
   "execution_count": 26,
   "metadata": {},
   "outputs": [
    {
     "name": "stderr",
     "output_type": "stream",
     "text": [
      "Position <SkyCoord (Galactic): (l, b) in deg\n",
      "    (6.43293418, -0.0434748)> is outside valid IRF map range, using nearest IRF defined within\n",
      "Position <SkyCoord (Galactic): (l, b) in deg\n",
      "    (6.43293418, -0.0434748)> is outside valid IRF map range, using nearest IRF defined within\n",
      "Position <SkyCoord (Galactic): (l, b) in deg\n",
      "    (353.46943944, -0.0434748)> is outside valid IRF map range, using nearest IRF defined within\n",
      "Position <SkyCoord (Galactic): (l, b) in deg\n",
      "    (353.46943944, -0.0434748)> is outside valid IRF map range, using nearest IRF defined within\n",
      "Position <SkyCoord (Galactic): (l, b) in deg\n",
      "    (64.76866052, -0.0434748)> is outside valid IRF map range, using nearest IRF defined within\n",
      "Position <SkyCoord (Galactic): (l, b) in deg\n",
      "    (64.76866052, -0.0434748)> is outside valid IRF map range, using nearest IRF defined within\n",
      "Position <SkyCoord (Galactic): (l, b) in deg\n",
      "    (295.13371311, -0.0434748)> is outside valid IRF map range, using nearest IRF defined within\n",
      "Position <SkyCoord (Galactic): (l, b) in deg\n",
      "    (295.13371311, -0.0434748)> is outside valid IRF map range, using nearest IRF defined within\n",
      "Position <SkyCoord (Galactic): (l, b) in deg\n",
      "    (288.12592385, -0.0434748)> is outside valid IRF map range, using nearest IRF defined within\n",
      "Position <SkyCoord (Galactic): (l, b) in deg\n",
      "    (288.12592385, -0.0434748)> is outside valid IRF map range, using nearest IRF defined within\n",
      "Position <SkyCoord (Galactic): (l, b) in deg\n",
      "    (71.77644978, -0.0434748)> is outside valid IRF map range, using nearest IRF defined within\n",
      "Position <SkyCoord (Galactic): (l, b) in deg\n",
      "    (71.77644978, -0.0434748)> is outside valid IRF map range, using nearest IRF defined within\n",
      "Position <SkyCoord (Galactic): (l, b) in deg\n",
      "    (5.26688568, -0.04355011)> is outside valid IRF map range, using nearest IRF defined within\n",
      "Position <SkyCoord (Galactic): (l, b) in deg\n",
      "    (5.26688568, -0.04355011)> is outside valid IRF map range, using nearest IRF defined within\n",
      "Position <SkyCoord (Galactic): (l, b) in deg\n",
      "    (354.645548, -0.04355011)> is outside valid IRF map range, using nearest IRF defined within\n",
      "Position <SkyCoord (Galactic): (l, b) in deg\n",
      "    (354.645548, -0.04355011)> is outside valid IRF map range, using nearest IRF defined within\n",
      "Position <SkyCoord (Galactic): (l, b) in deg\n",
      "    (53.0629052, -0.04355011)> is outside valid IRF map range, using nearest IRF defined within\n",
      "Position <SkyCoord (Galactic): (l, b) in deg\n",
      "    (53.0629052, -0.04355011)> is outside valid IRF map range, using nearest IRF defined within\n",
      "Position <SkyCoord (Galactic): (l, b) in deg\n",
      "    (306.84952848, -0.04355011)> is outside valid IRF map range, using nearest IRF defined within\n",
      "Position <SkyCoord (Galactic): (l, b) in deg\n",
      "    (306.84952848, -0.04355011)> is outside valid IRF map range, using nearest IRF defined within\n",
      "Position <SkyCoord (Galactic): (l, b) in deg\n",
      "    (171.02310044, -0.04355011)> is outside valid IRF map range, using nearest IRF defined within\n",
      "Position <SkyCoord (Galactic): (l, b) in deg\n",
      "    (171.02310044, -0.04355011)> is outside valid IRF map range, using nearest IRF defined within\n",
      "Position <SkyCoord (Galactic): (l, b) in deg\n",
      "    (188.88933324, -0.04355011)> is outside valid IRF map range, using nearest IRF defined within\n",
      "Position <SkyCoord (Galactic): (l, b) in deg\n",
      "    (188.88933324, -0.04355011)> is outside valid IRF map range, using nearest IRF defined within\n",
      "Position <SkyCoord (Galactic): (l, b) in deg\n",
      "    (270.62505283, -0.04355011)> is outside valid IRF map range, using nearest IRF defined within\n",
      "Position <SkyCoord (Galactic): (l, b) in deg\n",
      "    (270.62505283, -0.04355011)> is outside valid IRF map range, using nearest IRF defined within\n",
      "Position <SkyCoord (Galactic): (l, b) in deg\n",
      "    (89.28738084, -0.04355011)> is outside valid IRF map range, using nearest IRF defined within\n",
      "Position <SkyCoord (Galactic): (l, b) in deg\n",
      "    (89.28738084, -0.04355011)> is outside valid IRF map range, using nearest IRF defined within\n",
      "Position <SkyCoord (Galactic): (l, b) in deg\n",
      "    (4.68900777, -0.05123654)> is outside valid IRF map range, using nearest IRF defined within\n",
      "Position <SkyCoord (Galactic): (l, b) in deg\n",
      "    (4.68900777, -0.05123654)> is outside valid IRF map range, using nearest IRF defined within\n",
      "Position <SkyCoord (Galactic): (l, b) in deg\n",
      "    (355.19733091, -0.05123654)> is outside valid IRF map range, using nearest IRF defined within\n",
      "Position <SkyCoord (Galactic): (l, b) in deg\n",
      "    (355.19733091, -0.05123654)> is outside valid IRF map range, using nearest IRF defined within\n",
      "Position <SkyCoord (Galactic): (l, b) in deg\n",
      "    (47.40155368, -0.05123654)> is outside valid IRF map range, using nearest IRF defined within\n",
      "Position <SkyCoord (Galactic): (l, b) in deg\n",
      "    (47.40155368, -0.05123654)> is outside valid IRF map range, using nearest IRF defined within\n",
      "Position <SkyCoord (Galactic): (l, b) in deg\n",
      "    (312.484785, -0.05123654)> is outside valid IRF map range, using nearest IRF defined within\n",
      "Position <SkyCoord (Galactic): (l, b) in deg\n",
      "    (312.484785, -0.05123654)> is outside valid IRF map range, using nearest IRF defined within\n",
      "Position <SkyCoord (Galactic): (l, b) in deg\n",
      "    (114.52701271, -0.05123654)> is outside valid IRF map range, using nearest IRF defined within\n",
      "Position <SkyCoord (Galactic): (l, b) in deg\n",
      "    (114.52701271, -0.05123654)> is outside valid IRF map range, using nearest IRF defined within\n",
      "Position <SkyCoord (Galactic): (l, b) in deg\n",
      "    (245.35932597, -0.05123654)> is outside valid IRF map range, using nearest IRF defined within\n",
      "Position <SkyCoord (Galactic): (l, b) in deg\n",
      "    (245.35932597, -0.05123654)> is outside valid IRF map range, using nearest IRF defined within\n",
      "Position <SkyCoord (Galactic): (l, b) in deg\n",
      "    (65.781603, -0.05123654)> is outside valid IRF map range, using nearest IRF defined within\n",
      "Position <SkyCoord (Galactic): (l, b) in deg\n",
      "    (65.781603, -0.05123654)> is outside valid IRF map range, using nearest IRF defined within\n",
      "Position <SkyCoord (Galactic): (l, b) in deg\n",
      "    (294.10473567, -0.05123654)> is outside valid IRF map range, using nearest IRF defined within\n",
      "Position <SkyCoord (Galactic): (l, b) in deg\n",
      "    (294.10473567, -0.05123654)> is outside valid IRF map range, using nearest IRF defined within\n",
      "Position <SkyCoord (Galactic): (l, b) in deg\n",
      "    (4.2489622, -0.05995728)> is outside valid IRF map range, using nearest IRF defined within\n",
      "Position <SkyCoord (Galactic): (l, b) in deg\n",
      "    (4.2489622, -0.05995728)> is outside valid IRF map range, using nearest IRF defined within\n",
      "Position <SkyCoord (Galactic): (l, b) in deg\n",
      "    (355.64165433, -0.05995728)> is outside valid IRF map range, using nearest IRF defined within\n",
      "Position <SkyCoord (Galactic): (l, b) in deg\n",
      "    (355.64165433, -0.05995728)> is outside valid IRF map range, using nearest IRF defined within\n",
      "Position <SkyCoord (Galactic): (l, b) in deg\n",
      "    (42.98184764, -0.05995728)> is outside valid IRF map range, using nearest IRF defined within\n",
      "Position <SkyCoord (Galactic): (l, b) in deg\n",
      "    (42.98184764, -0.05995728)> is outside valid IRF map range, using nearest IRF defined within\n",
      "Position <SkyCoord (Galactic): (l, b) in deg\n",
      "    (316.90876889, -0.05995728)> is outside valid IRF map range, using nearest IRF defined within\n",
      "Position <SkyCoord (Galactic): (l, b) in deg\n",
      "    (316.90876889, -0.05995728)> is outside valid IRF map range, using nearest IRF defined within\n",
      "Position <SkyCoord (Galactic): (l, b) in deg\n",
      "    (70.31070198, -0.05995728)> is outside valid IRF map range, using nearest IRF defined within\n",
      "Position <SkyCoord (Galactic): (l, b) in deg\n",
      "    (70.31070198, -0.05995728)> is outside valid IRF map range, using nearest IRF defined within\n",
      "Position <SkyCoord (Galactic): (l, b) in deg\n",
      "    (289.57991454, -0.05995728)> is outside valid IRF map range, using nearest IRF defined within\n",
      "Position <SkyCoord (Galactic): (l, b) in deg\n",
      "    (289.57991454, -0.05995728)> is outside valid IRF map range, using nearest IRF defined within\n",
      "Position <SkyCoord (Galactic): (l, b) in deg\n",
      "    (343.59924546, -0.05995728)> is outside valid IRF map range, using nearest IRF defined within\n",
      "Position <SkyCoord (Galactic): (l, b) in deg\n",
      "    (343.59924546, -0.05995728)> is outside valid IRF map range, using nearest IRF defined within\n"
     ]
    },
    {
     "name": "stderr",
     "output_type": "stream",
     "text": [
      "Position <SkyCoord (Galactic): (l, b) in deg\n",
      "    (16.29137107, -0.05995728)> is outside valid IRF map range, using nearest IRF defined within\n",
      "Position <SkyCoord (Galactic): (l, b) in deg\n",
      "    (16.29137107, -0.05995728)> is outside valid IRF map range, using nearest IRF defined within\n",
      "Position <SkyCoord (Galactic): (l, b) in deg\n",
      "    (38.09729211, -0.05599332)> is outside valid IRF map range, using nearest IRF defined within\n",
      "Position <SkyCoord (Galactic): (l, b) in deg\n",
      "    (38.09729211, -0.05599332)> is outside valid IRF map range, using nearest IRF defined within\n",
      "Position <SkyCoord (Galactic): (l, b) in deg\n",
      "    (321.8241086, -0.05599332)> is outside valid IRF map range, using nearest IRF defined within\n",
      "Position <SkyCoord (Galactic): (l, b) in deg\n",
      "    (321.8241086, -0.05599332)> is outside valid IRF map range, using nearest IRF defined within\n",
      "Position <SkyCoord (Galactic): (l, b) in deg\n",
      "    (21.32661792, -0.05599332)> is outside valid IRF map range, using nearest IRF defined within\n",
      "Position <SkyCoord (Galactic): (l, b) in deg\n",
      "    (21.32661792, -0.05599332)> is outside valid IRF map range, using nearest IRF defined within\n",
      "Position <SkyCoord (Galactic): (l, b) in deg\n",
      "    (338.5947828, -0.05599332)> is outside valid IRF map range, using nearest IRF defined within\n",
      "Position <SkyCoord (Galactic): (l, b) in deg\n",
      "    (338.5947828, -0.05599332)> is outside valid IRF map range, using nearest IRF defined within\n",
      "Position <SkyCoord (Galactic): (l, b) in deg\n",
      "    (213.61987594, -0.05599332)> is outside valid IRF map range, using nearest IRF defined within\n",
      "Position <SkyCoord (Galactic): (l, b) in deg\n",
      "    (213.61987594, -0.05599332)> is outside valid IRF map range, using nearest IRF defined within\n",
      "Position <SkyCoord (Galactic): (l, b) in deg\n",
      "    (146.30152478, -0.05599332)> is outside valid IRF map range, using nearest IRF defined within\n",
      "Position <SkyCoord (Galactic): (l, b) in deg\n",
      "    (146.30152478, -0.05599332)> is outside valid IRF map range, using nearest IRF defined within\n",
      "Position <SkyCoord (Galactic): (l, b) in deg\n",
      "    (39.40639323, -0.04089586)> is outside valid IRF map range, using nearest IRF defined within\n",
      "Position <SkyCoord (Galactic): (l, b) in deg\n",
      "    (39.40639323, -0.04089586)> is outside valid IRF map range, using nearest IRF defined within\n",
      "Position <SkyCoord (Galactic): (l, b) in deg\n",
      "    (320.48588057, -0.04089586)> is outside valid IRF map range, using nearest IRF defined within\n",
      "Position <SkyCoord (Galactic): (l, b) in deg\n",
      "    (320.48588057, -0.04089586)> is outside valid IRF map range, using nearest IRF defined within\n",
      "Position <SkyCoord (Galactic): (l, b) in deg\n",
      "    (34.54870021, -0.04089586)> is outside valid IRF map range, using nearest IRF defined within\n",
      "Position <SkyCoord (Galactic): (l, b) in deg\n",
      "    (34.54870021, -0.04089586)> is outside valid IRF map range, using nearest IRF defined within\n",
      "Position <SkyCoord (Galactic): (l, b) in deg\n",
      "    (325.34357358, -0.04089586)> is outside valid IRF map range, using nearest IRF defined within\n",
      "Position <SkyCoord (Galactic): (l, b) in deg\n",
      "    (325.34357358, -0.04089586)> is outside valid IRF map range, using nearest IRF defined within\n",
      "Position <SkyCoord (Galactic): (l, b) in deg\n",
      "    (345.97177004, -0.04089586)> is outside valid IRF map range, using nearest IRF defined within\n",
      "Position <SkyCoord (Galactic): (l, b) in deg\n",
      "    (345.97177004, -0.04089586)> is outside valid IRF map range, using nearest IRF defined within\n",
      "Position <SkyCoord (Galactic): (l, b) in deg\n",
      "    (13.92050375, -0.04089586)> is outside valid IRF map range, using nearest IRF defined within\n",
      "Position <SkyCoord (Galactic): (l, b) in deg\n",
      "    (13.92050375, -0.04089586)> is outside valid IRF map range, using nearest IRF defined within\n",
      "Position <SkyCoord (Galactic): (l, b) in deg\n",
      "    (4.76678355, -0.06196659)> is outside valid IRF map range, using nearest IRF defined within\n",
      "Position <SkyCoord (Galactic): (l, b) in deg\n",
      "    (4.76678355, -0.06196659)> is outside valid IRF map range, using nearest IRF defined within\n",
      "Position <SkyCoord (Galactic): (l, b) in deg\n",
      "    (355.14242248, -0.06196659)> is outside valid IRF map range, using nearest IRF defined within\n",
      "Position <SkyCoord (Galactic): (l, b) in deg\n",
      "    (355.14242248, -0.06196659)> is outside valid IRF map range, using nearest IRF defined within\n",
      "Position <SkyCoord (Galactic): (l, b) in deg\n",
      "    (48.07640836, -0.06196659)> is outside valid IRF map range, using nearest IRF defined within\n",
      "Position <SkyCoord (Galactic): (l, b) in deg\n",
      "    (48.07640836, -0.06196659)> is outside valid IRF map range, using nearest IRF defined within\n",
      "Position <SkyCoord (Galactic): (l, b) in deg\n",
      "    (311.83279768, -0.06196659)> is outside valid IRF map range, using nearest IRF defined within\n",
      "Position <SkyCoord (Galactic): (l, b) in deg\n",
      "    (311.83279768, -0.06196659)> is outside valid IRF map range, using nearest IRF defined within\n",
      "Position <SkyCoord (Galactic): (l, b) in deg\n",
      "    (121.17265644, -0.06196659)> is outside valid IRF map range, using nearest IRF defined within\n",
      "Position <SkyCoord (Galactic): (l, b) in deg\n",
      "    (121.17265644, -0.06196659)> is outside valid IRF map range, using nearest IRF defined within\n",
      "Position <SkyCoord (Galactic): (l, b) in deg\n",
      "    (238.73654959, -0.06196659)> is outside valid IRF map range, using nearest IRF defined within\n",
      "Position <SkyCoord (Galactic): (l, b) in deg\n",
      "    (238.73654959, -0.06196659)> is outside valid IRF map range, using nearest IRF defined within\n",
      "Position <SkyCoord (Galactic): (l, b) in deg\n",
      "    (132.13513725, -0.06196659)> is outside valid IRF map range, using nearest IRF defined within\n",
      "Position <SkyCoord (Galactic): (l, b) in deg\n",
      "    (132.13513725, -0.06196659)> is outside valid IRF map range, using nearest IRF defined within\n",
      "Position <SkyCoord (Galactic): (l, b) in deg\n",
      "    (227.77406879, -0.06196659)> is outside valid IRF map range, using nearest IRF defined within\n",
      "Position <SkyCoord (Galactic): (l, b) in deg\n",
      "    (227.77406879, -0.06196659)> is outside valid IRF map range, using nearest IRF defined within\n"
     ]
    }
   ],
   "source": [
    "fpe1 = FluxPointsEstimator(energy_edges=energy_edges, source='gc-source', reoptimize=True)\n",
    "flux_points1 = fpe1.run(dataset_stacked)"
   ]
  },
  {
   "cell_type": "code",
   "execution_count": 27,
   "metadata": {},
   "outputs": [
    {
     "data": {
      "text/plain": [
       "(1263.176156789761, 1284.9229974735354)"
      ]
     },
     "execution_count": 27,
     "metadata": {},
     "output_type": "execute_result"
    }
   ],
   "source": [
    "np.nansum(flux_points1.ts.data), del_TS"
   ]
  },
  {
   "cell_type": "markdown",
   "metadata": {},
   "source": [
    "### different energy range"
   ]
  },
  {
   "cell_type": "code",
   "execution_count": 28,
   "metadata": {},
   "outputs": [
    {
     "data": {
      "text/latex": [
       "$[0.4,~0.55189186,~0.76146158,~1.0506111,~1.4495593,~2,~2.7594593,~3.8073079,~5.2530556,~7.2477966,~10] \\; \\mathrm{TeV}$"
      ],
      "text/plain": [
       "<Quantity [ 0.4       ,  0.55189186,  0.76146158,  1.05061112,  1.44955933,\n",
       "            2.        ,  2.75945932,  3.80730788,  5.25305561,  7.24779664,\n",
       "           10.        ] TeV>"
      ]
     },
     "execution_count": 28,
     "metadata": {},
     "output_type": "execute_result"
    }
   ],
   "source": [
    "e_min, e_max = 0.4, 10\n",
    "energy_edges = np.geomspace(e_min, e_max, 11) * u.TeV\n",
    "energy_edges"
   ]
  },
  {
   "cell_type": "code",
   "execution_count": 29,
   "metadata": {},
   "outputs": [
    {
     "name": "stderr",
     "output_type": "stream",
     "text": [
      "Dataset stacked does not contribute in the energy range\n"
     ]
    },
    {
     "ename": "ValueError",
     "evalue": "'gc-source' is not in list",
     "output_type": "error",
     "traceback": [
      "\u001b[0;31m---------------------------------------------------------------------------\u001b[0m",
      "\u001b[0;31mValueError\u001b[0m                                Traceback (most recent call last)",
      "\u001b[0;32m<ipython-input-29-c42a3cc05116>\u001b[0m in \u001b[0;36m<module>\u001b[0;34m\u001b[0m\n\u001b[1;32m      1\u001b[0m \u001b[0mfpe2\u001b[0m \u001b[0;34m=\u001b[0m \u001b[0mFluxPointsEstimator\u001b[0m\u001b[0;34m(\u001b[0m\u001b[0menergy_edges\u001b[0m\u001b[0;34m=\u001b[0m\u001b[0menergy_edges\u001b[0m\u001b[0;34m,\u001b[0m \u001b[0msource\u001b[0m\u001b[0;34m=\u001b[0m\u001b[0;34m'gc-source'\u001b[0m\u001b[0;34m)\u001b[0m\u001b[0;34m\u001b[0m\u001b[0m\n\u001b[0;32m----> 2\u001b[0;31m \u001b[0mflux_points2\u001b[0m \u001b[0;34m=\u001b[0m \u001b[0mfpe2\u001b[0m\u001b[0;34m.\u001b[0m\u001b[0mrun\u001b[0m\u001b[0;34m(\u001b[0m\u001b[0mdataset_stacked\u001b[0m\u001b[0;34m)\u001b[0m\u001b[0;34m\u001b[0m\u001b[0m\n\u001b[0m",
      "\u001b[0;32m~/Gammapy-dev/gammapy/gammapy/estimators/flux_point.py\u001b[0m in \u001b[0;36mrun\u001b[0;34m(self, datasets)\u001b[0m\n\u001b[1;32m    656\u001b[0m         ):\n\u001b[1;32m    657\u001b[0m             row = self.estimate_flux_point(\n\u001b[0;32m--> 658\u001b[0;31m                 \u001b[0mdatasets\u001b[0m\u001b[0;34m,\u001b[0m \u001b[0menergy_min\u001b[0m\u001b[0;34m=\u001b[0m\u001b[0menergy_min\u001b[0m\u001b[0;34m,\u001b[0m \u001b[0menergy_max\u001b[0m\u001b[0;34m=\u001b[0m\u001b[0menergy_max\u001b[0m\u001b[0;34m,\u001b[0m\u001b[0;34m\u001b[0m\u001b[0m\n\u001b[0m\u001b[1;32m    659\u001b[0m             )\n\u001b[1;32m    660\u001b[0m             \u001b[0mrows\u001b[0m\u001b[0;34m.\u001b[0m\u001b[0mappend\u001b[0m\u001b[0;34m(\u001b[0m\u001b[0mrow\u001b[0m\u001b[0;34m)\u001b[0m\u001b[0;34m\u001b[0m\u001b[0m\n",
      "\u001b[0;32m~/Gammapy-dev/gammapy/gammapy/estimators/flux_point.py\u001b[0m in \u001b[0;36mestimate_flux_point\u001b[0;34m(self, datasets, energy_min, energy_max)\u001b[0m\n\u001b[1;32m    695\u001b[0m \u001b[0;34m\u001b[0m\u001b[0m\n\u001b[1;32m    696\u001b[0m         \u001b[0mdatasets_sliced\u001b[0m\u001b[0;34m.\u001b[0m\u001b[0mmodels\u001b[0m \u001b[0;34m=\u001b[0m \u001b[0mdatasets\u001b[0m\u001b[0;34m.\u001b[0m\u001b[0mmodels\u001b[0m\u001b[0;34m.\u001b[0m\u001b[0mcopy\u001b[0m\u001b[0;34m(\u001b[0m\u001b[0;34m)\u001b[0m\u001b[0;34m\u001b[0m\u001b[0m\n\u001b[0;32m--> 697\u001b[0;31m         \u001b[0;32mreturn\u001b[0m \u001b[0msuper\u001b[0m\u001b[0;34m(\u001b[0m\u001b[0;34m)\u001b[0m\u001b[0;34m.\u001b[0m\u001b[0mrun\u001b[0m\u001b[0;34m(\u001b[0m\u001b[0mdatasets\u001b[0m\u001b[0;34m=\u001b[0m\u001b[0mdatasets_sliced\u001b[0m\u001b[0;34m)\u001b[0m\u001b[0;34m\u001b[0m\u001b[0m\n\u001b[0m",
      "\u001b[0;32m~/Gammapy-dev/gammapy/gammapy/estimators/flux.py\u001b[0m in \u001b[0;36mrun\u001b[0;34m(self, datasets)\u001b[0m\n\u001b[1;32m    120\u001b[0m         \u001b[0mmodels\u001b[0m \u001b[0;34m=\u001b[0m \u001b[0mdatasets\u001b[0m\u001b[0;34m.\u001b[0m\u001b[0mmodels\u001b[0m\u001b[0;34m.\u001b[0m\u001b[0mcopy\u001b[0m\u001b[0;34m(\u001b[0m\u001b[0;34m)\u001b[0m\u001b[0;34m\u001b[0m\u001b[0m\n\u001b[1;32m    121\u001b[0m \u001b[0;34m\u001b[0m\u001b[0m\n\u001b[0;32m--> 122\u001b[0;31m         \u001b[0mmodel\u001b[0m \u001b[0;34m=\u001b[0m \u001b[0mself\u001b[0m\u001b[0;34m.\u001b[0m\u001b[0mget_scale_model\u001b[0m\u001b[0;34m(\u001b[0m\u001b[0mmodels\u001b[0m\u001b[0;34m)\u001b[0m\u001b[0;34m\u001b[0m\u001b[0m\n\u001b[0m\u001b[1;32m    123\u001b[0m \u001b[0;34m\u001b[0m\u001b[0m\n\u001b[1;32m    124\u001b[0m         \u001b[0menergy_min\u001b[0m\u001b[0;34m,\u001b[0m \u001b[0menergy_max\u001b[0m \u001b[0;34m=\u001b[0m \u001b[0mdatasets\u001b[0m\u001b[0;34m.\u001b[0m\u001b[0menergy_ranges\u001b[0m\u001b[0;34m\u001b[0m\u001b[0m\n",
      "\u001b[0;32m~/Gammapy-dev/gammapy/gammapy/estimators/flux.py\u001b[0m in \u001b[0;36mget_scale_model\u001b[0;34m(self, models)\u001b[0m\n\u001b[1;32m     93\u001b[0m             \u001b[0mScale\u001b[0m \u001b[0mspectral\u001b[0m \u001b[0mmodel\u001b[0m\u001b[0;34m\u001b[0m\u001b[0m\n\u001b[1;32m     94\u001b[0m         \"\"\"\n\u001b[0;32m---> 95\u001b[0;31m         \u001b[0mref_model\u001b[0m \u001b[0;34m=\u001b[0m \u001b[0mmodels\u001b[0m\u001b[0;34m[\u001b[0m\u001b[0mself\u001b[0m\u001b[0;34m.\u001b[0m\u001b[0msource\u001b[0m\u001b[0;34m]\u001b[0m\u001b[0;34m.\u001b[0m\u001b[0mspectral_model\u001b[0m\u001b[0;34m\u001b[0m\u001b[0m\n\u001b[0m\u001b[1;32m     96\u001b[0m         \u001b[0mscale_model\u001b[0m \u001b[0;34m=\u001b[0m \u001b[0mScaleSpectralModel\u001b[0m\u001b[0;34m(\u001b[0m\u001b[0mref_model\u001b[0m\u001b[0;34m)\u001b[0m\u001b[0;34m\u001b[0m\u001b[0m\n\u001b[1;32m     97\u001b[0m         \u001b[0mscale_model\u001b[0m\u001b[0;34m.\u001b[0m\u001b[0mnorm\u001b[0m\u001b[0;34m.\u001b[0m\u001b[0mvalue\u001b[0m \u001b[0;34m=\u001b[0m \u001b[0;36m1.0\u001b[0m\u001b[0;34m\u001b[0m\u001b[0m\n",
      "\u001b[0;32m~/Gammapy-dev/gammapy/gammapy/modeling/models/core.py\u001b[0m in \u001b[0;36m__getitem__\u001b[0;34m(self, key)\u001b[0m\n\u001b[1;32m    531\u001b[0m             \u001b[0;32mreturn\u001b[0m \u001b[0mself\u001b[0m\u001b[0;34m.\u001b[0m\u001b[0m__class__\u001b[0m\u001b[0;34m(\u001b[0m\u001b[0mlist\u001b[0m\u001b[0;34m(\u001b[0m\u001b[0mnp\u001b[0m\u001b[0;34m.\u001b[0m\u001b[0marray\u001b[0m\u001b[0;34m(\u001b[0m\u001b[0mself\u001b[0m\u001b[0;34m.\u001b[0m\u001b[0m_models\u001b[0m\u001b[0;34m)\u001b[0m\u001b[0;34m[\u001b[0m\u001b[0mkey\u001b[0m\u001b[0;34m]\u001b[0m\u001b[0;34m)\u001b[0m\u001b[0;34m)\u001b[0m\u001b[0;34m\u001b[0m\u001b[0m\n\u001b[1;32m    532\u001b[0m         \u001b[0;32melse\u001b[0m\u001b[0;34m:\u001b[0m\u001b[0;34m\u001b[0m\u001b[0m\n\u001b[0;32m--> 533\u001b[0;31m             \u001b[0;32mreturn\u001b[0m \u001b[0mself\u001b[0m\u001b[0;34m.\u001b[0m\u001b[0m_models\u001b[0m\u001b[0;34m[\u001b[0m\u001b[0mself\u001b[0m\u001b[0;34m.\u001b[0m\u001b[0mindex\u001b[0m\u001b[0;34m(\u001b[0m\u001b[0mkey\u001b[0m\u001b[0;34m)\u001b[0m\u001b[0;34m]\u001b[0m\u001b[0;34m\u001b[0m\u001b[0m\n\u001b[0m\u001b[1;32m    534\u001b[0m \u001b[0;34m\u001b[0m\u001b[0m\n\u001b[1;32m    535\u001b[0m     \u001b[0;32mdef\u001b[0m \u001b[0mindex\u001b[0m\u001b[0;34m(\u001b[0m\u001b[0mself\u001b[0m\u001b[0;34m,\u001b[0m \u001b[0mkey\u001b[0m\u001b[0;34m)\u001b[0m\u001b[0;34m:\u001b[0m\u001b[0;34m\u001b[0m\u001b[0m\n",
      "\u001b[0;32m~/Gammapy-dev/gammapy/gammapy/modeling/models/core.py\u001b[0m in \u001b[0;36mindex\u001b[0;34m(self, key)\u001b[0m\n\u001b[1;32m    537\u001b[0m             \u001b[0;32mreturn\u001b[0m \u001b[0mkey\u001b[0m\u001b[0;34m\u001b[0m\u001b[0m\n\u001b[1;32m    538\u001b[0m         \u001b[0;32melif\u001b[0m \u001b[0misinstance\u001b[0m\u001b[0;34m(\u001b[0m\u001b[0mkey\u001b[0m\u001b[0;34m,\u001b[0m \u001b[0mstr\u001b[0m\u001b[0;34m)\u001b[0m\u001b[0;34m:\u001b[0m\u001b[0;34m\u001b[0m\u001b[0m\n\u001b[0;32m--> 539\u001b[0;31m             \u001b[0;32mreturn\u001b[0m \u001b[0mself\u001b[0m\u001b[0;34m.\u001b[0m\u001b[0mnames\u001b[0m\u001b[0;34m.\u001b[0m\u001b[0mindex\u001b[0m\u001b[0;34m(\u001b[0m\u001b[0mkey\u001b[0m\u001b[0;34m)\u001b[0m\u001b[0;34m\u001b[0m\u001b[0m\n\u001b[0m\u001b[1;32m    540\u001b[0m         \u001b[0;32melif\u001b[0m \u001b[0misinstance\u001b[0m\u001b[0;34m(\u001b[0m\u001b[0mkey\u001b[0m\u001b[0;34m,\u001b[0m \u001b[0mModel\u001b[0m\u001b[0;34m)\u001b[0m\u001b[0;34m:\u001b[0m\u001b[0;34m\u001b[0m\u001b[0m\n\u001b[1;32m    541\u001b[0m             \u001b[0;32mreturn\u001b[0m \u001b[0mself\u001b[0m\u001b[0;34m.\u001b[0m\u001b[0m_models\u001b[0m\u001b[0;34m.\u001b[0m\u001b[0mindex\u001b[0m\u001b[0;34m(\u001b[0m\u001b[0mkey\u001b[0m\u001b[0;34m)\u001b[0m\u001b[0;34m\u001b[0m\u001b[0m\n",
      "\u001b[0;31mValueError\u001b[0m: 'gc-source' is not in list"
     ]
    }
   ],
   "source": [
    "fpe2 = FluxPointsEstimator(energy_edges=energy_edges, source='gc-source')\n",
    "flux_points2 = fpe2.run(dataset_stacked)"
   ]
  },
  {
   "cell_type": "code",
   "execution_count": null,
   "metadata": {},
   "outputs": [],
   "source": []
  }
 ],
 "metadata": {
  "kernelspec": {
   "display_name": "Python 3",
   "language": "python",
   "name": "python3"
  },
  "language_info": {
   "codemirror_mode": {
    "name": "ipython",
    "version": 3
   },
   "file_extension": ".py",
   "mimetype": "text/x-python",
   "name": "python",
   "nbconvert_exporter": "python",
   "pygments_lexer": "ipython3",
   "version": "3.7.0"
  },
  "latex_envs": {
   "LaTeX_envs_menu_present": true,
   "autoclose": false,
   "autocomplete": true,
   "bibliofile": "biblio.bib",
   "cite_by": "apalike",
   "current_citInitial": 1,
   "eqLabelWithNumbers": true,
   "eqNumInitial": 1,
   "hotkeys": {
    "equation": "Ctrl-E",
    "itemize": "Ctrl-I"
   },
   "labels_anchors": false,
   "latex_user_defs": false,
   "report_style_numbering": false,
   "user_envs_cfg": false
  },
  "widgets": {
   "application/vnd.jupyter.widget-state+json": {
    "state": {
     "0aa88169fb4541c8aa2861512543725e": {
      "model_module": "@jupyter-widgets/base",
      "model_module_version": "1.2.0",
      "model_name": "LayoutModel",
      "state": {
       "_model_module": "@jupyter-widgets/base",
       "_model_module_version": "1.2.0",
       "_model_name": "LayoutModel",
       "_view_count": null,
       "_view_module": "@jupyter-widgets/base",
       "_view_module_version": "1.2.0",
       "_view_name": "LayoutView",
       "align_content": null,
       "align_items": null,
       "align_self": null,
       "border": null,
       "bottom": null,
       "display": null,
       "flex": null,
       "flex_flow": null,
       "grid_area": null,
       "grid_auto_columns": null,
       "grid_auto_flow": null,
       "grid_auto_rows": null,
       "grid_column": null,
       "grid_gap": null,
       "grid_row": null,
       "grid_template_areas": null,
       "grid_template_columns": null,
       "grid_template_rows": null,
       "height": null,
       "justify_content": null,
       "justify_items": null,
       "left": null,
       "margin": null,
       "max_height": null,
       "max_width": null,
       "min_height": null,
       "min_width": null,
       "object_fit": null,
       "object_position": null,
       "order": null,
       "overflow": null,
       "overflow_x": null,
       "overflow_y": null,
       "padding": null,
       "right": null,
       "top": null,
       "visibility": null,
       "width": null
      }
     },
     "0aeefaeaa8cb4eaab1d9b3e2f598f1c8": {
      "model_module": "@jupyter-widgets/base",
      "model_module_version": "1.2.0",
      "model_name": "LayoutModel",
      "state": {
       "_model_module": "@jupyter-widgets/base",
       "_model_module_version": "1.2.0",
       "_model_name": "LayoutModel",
       "_view_count": null,
       "_view_module": "@jupyter-widgets/base",
       "_view_module_version": "1.2.0",
       "_view_name": "LayoutView",
       "align_content": null,
       "align_items": null,
       "align_self": null,
       "border": null,
       "bottom": null,
       "display": null,
       "flex": null,
       "flex_flow": null,
       "grid_area": null,
       "grid_auto_columns": null,
       "grid_auto_flow": null,
       "grid_auto_rows": null,
       "grid_column": null,
       "grid_gap": null,
       "grid_row": null,
       "grid_template_areas": null,
       "grid_template_columns": null,
       "grid_template_rows": null,
       "height": null,
       "justify_content": null,
       "justify_items": null,
       "left": null,
       "margin": null,
       "max_height": null,
       "max_width": null,
       "min_height": null,
       "min_width": null,
       "object_fit": null,
       "object_position": null,
       "order": null,
       "overflow": null,
       "overflow_x": null,
       "overflow_y": null,
       "padding": null,
       "right": null,
       "top": null,
       "visibility": null,
       "width": null
      }
     },
     "24f280e15c0f4dbca1395cad49f3a11c": {
      "model_module": "@jupyter-widgets/controls",
      "model_module_version": "1.5.0",
      "model_name": "VBoxModel",
      "state": {
       "_dom_classes": [
        "widget-interact"
       ],
       "_model_module": "@jupyter-widgets/controls",
       "_model_module_version": "1.5.0",
       "_model_name": "VBoxModel",
       "_view_count": null,
       "_view_module": "@jupyter-widgets/controls",
       "_view_module_version": "1.5.0",
       "_view_name": "VBoxView",
       "box_style": "",
       "children": [
        "IPY_MODEL_480b1c34f7904223b278b59280414c0c",
        "IPY_MODEL_df2d16f126274a4c8341e21a2c747ef3",
        "IPY_MODEL_53bbd1c1c54e4ada92f5637fbdf3d18d"
       ],
       "layout": "IPY_MODEL_760f4d2d3df84fbca5fb7e046ebe57a2"
      }
     },
     "2a623c0d2f104f7085d8dbe4ba7b1288": {
      "model_module": "@jupyter-widgets/base",
      "model_module_version": "1.2.0",
      "model_name": "LayoutModel",
      "state": {
       "_model_module": "@jupyter-widgets/base",
       "_model_module_version": "1.2.0",
       "_model_name": "LayoutModel",
       "_view_count": null,
       "_view_module": "@jupyter-widgets/base",
       "_view_module_version": "1.2.0",
       "_view_name": "LayoutView",
       "align_content": null,
       "align_items": null,
       "align_self": null,
       "border": null,
       "bottom": null,
       "display": null,
       "flex": null,
       "flex_flow": null,
       "grid_area": null,
       "grid_auto_columns": null,
       "grid_auto_flow": null,
       "grid_auto_rows": null,
       "grid_column": null,
       "grid_gap": null,
       "grid_row": null,
       "grid_template_areas": null,
       "grid_template_columns": null,
       "grid_template_rows": null,
       "height": null,
       "justify_content": null,
       "justify_items": null,
       "left": null,
       "margin": null,
       "max_height": null,
       "max_width": null,
       "min_height": null,
       "min_width": null,
       "object_fit": null,
       "object_position": null,
       "order": null,
       "overflow": null,
       "overflow_x": null,
       "overflow_y": null,
       "padding": null,
       "right": null,
       "top": null,
       "visibility": null,
       "width": "50%"
      }
     },
     "2ed02ecf7bc5441bafaf9814dafc8e8a": {
      "model_module": "@jupyter-widgets/controls",
      "model_module_version": "1.5.0",
      "model_name": "SelectionSliderModel",
      "state": {
       "_dom_classes": [],
       "_model_module": "@jupyter-widgets/controls",
       "_model_module_version": "1.5.0",
       "_model_name": "SelectionSliderModel",
       "_options_labels": [
        "1.00e-01 TeV - 1.58e-01 TeV TeV",
        "1.58e-01 TeV - 2.51e-01 TeV TeV",
        "2.51e-01 TeV - 3.98e-01 TeV TeV",
        "3.98e-01 TeV - 6.31e-01 TeV TeV",
        "6.31e-01 TeV - 1.00e+00 TeV TeV",
        "1.00e+00 TeV - 1.58e+00 TeV TeV",
        "1.58e+00 TeV - 2.51e+00 TeV TeV",
        "2.51e+00 TeV - 3.98e+00 TeV TeV",
        "3.98e+00 TeV - 6.31e+00 TeV TeV",
        "6.31e+00 TeV - 1.00e+01 TeV TeV"
       ],
       "_view_count": null,
       "_view_module": "@jupyter-widgets/controls",
       "_view_module_version": "1.5.0",
       "_view_name": "SelectionSliderView",
       "continuous_update": false,
       "description": "Select energy:",
       "description_tooltip": null,
       "disabled": false,
       "index": 0,
       "layout": "IPY_MODEL_630e7d062f92495f80cc891b5f41e459",
       "orientation": "horizontal",
       "readout": true,
       "style": "IPY_MODEL_586d8f8ba2a3402183d865d01a392add"
      }
     },
     "480b1c34f7904223b278b59280414c0c": {
      "model_module": "@jupyter-widgets/controls",
      "model_module_version": "1.5.0",
      "model_name": "SelectionSliderModel",
      "state": {
       "_dom_classes": [],
       "_model_module": "@jupyter-widgets/controls",
       "_model_module_version": "1.5.0",
       "_model_name": "SelectionSliderModel",
       "_options_labels": [
        "1.00e-01 TeV - 1.58e-01 TeV TeV",
        "1.58e-01 TeV - 2.51e-01 TeV TeV",
        "2.51e-01 TeV - 3.98e-01 TeV TeV",
        "3.98e-01 TeV - 6.31e-01 TeV TeV",
        "6.31e-01 TeV - 1.00e+00 TeV TeV",
        "1.00e+00 TeV - 1.58e+00 TeV TeV",
        "1.58e+00 TeV - 2.51e+00 TeV TeV",
        "2.51e+00 TeV - 3.98e+00 TeV TeV",
        "3.98e+00 TeV - 6.31e+00 TeV TeV",
        "6.31e+00 TeV - 1.00e+01 TeV TeV"
       ],
       "_view_count": null,
       "_view_module": "@jupyter-widgets/controls",
       "_view_module_version": "1.5.0",
       "_view_name": "SelectionSliderView",
       "continuous_update": false,
       "description": "Select energy:",
       "description_tooltip": null,
       "disabled": false,
       "index": 0,
       "layout": "IPY_MODEL_2a623c0d2f104f7085d8dbe4ba7b1288",
       "orientation": "horizontal",
       "readout": true,
       "style": "IPY_MODEL_b57cd993f0c847d9990fdde7a0e6d922"
      }
     },
     "4f4e945e5d1a4b68b9047dceed90367d": {
      "model_module": "@jupyter-widgets/controls",
      "model_module_version": "1.5.0",
      "model_name": "RadioButtonsModel",
      "state": {
       "_dom_classes": [],
       "_model_module": "@jupyter-widgets/controls",
       "_model_module_version": "1.5.0",
       "_model_name": "RadioButtonsModel",
       "_options_labels": [
        "linear",
        "sqrt",
        "log"
       ],
       "_view_count": null,
       "_view_module": "@jupyter-widgets/controls",
       "_view_module_version": "1.5.0",
       "_view_name": "RadioButtonsView",
       "description": "Select stretch:",
       "description_tooltip": null,
       "disabled": false,
       "index": 1,
       "layout": "IPY_MODEL_0aeefaeaa8cb4eaab1d9b3e2f598f1c8",
       "style": "IPY_MODEL_b276e62a203044e5aa6a19271c359963"
      }
     },
     "53bbd1c1c54e4ada92f5637fbdf3d18d": {
      "model_module": "@jupyter-widgets/output",
      "model_module_version": "1.0.0",
      "model_name": "OutputModel",
      "state": {
       "_dom_classes": [],
       "_model_module": "@jupyter-widgets/output",
       "_model_module_version": "1.0.0",
       "_model_name": "OutputModel",
       "_view_count": null,
       "_view_module": "@jupyter-widgets/output",
       "_view_module_version": "1.0.0",
       "_view_name": "OutputView",
       "layout": "IPY_MODEL_6506fdef23fc4ad1a618a03bc0cdb80f",
       "msg_id": "",
       "outputs": []
      }
     },
     "586d8f8ba2a3402183d865d01a392add": {
      "model_module": "@jupyter-widgets/controls",
      "model_module_version": "1.5.0",
      "model_name": "DescriptionStyleModel",
      "state": {
       "_model_module": "@jupyter-widgets/controls",
       "_model_module_version": "1.5.0",
       "_model_name": "DescriptionStyleModel",
       "_view_count": null,
       "_view_module": "@jupyter-widgets/base",
       "_view_module_version": "1.2.0",
       "_view_name": "StyleView",
       "description_width": "initial"
      }
     },
     "630e7d062f92495f80cc891b5f41e459": {
      "model_module": "@jupyter-widgets/base",
      "model_module_version": "1.2.0",
      "model_name": "LayoutModel",
      "state": {
       "_model_module": "@jupyter-widgets/base",
       "_model_module_version": "1.2.0",
       "_model_name": "LayoutModel",
       "_view_count": null,
       "_view_module": "@jupyter-widgets/base",
       "_view_module_version": "1.2.0",
       "_view_name": "LayoutView",
       "align_content": null,
       "align_items": null,
       "align_self": null,
       "border": null,
       "bottom": null,
       "display": null,
       "flex": null,
       "flex_flow": null,
       "grid_area": null,
       "grid_auto_columns": null,
       "grid_auto_flow": null,
       "grid_auto_rows": null,
       "grid_column": null,
       "grid_gap": null,
       "grid_row": null,
       "grid_template_areas": null,
       "grid_template_columns": null,
       "grid_template_rows": null,
       "height": null,
       "justify_content": null,
       "justify_items": null,
       "left": null,
       "margin": null,
       "max_height": null,
       "max_width": null,
       "min_height": null,
       "min_width": null,
       "object_fit": null,
       "object_position": null,
       "order": null,
       "overflow": null,
       "overflow_x": null,
       "overflow_y": null,
       "padding": null,
       "right": null,
       "top": null,
       "visibility": null,
       "width": "50%"
      }
     },
     "6506fdef23fc4ad1a618a03bc0cdb80f": {
      "model_module": "@jupyter-widgets/base",
      "model_module_version": "1.2.0",
      "model_name": "LayoutModel",
      "state": {
       "_model_module": "@jupyter-widgets/base",
       "_model_module_version": "1.2.0",
       "_model_name": "LayoutModel",
       "_view_count": null,
       "_view_module": "@jupyter-widgets/base",
       "_view_module_version": "1.2.0",
       "_view_name": "LayoutView",
       "align_content": null,
       "align_items": null,
       "align_self": null,
       "border": null,
       "bottom": null,
       "display": null,
       "flex": null,
       "flex_flow": null,
       "grid_area": null,
       "grid_auto_columns": null,
       "grid_auto_flow": null,
       "grid_auto_rows": null,
       "grid_column": null,
       "grid_gap": null,
       "grid_row": null,
       "grid_template_areas": null,
       "grid_template_columns": null,
       "grid_template_rows": null,
       "height": null,
       "justify_content": null,
       "justify_items": null,
       "left": null,
       "margin": null,
       "max_height": null,
       "max_width": null,
       "min_height": null,
       "min_width": null,
       "object_fit": null,
       "object_position": null,
       "order": null,
       "overflow": null,
       "overflow_x": null,
       "overflow_y": null,
       "padding": null,
       "right": null,
       "top": null,
       "visibility": null,
       "width": null
      }
     },
     "760f4d2d3df84fbca5fb7e046ebe57a2": {
      "model_module": "@jupyter-widgets/base",
      "model_module_version": "1.2.0",
      "model_name": "LayoutModel",
      "state": {
       "_model_module": "@jupyter-widgets/base",
       "_model_module_version": "1.2.0",
       "_model_name": "LayoutModel",
       "_view_count": null,
       "_view_module": "@jupyter-widgets/base",
       "_view_module_version": "1.2.0",
       "_view_name": "LayoutView",
       "align_content": null,
       "align_items": null,
       "align_self": null,
       "border": null,
       "bottom": null,
       "display": null,
       "flex": null,
       "flex_flow": null,
       "grid_area": null,
       "grid_auto_columns": null,
       "grid_auto_flow": null,
       "grid_auto_rows": null,
       "grid_column": null,
       "grid_gap": null,
       "grid_row": null,
       "grid_template_areas": null,
       "grid_template_columns": null,
       "grid_template_rows": null,
       "height": null,
       "justify_content": null,
       "justify_items": null,
       "left": null,
       "margin": null,
       "max_height": null,
       "max_width": null,
       "min_height": null,
       "min_width": null,
       "object_fit": null,
       "object_position": null,
       "order": null,
       "overflow": null,
       "overflow_x": null,
       "overflow_y": null,
       "padding": null,
       "right": null,
       "top": null,
       "visibility": null,
       "width": null
      }
     },
     "8b34344bdfd04c8ba35f109aa2968082": {
      "model_module": "@jupyter-widgets/base",
      "model_module_version": "1.2.0",
      "model_name": "LayoutModel",
      "state": {
       "_model_module": "@jupyter-widgets/base",
       "_model_module_version": "1.2.0",
       "_model_name": "LayoutModel",
       "_view_count": null,
       "_view_module": "@jupyter-widgets/base",
       "_view_module_version": "1.2.0",
       "_view_name": "LayoutView",
       "align_content": null,
       "align_items": null,
       "align_self": null,
       "border": null,
       "bottom": null,
       "display": null,
       "flex": null,
       "flex_flow": null,
       "grid_area": null,
       "grid_auto_columns": null,
       "grid_auto_flow": null,
       "grid_auto_rows": null,
       "grid_column": null,
       "grid_gap": null,
       "grid_row": null,
       "grid_template_areas": null,
       "grid_template_columns": null,
       "grid_template_rows": null,
       "height": null,
       "justify_content": null,
       "justify_items": null,
       "left": null,
       "margin": null,
       "max_height": null,
       "max_width": null,
       "min_height": null,
       "min_width": null,
       "object_fit": null,
       "object_position": null,
       "order": null,
       "overflow": null,
       "overflow_x": null,
       "overflow_y": null,
       "padding": null,
       "right": null,
       "top": null,
       "visibility": null,
       "width": null
      }
     },
     "9903bd21476541bbb0229c2602ae11c7": {
      "model_module": "@jupyter-widgets/output",
      "model_module_version": "1.0.0",
      "model_name": "OutputModel",
      "state": {
       "_dom_classes": [],
       "_model_module": "@jupyter-widgets/output",
       "_model_module_version": "1.0.0",
       "_model_name": "OutputModel",
       "_view_count": null,
       "_view_module": "@jupyter-widgets/output",
       "_view_module_version": "1.0.0",
       "_view_name": "OutputView",
       "layout": "IPY_MODEL_0aa88169fb4541c8aa2861512543725e",
       "msg_id": "",
       "outputs": []
      }
     },
     "9dac402f20464c7fb2bd21fe32d1f3ec": {
      "model_module": "@jupyter-widgets/controls",
      "model_module_version": "1.5.0",
      "model_name": "DescriptionStyleModel",
      "state": {
       "_model_module": "@jupyter-widgets/controls",
       "_model_module_version": "1.5.0",
       "_model_name": "DescriptionStyleModel",
       "_view_count": null,
       "_view_module": "@jupyter-widgets/base",
       "_view_module_version": "1.2.0",
       "_view_name": "StyleView",
       "description_width": "initial"
      }
     },
     "a077d0a7bb8a4e3aa5338e881126a9c4": {
      "model_module": "@jupyter-widgets/base",
      "model_module_version": "1.2.0",
      "model_name": "LayoutModel",
      "state": {
       "_model_module": "@jupyter-widgets/base",
       "_model_module_version": "1.2.0",
       "_model_name": "LayoutModel",
       "_view_count": null,
       "_view_module": "@jupyter-widgets/base",
       "_view_module_version": "1.2.0",
       "_view_name": "LayoutView",
       "align_content": null,
       "align_items": null,
       "align_self": null,
       "border": null,
       "bottom": null,
       "display": null,
       "flex": null,
       "flex_flow": null,
       "grid_area": null,
       "grid_auto_columns": null,
       "grid_auto_flow": null,
       "grid_auto_rows": null,
       "grid_column": null,
       "grid_gap": null,
       "grid_row": null,
       "grid_template_areas": null,
       "grid_template_columns": null,
       "grid_template_rows": null,
       "height": null,
       "justify_content": null,
       "justify_items": null,
       "left": null,
       "margin": null,
       "max_height": null,
       "max_width": null,
       "min_height": null,
       "min_width": null,
       "object_fit": null,
       "object_position": null,
       "order": null,
       "overflow": null,
       "overflow_x": null,
       "overflow_y": null,
       "padding": null,
       "right": null,
       "top": null,
       "visibility": null,
       "width": null
      }
     },
     "b276e62a203044e5aa6a19271c359963": {
      "model_module": "@jupyter-widgets/controls",
      "model_module_version": "1.5.0",
      "model_name": "DescriptionStyleModel",
      "state": {
       "_model_module": "@jupyter-widgets/controls",
       "_model_module_version": "1.5.0",
       "_model_name": "DescriptionStyleModel",
       "_view_count": null,
       "_view_module": "@jupyter-widgets/base",
       "_view_module_version": "1.2.0",
       "_view_name": "StyleView",
       "description_width": "initial"
      }
     },
     "b57cd993f0c847d9990fdde7a0e6d922": {
      "model_module": "@jupyter-widgets/controls",
      "model_module_version": "1.5.0",
      "model_name": "DescriptionStyleModel",
      "state": {
       "_model_module": "@jupyter-widgets/controls",
       "_model_module_version": "1.5.0",
       "_model_name": "DescriptionStyleModel",
       "_view_count": null,
       "_view_module": "@jupyter-widgets/base",
       "_view_module_version": "1.2.0",
       "_view_name": "StyleView",
       "description_width": "initial"
      }
     },
     "df2d16f126274a4c8341e21a2c747ef3": {
      "model_module": "@jupyter-widgets/controls",
      "model_module_version": "1.5.0",
      "model_name": "RadioButtonsModel",
      "state": {
       "_dom_classes": [],
       "_model_module": "@jupyter-widgets/controls",
       "_model_module_version": "1.5.0",
       "_model_name": "RadioButtonsModel",
       "_options_labels": [
        "linear",
        "sqrt",
        "log"
       ],
       "_view_count": null,
       "_view_module": "@jupyter-widgets/controls",
       "_view_module_version": "1.5.0",
       "_view_name": "RadioButtonsView",
       "description": "Select stretch:",
       "description_tooltip": null,
       "disabled": false,
       "index": 1,
       "layout": "IPY_MODEL_8b34344bdfd04c8ba35f109aa2968082",
       "style": "IPY_MODEL_9dac402f20464c7fb2bd21fe32d1f3ec"
      }
     },
     "e84d64b5883540fb87480dc3faa667c8": {
      "model_module": "@jupyter-widgets/controls",
      "model_module_version": "1.5.0",
      "model_name": "VBoxModel",
      "state": {
       "_dom_classes": [
        "widget-interact"
       ],
       "_model_module": "@jupyter-widgets/controls",
       "_model_module_version": "1.5.0",
       "_model_name": "VBoxModel",
       "_view_count": null,
       "_view_module": "@jupyter-widgets/controls",
       "_view_module_version": "1.5.0",
       "_view_name": "VBoxView",
       "box_style": "",
       "children": [
        "IPY_MODEL_2ed02ecf7bc5441bafaf9814dafc8e8a",
        "IPY_MODEL_4f4e945e5d1a4b68b9047dceed90367d",
        "IPY_MODEL_9903bd21476541bbb0229c2602ae11c7"
       ],
       "layout": "IPY_MODEL_a077d0a7bb8a4e3aa5338e881126a9c4"
      }
     }
    },
    "version_major": 2,
    "version_minor": 0
   }
  }
 },
 "nbformat": 4,
 "nbformat_minor": 4
}
