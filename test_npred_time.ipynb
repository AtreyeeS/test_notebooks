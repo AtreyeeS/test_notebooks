{
 "cells": [
  {
   "cell_type": "code",
   "execution_count": 1,
   "id": "76210cab",
   "metadata": {},
   "outputs": [],
   "source": [
    "%matplotlib inline\n",
    "import matplotlib.pyplot as plt\n",
    "from pathlib import Path\n",
    "import numpy as np\n",
    "from astropy import units as u\n",
    "from astropy.coordinates import SkyCoord\n",
    "from regions import CircleSkyRegion\n",
    "from scipy.stats import norm\n",
    "from gammapy.data import DataStore\n",
    "from gammapy.datasets import MapDataset, Datasets\n",
    "from gammapy.maps import WcsGeom, MapAxis\n",
    "from gammapy.makers import MapDatasetMaker, SafeMaskMaker, FoVBackgroundMaker\n",
    "from gammapy.modeling.models import (\n",
    "    SkyModel,\n",
    "    PowerLawSpectralModel,\n",
    "    PointSpatialModel,\n",
    "    FoVBackgroundModel,\n",
    "    GaussianSpatialModel,\n",
    "    Models\n",
    ")\n",
    "from gammapy.modeling import Fit\n",
    "from gammapy.estimators import FluxPointsEstimator, ExcessMapEstimator\n"
   ]
  },
  {
   "cell_type": "code",
   "execution_count": 2,
   "id": "6068a1d5",
   "metadata": {},
   "outputs": [
    {
     "name": "stdout",
     "output_type": "stream",
     "text": [
      "20\n"
     ]
    }
   ],
   "source": [
    "data_store = DataStore.from_dir(\"$GAMMAPY_DATA/hess-dl3-dr1\")\n",
    "pos = SkyCoord.from_name(\"MSH 15-52\")\n",
    "obs_table_filtered = data_store.obs_table.select_sky_circle(center=pos, radius=5 * u.deg)\n",
    "obs_ids = obs_table_filtered[\"OBS_ID\"]\n",
    "observations = data_store.get_observations(obs_ids)\n",
    "print(len(observations))"
   ]
  },
  {
   "cell_type": "code",
   "execution_count": 3,
   "id": "3f22dcd6",
   "metadata": {},
   "outputs": [],
   "source": [
    "energy_axis = MapAxis.from_energy_bounds(1, 10.0, 5, unit=\"TeV\",\n",
    "                                         per_decade=True)\n",
    "\n",
    "geom = WcsGeom.create(\n",
    "    skydir=(pos.ra.value, pos.dec.value),\n",
    "    binsz=0.02,\n",
    "    width=(5, 6),\n",
    "    frame=\"icrs\",\n",
    "    proj=\"CAR\",\n",
    "    axes=[energy_axis],\n",
    ")\n",
    "\n",
    "# Reduced IRFs are defined in true energy (i.e. not measured energy).\n",
    "energy_axis_true = MapAxis.from_energy_bounds(\n",
    "    0.1, 20, 20, unit=\"TeV\", name=\"energy_true\", per_decade=True\n",
    ")"
   ]
  },
  {
   "cell_type": "code",
   "execution_count": 4,
   "id": "5cc2151d",
   "metadata": {},
   "outputs": [],
   "source": [
    "stacked = MapDataset.create(\n",
    "    geom=geom, energy_axis_true=energy_axis_true, name=\"msh-stacked\"\n",
    ")\n",
    "offset_max = 2.3 * u.deg\n",
    "maker = MapDatasetMaker()\n",
    "maker_safe_mask = SafeMaskMaker(\n",
    "    methods=[\"offset-max\", \"aeff-max\"], offset_max=offset_max\n",
    ")\n",
    "datasets = Datasets()"
   ]
  },
  {
   "cell_type": "code",
   "execution_count": 5,
   "id": "187d1dfb",
   "metadata": {},
   "outputs": [
    {
     "name": "stderr",
     "output_type": "stream",
     "text": [
      "<timed exec>:4: GammapyDeprecationWarning: Use observation.get_pointing_icrs(time) instead\n",
      "/Users/ASinha/opt/anaconda3/envs/gammapy-dev/lib/python3.8/site-packages/astropy/utils/decorators.py:777: GammapyDeprecationWarning: Use observation.pointing or observation.get_pointing_{altaz,icrs} instead\n",
      "  val = self.fget(obj)\n",
      "/Users/ASinha/opt/anaconda3/envs/gammapy-dev/lib/python3.8/site-packages/astropy/utils/decorators.py:777: GammapyDeprecationWarning: The radec function is deprecated and may be removed in a future version.\n",
      "  val = self.fget(obj)\n",
      "<timed exec>:4: GammapyDeprecationWarning: Use observation.get_pointing_icrs(time) instead\n",
      "/Users/ASinha/opt/anaconda3/envs/gammapy-dev/lib/python3.8/site-packages/astropy/utils/decorators.py:777: GammapyDeprecationWarning: Use observation.pointing or observation.get_pointing_{altaz,icrs} instead\n",
      "  val = self.fget(obj)\n",
      "/Users/ASinha/opt/anaconda3/envs/gammapy-dev/lib/python3.8/site-packages/astropy/utils/decorators.py:777: GammapyDeprecationWarning: The radec function is deprecated and may be removed in a future version.\n",
      "  val = self.fget(obj)\n",
      "<timed exec>:4: GammapyDeprecationWarning: Use observation.get_pointing_icrs(time) instead\n",
      "/Users/ASinha/opt/anaconda3/envs/gammapy-dev/lib/python3.8/site-packages/astropy/utils/decorators.py:777: GammapyDeprecationWarning: Use observation.pointing or observation.get_pointing_{altaz,icrs} instead\n",
      "  val = self.fget(obj)\n",
      "/Users/ASinha/opt/anaconda3/envs/gammapy-dev/lib/python3.8/site-packages/astropy/utils/decorators.py:777: GammapyDeprecationWarning: The radec function is deprecated and may be removed in a future version.\n",
      "  val = self.fget(obj)\n",
      "<timed exec>:4: GammapyDeprecationWarning: Use observation.get_pointing_icrs(time) instead\n",
      "/Users/ASinha/opt/anaconda3/envs/gammapy-dev/lib/python3.8/site-packages/astropy/utils/decorators.py:777: GammapyDeprecationWarning: Use observation.pointing or observation.get_pointing_{altaz,icrs} instead\n",
      "  val = self.fget(obj)\n",
      "/Users/ASinha/opt/anaconda3/envs/gammapy-dev/lib/python3.8/site-packages/astropy/utils/decorators.py:777: GammapyDeprecationWarning: The radec function is deprecated and may be removed in a future version.\n",
      "  val = self.fget(obj)\n",
      "<timed exec>:4: GammapyDeprecationWarning: Use observation.get_pointing_icrs(time) instead\n",
      "/Users/ASinha/opt/anaconda3/envs/gammapy-dev/lib/python3.8/site-packages/astropy/utils/decorators.py:777: GammapyDeprecationWarning: Use observation.pointing or observation.get_pointing_{altaz,icrs} instead\n",
      "  val = self.fget(obj)\n",
      "/Users/ASinha/opt/anaconda3/envs/gammapy-dev/lib/python3.8/site-packages/astropy/utils/decorators.py:777: GammapyDeprecationWarning: The radec function is deprecated and may be removed in a future version.\n",
      "  val = self.fget(obj)\n",
      "<timed exec>:4: GammapyDeprecationWarning: Use observation.get_pointing_icrs(time) instead\n",
      "/Users/ASinha/opt/anaconda3/envs/gammapy-dev/lib/python3.8/site-packages/astropy/utils/decorators.py:777: GammapyDeprecationWarning: Use observation.pointing or observation.get_pointing_{altaz,icrs} instead\n",
      "  val = self.fget(obj)\n",
      "/Users/ASinha/opt/anaconda3/envs/gammapy-dev/lib/python3.8/site-packages/astropy/utils/decorators.py:777: GammapyDeprecationWarning: The radec function is deprecated and may be removed in a future version.\n",
      "  val = self.fget(obj)\n",
      "<timed exec>:4: GammapyDeprecationWarning: Use observation.get_pointing_icrs(time) instead\n",
      "/Users/ASinha/opt/anaconda3/envs/gammapy-dev/lib/python3.8/site-packages/astropy/utils/decorators.py:777: GammapyDeprecationWarning: Use observation.pointing or observation.get_pointing_{altaz,icrs} instead\n",
      "  val = self.fget(obj)\n",
      "/Users/ASinha/opt/anaconda3/envs/gammapy-dev/lib/python3.8/site-packages/astropy/utils/decorators.py:777: GammapyDeprecationWarning: The radec function is deprecated and may be removed in a future version.\n",
      "  val = self.fget(obj)\n",
      "<timed exec>:4: GammapyDeprecationWarning: Use observation.get_pointing_icrs(time) instead\n",
      "/Users/ASinha/opt/anaconda3/envs/gammapy-dev/lib/python3.8/site-packages/astropy/utils/decorators.py:777: GammapyDeprecationWarning: Use observation.pointing or observation.get_pointing_{altaz,icrs} instead\n",
      "  val = self.fget(obj)\n",
      "/Users/ASinha/opt/anaconda3/envs/gammapy-dev/lib/python3.8/site-packages/astropy/utils/decorators.py:777: GammapyDeprecationWarning: The radec function is deprecated and may be removed in a future version.\n",
      "  val = self.fget(obj)\n",
      "<timed exec>:4: GammapyDeprecationWarning: Use observation.get_pointing_icrs(time) instead\n",
      "/Users/ASinha/opt/anaconda3/envs/gammapy-dev/lib/python3.8/site-packages/astropy/utils/decorators.py:777: GammapyDeprecationWarning: Use observation.pointing or observation.get_pointing_{altaz,icrs} instead\n",
      "  val = self.fget(obj)\n",
      "/Users/ASinha/opt/anaconda3/envs/gammapy-dev/lib/python3.8/site-packages/astropy/utils/decorators.py:777: GammapyDeprecationWarning: The radec function is deprecated and may be removed in a future version.\n",
      "  val = self.fget(obj)\n",
      "<timed exec>:4: GammapyDeprecationWarning: Use observation.get_pointing_icrs(time) instead\n",
      "/Users/ASinha/opt/anaconda3/envs/gammapy-dev/lib/python3.8/site-packages/astropy/utils/decorators.py:777: GammapyDeprecationWarning: Use observation.pointing or observation.get_pointing_{altaz,icrs} instead\n",
      "  val = self.fget(obj)\n",
      "/Users/ASinha/opt/anaconda3/envs/gammapy-dev/lib/python3.8/site-packages/astropy/utils/decorators.py:777: GammapyDeprecationWarning: The radec function is deprecated and may be removed in a future version.\n",
      "  val = self.fget(obj)\n",
      "<timed exec>:4: GammapyDeprecationWarning: Use observation.get_pointing_icrs(time) instead\n",
      "/Users/ASinha/opt/anaconda3/envs/gammapy-dev/lib/python3.8/site-packages/astropy/utils/decorators.py:777: GammapyDeprecationWarning: Use observation.pointing or observation.get_pointing_{altaz,icrs} instead\n",
      "  val = self.fget(obj)\n",
      "/Users/ASinha/opt/anaconda3/envs/gammapy-dev/lib/python3.8/site-packages/astropy/utils/decorators.py:777: GammapyDeprecationWarning: The radec function is deprecated and may be removed in a future version.\n",
      "  val = self.fget(obj)\n",
      "<timed exec>:4: GammapyDeprecationWarning: Use observation.get_pointing_icrs(time) instead\n",
      "/Users/ASinha/opt/anaconda3/envs/gammapy-dev/lib/python3.8/site-packages/astropy/utils/decorators.py:777: GammapyDeprecationWarning: Use observation.pointing or observation.get_pointing_{altaz,icrs} instead\n",
      "  val = self.fget(obj)\n",
      "/Users/ASinha/opt/anaconda3/envs/gammapy-dev/lib/python3.8/site-packages/astropy/utils/decorators.py:777: GammapyDeprecationWarning: The radec function is deprecated and may be removed in a future version.\n",
      "  val = self.fget(obj)\n",
      "<timed exec>:4: GammapyDeprecationWarning: Use observation.get_pointing_icrs(time) instead\n",
      "/Users/ASinha/opt/anaconda3/envs/gammapy-dev/lib/python3.8/site-packages/astropy/utils/decorators.py:777: GammapyDeprecationWarning: Use observation.pointing or observation.get_pointing_{altaz,icrs} instead\n",
      "  val = self.fget(obj)\n",
      "/Users/ASinha/opt/anaconda3/envs/gammapy-dev/lib/python3.8/site-packages/astropy/utils/decorators.py:777: GammapyDeprecationWarning: The radec function is deprecated and may be removed in a future version.\n",
      "  val = self.fget(obj)\n",
      "<timed exec>:4: GammapyDeprecationWarning: Use observation.get_pointing_icrs(time) instead\n",
      "/Users/ASinha/opt/anaconda3/envs/gammapy-dev/lib/python3.8/site-packages/astropy/utils/decorators.py:777: GammapyDeprecationWarning: Use observation.pointing or observation.get_pointing_{altaz,icrs} instead\n",
      "  val = self.fget(obj)\n",
      "/Users/ASinha/opt/anaconda3/envs/gammapy-dev/lib/python3.8/site-packages/astropy/utils/decorators.py:777: GammapyDeprecationWarning: The radec function is deprecated and may be removed in a future version.\n",
      "  val = self.fget(obj)\n",
      "<timed exec>:4: GammapyDeprecationWarning: Use observation.get_pointing_icrs(time) instead\n",
      "/Users/ASinha/opt/anaconda3/envs/gammapy-dev/lib/python3.8/site-packages/astropy/utils/decorators.py:777: GammapyDeprecationWarning: Use observation.pointing or observation.get_pointing_{altaz,icrs} instead\n",
      "  val = self.fget(obj)\n",
      "/Users/ASinha/opt/anaconda3/envs/gammapy-dev/lib/python3.8/site-packages/astropy/utils/decorators.py:777: GammapyDeprecationWarning: The radec function is deprecated and may be removed in a future version.\n",
      "  val = self.fget(obj)\n"
     ]
    },
    {
     "name": "stderr",
     "output_type": "stream",
     "text": [
      "<timed exec>:4: GammapyDeprecationWarning: Use observation.get_pointing_icrs(time) instead\n",
      "/Users/ASinha/opt/anaconda3/envs/gammapy-dev/lib/python3.8/site-packages/astropy/utils/decorators.py:777: GammapyDeprecationWarning: Use observation.pointing or observation.get_pointing_{altaz,icrs} instead\n",
      "  val = self.fget(obj)\n",
      "/Users/ASinha/opt/anaconda3/envs/gammapy-dev/lib/python3.8/site-packages/astropy/utils/decorators.py:777: GammapyDeprecationWarning: The radec function is deprecated and may be removed in a future version.\n",
      "  val = self.fget(obj)\n",
      "<timed exec>:4: GammapyDeprecationWarning: Use observation.get_pointing_icrs(time) instead\n",
      "/Users/ASinha/opt/anaconda3/envs/gammapy-dev/lib/python3.8/site-packages/astropy/utils/decorators.py:777: GammapyDeprecationWarning: Use observation.pointing or observation.get_pointing_{altaz,icrs} instead\n",
      "  val = self.fget(obj)\n",
      "/Users/ASinha/opt/anaconda3/envs/gammapy-dev/lib/python3.8/site-packages/astropy/utils/decorators.py:777: GammapyDeprecationWarning: The radec function is deprecated and may be removed in a future version.\n",
      "  val = self.fget(obj)\n",
      "<timed exec>:4: GammapyDeprecationWarning: Use observation.get_pointing_icrs(time) instead\n",
      "/Users/ASinha/opt/anaconda3/envs/gammapy-dev/lib/python3.8/site-packages/astropy/utils/decorators.py:777: GammapyDeprecationWarning: Use observation.pointing or observation.get_pointing_{altaz,icrs} instead\n",
      "  val = self.fget(obj)\n",
      "/Users/ASinha/opt/anaconda3/envs/gammapy-dev/lib/python3.8/site-packages/astropy/utils/decorators.py:777: GammapyDeprecationWarning: The radec function is deprecated and may be removed in a future version.\n",
      "  val = self.fget(obj)\n",
      "<timed exec>:4: GammapyDeprecationWarning: Use observation.get_pointing_icrs(time) instead\n",
      "/Users/ASinha/opt/anaconda3/envs/gammapy-dev/lib/python3.8/site-packages/astropy/utils/decorators.py:777: GammapyDeprecationWarning: Use observation.pointing or observation.get_pointing_{altaz,icrs} instead\n",
      "  val = self.fget(obj)\n",
      "/Users/ASinha/opt/anaconda3/envs/gammapy-dev/lib/python3.8/site-packages/astropy/utils/decorators.py:777: GammapyDeprecationWarning: The radec function is deprecated and may be removed in a future version.\n",
      "  val = self.fget(obj)\n",
      "<timed exec>:4: GammapyDeprecationWarning: Use observation.get_pointing_icrs(time) instead\n",
      "/Users/ASinha/opt/anaconda3/envs/gammapy-dev/lib/python3.8/site-packages/astropy/utils/decorators.py:777: GammapyDeprecationWarning: Use observation.pointing or observation.get_pointing_{altaz,icrs} instead\n",
      "  val = self.fget(obj)\n",
      "/Users/ASinha/opt/anaconda3/envs/gammapy-dev/lib/python3.8/site-packages/astropy/utils/decorators.py:777: GammapyDeprecationWarning: The radec function is deprecated and may be removed in a future version.\n",
      "  val = self.fget(obj)\n"
     ]
    },
    {
     "name": "stdout",
     "output_type": "stream",
     "text": [
      "CPU times: user 36.4 s, sys: 3.52 s, total: 39.9 s\n",
      "Wall time: 40.2 s\n"
     ]
    }
   ],
   "source": [
    "%%time\n",
    "\n",
    "for obs in observations:\n",
    "    # First a cutout of the target map is produced\n",
    "    cutout = stacked.cutout(\n",
    "        obs.pointing_radec, width=2 * offset_max, name=f\"obs-{obs.obs_id}\"\n",
    "    )\n",
    "    dataset = maker.run(cutout, obs)\n",
    "    # The data quality cut is applied\n",
    "    dataset = maker_safe_mask.run(dataset, obs)\n",
    "    # fit background model\n",
    "    datasets.append(dataset)\n",
    "    stacked.stack(dataset)"
   ]
  },
  {
   "cell_type": "code",
   "execution_count": 26,
   "id": "5b73bfda",
   "metadata": {},
   "outputs": [],
   "source": [
    "spatial_model = GaussianSpatialModel(frame=\"icrs\")\n",
    "spatial_model.lon_0.value = 228\n",
    "spatial_model.lat_0.value = -59\n",
    "spatial_model.sigma.value = 0.1\n",
    "\n",
    "spectral_model = PowerLawSpectralModel(\n",
    "    index=2.0,\n",
    "    amplitude=1.0e-12 * u.Unit(\"1 / (cm2 s TeV)\"),\n",
    "    reference=1 * u.TeV,\n",
    ")\n",
    "\n",
    "\n",
    "sky_model = SkyModel(\n",
    "    spatial_model=spatial_model, spectral_model=spectral_model, name=\"msh\"\n",
    ")"
   ]
  },
  {
   "cell_type": "code",
   "execution_count": 27,
   "id": "2721a1cd",
   "metadata": {},
   "outputs": [],
   "source": [
    "datasets.models = sky_model"
   ]
  },
  {
   "cell_type": "markdown",
   "id": "2211ef53",
   "metadata": {},
   "source": [
    "The first calculation takes time"
   ]
  },
  {
   "cell_type": "code",
   "execution_count": 28,
   "id": "5603f433",
   "metadata": {},
   "outputs": [
    {
     "name": "stdout",
     "output_type": "stream",
     "text": [
      "CPU times: user 19.4 s, sys: 902 ms, total: 20.3 s\n",
      "Wall time: 20.4 s\n"
     ]
    },
    {
     "data": {
      "text/plain": [
       "308505.06181781495"
      ]
     },
     "execution_count": 28,
     "metadata": {},
     "output_type": "execute_result"
    }
   ],
   "source": [
    "%%time\n",
    "datasets.stat_sum()"
   ]
  },
  {
   "cell_type": "markdown",
   "id": "a18e0914",
   "metadata": {},
   "source": [
    "Second one is faster"
   ]
  },
  {
   "cell_type": "code",
   "execution_count": 29,
   "id": "f25ff1fb",
   "metadata": {},
   "outputs": [
    {
     "name": "stdout",
     "output_type": "stream",
     "text": [
      "CPU times: user 90.8 ms, sys: 2.63 ms, total: 93.4 ms\n",
      "Wall time: 92.4 ms\n"
     ]
    },
    {
     "data": {
      "text/plain": [
       "308505.06181781495"
      ]
     },
     "execution_count": 29,
     "metadata": {},
     "output_type": "execute_result"
    }
   ],
   "source": [
    "%%time\n",
    "datasets.stat_sum()"
   ]
  },
  {
   "cell_type": "markdown",
   "id": "649cace8",
   "metadata": {},
   "source": [
    "changing parameters again takes time"
   ]
  },
  {
   "cell_type": "code",
   "execution_count": 30,
   "id": "0f72abb3",
   "metadata": {},
   "outputs": [],
   "source": [
    "spatial_model.sigma.value = 0.7"
   ]
  },
  {
   "cell_type": "code",
   "execution_count": 31,
   "id": "293303a5",
   "metadata": {},
   "outputs": [
    {
     "name": "stdout",
     "output_type": "stream",
     "text": [
      "CPU times: user 20.5 s, sys: 696 ms, total: 21.2 s\n",
      "Wall time: 21.2 s\n"
     ]
    },
    {
     "data": {
      "text/plain": [
       "308515.25583827886"
      ]
     },
     "execution_count": 31,
     "metadata": {},
     "output_type": "execute_result"
    }
   ],
   "source": [
    "%%time\n",
    "datasets.stat_sum()"
   ]
  },
  {
   "cell_type": "markdown",
   "id": "38003fa2",
   "metadata": {},
   "source": [
    "changing spectral parameters, no"
   ]
  },
  {
   "cell_type": "code",
   "execution_count": 32,
   "id": "3b73f2e3",
   "metadata": {},
   "outputs": [],
   "source": [
    "spectral_model.amplitude.value = 1e-11"
   ]
  },
  {
   "cell_type": "code",
   "execution_count": 33,
   "id": "82347d68",
   "metadata": {},
   "outputs": [
    {
     "name": "stdout",
     "output_type": "stream",
     "text": [
      "CPU times: user 89.9 ms, sys: 8.25 ms, total: 98.2 ms\n",
      "Wall time: 98 ms\n"
     ]
    },
    {
     "data": {
      "text/plain": [
       "308514.71906551335"
      ]
     },
     "execution_count": 33,
     "metadata": {},
     "output_type": "execute_result"
    }
   ],
   "source": [
    "%%time\n",
    "datasets.stat_sum()"
   ]
  },
  {
   "cell_type": "code",
   "execution_count": 36,
   "id": "a684ec31",
   "metadata": {},
   "outputs": [],
   "source": [
    "%load_ext line_profiler"
   ]
  },
  {
   "cell_type": "code",
   "execution_count": 44,
   "id": "d36fde04",
   "metadata": {},
   "outputs": [],
   "source": []
  },
  {
   "cell_type": "code",
   "execution_count": 49,
   "id": "5c7cb5ad",
   "metadata": {},
   "outputs": [],
   "source": [
    "from pyinstrument import Profiler\n",
    "profiler = Profiler()"
   ]
  },
  {
   "cell_type": "code",
   "execution_count": 50,
   "id": "61708427",
   "metadata": {},
   "outputs": [],
   "source": [
    "datasets.models = sky_model"
   ]
  },
  {
   "cell_type": "code",
   "execution_count": 51,
   "id": "d4bfac25",
   "metadata": {},
   "outputs": [
    {
     "data": {
      "text/plain": [
       "<pyinstrument.session.Session at 0x7fe38a2f5a90>"
      ]
     },
     "execution_count": 51,
     "metadata": {},
     "output_type": "execute_result"
    }
   ],
   "source": [
    "profiler.start()\n",
    "datasets.stat_sum()\n",
    "profiler.stop()"
   ]
  },
  {
   "cell_type": "code",
   "execution_count": 55,
   "id": "3ed29268",
   "metadata": {},
   "outputs": [
    {
     "data": {
      "text/plain": [
       "'/var/folders/v4/62d6cvbj72qbyw23mq2pwxl00000gn/T/tmpqnjynstx.html'"
      ]
     },
     "execution_count": 55,
     "metadata": {},
     "output_type": "execute_result"
    }
   ],
   "source": [
    "profiler.open_in_browser()"
   ]
  },
  {
   "cell_type": "code",
   "execution_count": 56,
   "id": "142e5270",
   "metadata": {},
   "outputs": [
    {
     "name": "stdout",
     "output_type": "stream",
     "text": [
      "\n",
      "  _     ._   __/__   _ _  _  _ _/_   Recorded: 20:24:59  Samples:  6682\n",
      " /_//_/// /_\\ / //_// / //_'/ //     Duration: 22.569    CPU time: 22.542\n",
      "/   _/                      v4.4.0\n",
      "\n",
      "Program: /Users/ASinha/opt/anaconda3/envs/gammapy-dev/lib/python3.8/site-packages/ipykernel_launcher.py -f /Users/ASinha/Library/Jupyter/runtime/kernel-b46473e3-dcf4-4430-aa01-7c0243f22a13.json\n",
      "\n",
      "22.569 ZMQInteractiveShell.run_code  IPython/core/interactiveshell.py:3342\n",
      "└─ 22.569 <module>  ../../../../var/folders/v4/62d6cvbj72qbyw23mq2pwxl00000gn/T/ipykernel_87669/2811408099.py:2\n",
      "   └─ 22.569 Datasets.stat_sum  ../gammapy/gammapy/datasets/core.py:220\n",
      "      └─ 22.569 MapDataset.stat_sum  ../gammapy/gammapy/datasets/map.py:1084\n",
      "         └─ 22.510 MapDataset.npred  ../gammapy/gammapy/datasets/map.py:428\n",
      "            └─ 22.475 MapDataset.npred_signal  ../gammapy/gammapy/datasets/map.py:478\n",
      "               ├─ 20.243 MapEvaluator.update  ../gammapy/gammapy/datasets/evaluator.py:158\n",
      "               │  ├─ 19.678 PSFMap.get_psf_kernel  ../gammapy/gammapy/irf/psf/map.py:221\n",
      "               │  │  ├─ 18.057 WcsNDMap.interp_by_coord  ../gammapy/gammapy/maps/wcs/ndmap.py:129\n",
      "               │  │  │  └─ 18.020 WcsNDMap.interp_by_pix  ../gammapy/gammapy/maps/wcs/ndmap.py:165\n",
      "               │  │  │     └─ 17.965 ScaledRegularGridInterpolator.__call__  ../gammapy/gammapy/utils/interpolation.py:101\n",
      "               │  │  │        └─ 17.719 RegularGridInterpolator.__call__  scipy/interpolate/_rgi.py:262\n",
      "               │  │  │              [29 frames hidden]  scipy, <__array_function__ internals>...\n",
      "               │  │  │                 13.890 RegularGridInterpolator._evaluate_linear  scipy/interpolate/_rgi.py:346\n",
      "               │  │  ├─ 0.653 PSFMap.containment_radius  ../gammapy/gammapy/irf/psf/map.py:172\n",
      "               │  │  │  └─ 0.636 IRFLikePSF.containment_radius  ../gammapy/gammapy/irf/psf/core.py:36\n",
      "               │  │  │     └─ 0.624 IRFLikePSF.containment  ../gammapy/gammapy/irf/psf/core.py:18\n",
      "               │  │  │        └─ 0.618 IRFLikePSF.integral  ../gammapy/gammapy/irf/core.py:354\n",
      "               │  │  │           ├─ 0.370 IRFLikePSF.evaluate  ../gammapy/gammapy/irf/core.py:250\n",
      "               │  │  │           │  └─ 0.360 ScaledRegularGridInterpolator.__call__  ../gammapy/gammapy/utils/interpolation.py:101\n",
      "               │  │  │           │     └─ 0.334 RegularGridInterpolator.__call__  scipy/interpolate/_rgi.py:262\n",
      "               │  │  │           │           [20 frames hidden]  scipy, <__array_function__ internals>...\n",
      "               │  │  │           └─ 0.246 IRFLikePSF.cumsum  ../gammapy/gammapy/irf/core.py:319\n",
      "               │  │  ├─ 0.256 WcsNDMap.downsample  ../gammapy/gammapy/maps/wcs/ndmap.py:348\n",
      "               │  │  └─ 0.251 PSFMap._get_nearest_valid_position  ../gammapy/gammapy/irf/core.py:684\n",
      "               │  │     └─ 0.237 PSFMap.mask_safe_image  ../gammapy/gammapy/irf/core.py:644\n",
      "               │  └─ 0.229 EDispKernelMap.get_edisp_kernel  ../gammapy/gammapy/irf/edisp/map.py:334\n",
      "               └─ 2.174 MapEvaluator.compute_npred  ../gammapy/gammapy/datasets/evaluator.py:389\n",
      "                  └─ 2.174 lazyproperty.__get__  astropy/utils/decorators.py:768\n",
      "                     └─ 2.174 MapEvaluator._compute_npred  ../gammapy/gammapy/datasets/evaluator.py:363\n",
      "                        └─ 1.961 MapEvaluator.compute_flux_psf_convolved  ../gammapy/gammapy/datasets/evaluator.py:252\n",
      "                           └─ 1.905 MapEvaluator.compute_flux_spatial  ../gammapy/gammapy/datasets/evaluator.py:267\n",
      "                              └─ 1.905 lazyproperty.__get__  astropy/utils/decorators.py:768\n",
      "                                 └─ 1.905 MapEvaluator._compute_flux_spatial  ../gammapy/gammapy/datasets/evaluator.py:273\n",
      "                                    └─ 1.905 MapEvaluator._compute_flux_spatial_geom  ../gammapy/gammapy/datasets/evaluator.py:305\n",
      "                                       ├─ 1.124 GaussianSpatialModel.integrate_geom  ../gammapy/gammapy/modeling/models/spatial.py:176\n",
      "                                       │  └─ 0.956 WcsGeom.solid_angle  ../gammapy/gammapy/maps/wcs/geom.py:783\n",
      "                                       │     └─ 0.956 lazyproperty.__get__  astropy/utils/decorators.py:768\n",
      "                                       │        └─ 0.956 WcsGeom._solid_angle  ../gammapy/gammapy/maps/wcs/geom.py:794\n",
      "                                       │           ├─ 0.469 SkyCoord.separation  astropy/coordinates/sky_coordinate.py:1097\n",
      "                                       │           │     [224 frames hidden]  astropy, <built-in>, <__array_functio...\n",
      "                                       │           └─ 0.332 SkyCoord.position_angle  astropy/coordinates/sky_coordinate.py:1573\n",
      "                                       │                 [154 frames hidden]  astropy, <built-in>\n",
      "                                       └─ 0.781 MapEvaluator.apply_psf  ../gammapy/gammapy/datasets/evaluator.py:343\n",
      "                                          └─ 0.781 WcsNDMap.convolve  ../gammapy/gammapy/maps/wcs/ndmap.py:692\n",
      "                                             └─ 0.751 convolve  scipy/signal/_signaltools.py:1294\n",
      "                                                   [28 frames hidden]  scipy, <built-in>\n",
      "\n",
      "\n"
     ]
    }
   ],
   "source": [
    "profiler.print()"
   ]
  },
  {
   "cell_type": "code",
   "execution_count": null,
   "id": "6b206486",
   "metadata": {},
   "outputs": [],
   "source": []
  }
 ],
 "metadata": {
  "kernelspec": {
   "display_name": "Python 3 (ipykernel)",
   "language": "python",
   "name": "python3"
  },
  "language_info": {
   "codemirror_mode": {
    "name": "ipython",
    "version": 3
   },
   "file_extension": ".py",
   "mimetype": "text/x-python",
   "name": "python",
   "nbconvert_exporter": "python",
   "pygments_lexer": "ipython3",
   "version": "3.8.13"
  }
 },
 "nbformat": 4,
 "nbformat_minor": 5
}
