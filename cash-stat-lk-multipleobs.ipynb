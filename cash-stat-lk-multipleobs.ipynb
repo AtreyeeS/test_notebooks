{
 "cells": [
  {
   "cell_type": "markdown",
   "metadata": {},
   "source": [
    "# Difference in significance between `cash` and `wstat` analysis\n",
    "\n",
    "Method:\n",
    "- Simultate an extended gaussian using the IRF background (`MapDataset`)\n",
    "- Create a `MapDatasetOnOff` from the thus simulated `MapDataset` using the `RingBackGroundMaker`\n",
    "- Fit these datasets\n",
    "- Compare the results for the two cases\n",
    "- Do this in a loop to compare see if systematic"
   ]
  },
  {
   "cell_type": "markdown",
   "metadata": {},
   "source": [
    "Standard imports"
   ]
  },
  {
   "cell_type": "code",
   "execution_count": 1,
   "metadata": {},
   "outputs": [],
   "source": [
    "import numpy as np\n",
    "import astropy.units as u\n",
    "import matplotlib.pyplot as plt\n",
    "from astropy.coordinates import SkyCoord\n",
    "from gammapy.irf import load_cta_irfs\n",
    "from gammapy.maps import WcsGeom, MapAxis\n",
    "from gammapy.modeling.models import (\n",
    "    PowerLawSpectralModel,\n",
    "    GaussianSpatialModel,\n",
    "    SkyModel,\n",
    ")\n",
    "from gammapy.makers import MapDatasetMaker, SafeMaskMaker\n",
    "from gammapy.modeling import Fit\n",
    "from gammapy.data import Observation\n",
    "from gammapy.datasets import MapDataset, MapDatasetOnOff\n",
    "from gammapy.makers import RingBackgroundMaker\n",
    "from gammapy.estimators import ExcessMapEstimator\n",
    "from regions import CircleSkyRegion\n",
    "from scipy.stats import norm, chi2\n",
    "from gammapy.maps import Map"
   ]
  },
  {
   "cell_type": "code",
   "execution_count": 2,
   "metadata": {},
   "outputs": [
    {
     "data": {
      "text/plain": [
       "'0.17'"
      ]
     },
     "execution_count": 2,
     "metadata": {},
     "output_type": "execute_result"
    }
   ],
   "source": [
    "import gammapy\n",
    "gammapy.__version__"
   ]
  },
  {
   "cell_type": "markdown",
   "metadata": {},
   "source": [
    "## Do a binned simulation using DC1 IRFs"
   ]
  },
  {
   "cell_type": "code",
   "execution_count": 3,
   "metadata": {},
   "outputs": [],
   "source": [
    "# Load the irfs\n",
    "irfs = load_cta_irfs(\n",
    "    \"$GAMMAPY_DATA/cta-1dc/caldb/data/cta/1dc/bcf/South_z20_50h/irf_file.fits\"\n",
    ")\n",
    "\n",
    "# Define the observation parameters\n",
    "livetime = 3.0 * u.hr\n",
    "pointing = SkyCoord(0, 0, unit=\"deg\", frame=\"galactic\")\n",
    "\n",
    "# Define map geometry for binned simulation\n",
    "energy_reco = MapAxis.from_edges(\n",
    "    np.logspace(-1.0, 1.0, 2), unit=\"TeV\", name=\"energy\", interp=\"log\"\n",
    ")\n",
    "geom = WcsGeom.create(\n",
    "    skydir=(0, 0),\n",
    "    binsz=0.02,\n",
    "    width=(4, 4),\n",
    "    frame=\"galactic\",\n",
    "    axes=[energy_reco],\n",
    ")"
   ]
  },
  {
   "cell_type": "code",
   "execution_count": 4,
   "metadata": {},
   "outputs": [],
   "source": [
    "# Define sky model to used simulate the data.\n",
    "\n",
    "spatial_model = GaussianSpatialModel(\n",
    "    lon_0=\"0.2 deg\", lat_0=\"0.1 deg\", sigma=\"0.4 deg\", frame=\"galactic\"\n",
    ")\n",
    "spectral_model = PowerLawSpectralModel(\n",
    "    index=3, amplitude=\"5e-13 cm-2 s-1 TeV-1\", reference=\"1 TeV\"\n",
    ")\n",
    "model_simu = SkyModel(\n",
    "    spatial_model=spatial_model,\n",
    "    spectral_model=spectral_model,\n",
    "    name=\"model_simu\",\n",
    ")"
   ]
  },
  {
   "cell_type": "code",
   "execution_count": 5,
   "metadata": {},
   "outputs": [],
   "source": [
    "def simulate():\n",
    "    obs = Observation.create(pointing=pointing, livetime=livetime, irfs=irfs)\n",
    "    empty = MapDataset.create(geom, name=\"dataset-simu\")\n",
    "    maker = MapDatasetMaker(selection=[\"exposure\", \"background\", \"psf\", \"edisp\"])\n",
    "    maker_safe_mask = SafeMaskMaker(methods=[\"offset-max\"], offset_max=4.0 * u.deg)\n",
    "    dataset = maker.run(empty, obs)\n",
    "    dataset = maker_safe_mask.run(dataset, obs)\n",
    "    dataset.models.append(model_simu)\n",
    "    dataset.fake()\n",
    "    return dataset"
   ]
  },
  {
   "cell_type": "code",
   "execution_count": 6,
   "metadata": {},
   "outputs": [],
   "source": [
    "datasets = []\n",
    "for i in range(20):\n",
    "    datasets.append(simulate())"
   ]
  },
  {
   "cell_type": "markdown",
   "metadata": {},
   "source": [
    "## Cash statistics - fitting and excess maps"
   ]
  },
  {
   "cell_type": "code",
   "execution_count": 7,
   "metadata": {},
   "outputs": [],
   "source": [
    "# Define sky model to fit the data\n",
    "spatial_model1 = GaussianSpatialModel(\n",
    "    lon_0=\"0.1 deg\", lat_0=\"0.1 deg\", sigma=\"0.5 deg\", frame=\"galactic\"\n",
    ")\n",
    "spectral_model1 = PowerLawSpectralModel(\n",
    "    index=3, amplitude=\"1e-12 cm-2 s-1 TeV-1\", reference=\"1 TeV\"\n",
    ")\n",
    "model_fit = SkyModel(\n",
    "    spatial_model=spatial_model1,\n",
    "    spectral_model=spectral_model1,\n",
    "    name=\"model-fit\",\n",
    ")\n",
    "model_fit.spectral_model.parameters['index'].frozen = True"
   ]
  },
  {
   "cell_type": "code",
   "execution_count": 8,
   "metadata": {},
   "outputs": [],
   "source": [
    "def fitting_cash(dataset):\n",
    "    # Make a copy of the dataset\n",
    "    dataset_fit = dataset.copy(name=\"dataset-fit\")\n",
    "    dataset_fit.models[\"dataset-simu-bkg\"].datasets_names = [\"dataset-fit\"]\n",
    "    dataset_fit.models.remove('model_simu')\n",
    "    L0 = dataset_fit.stat_sum()\n",
    "    dataset_fit.models = [model_fit, dataset_fit.models[0]]\n",
    "    dataset_fit.models[1].parameters['norm'].frozen = True\n",
    "    fit = Fit([dataset_fit])\n",
    "    result = fit.run(optimize_opts={\"print_level\": 0})\n",
    "    L1 = dataset_fit.stat_sum()\n",
    "    e1 = result.parameters['amplitude'].error\n",
    "    e2 = result.parameters['sigma'].error\n",
    "    return e1, e2, L0-L1"
   ]
  },
  {
   "cell_type": "code",
   "execution_count": 9,
   "metadata": {},
   "outputs": [],
   "source": [
    "err_amp_cs = []\n",
    "err_sig_cs = []\n",
    "delL = []\n",
    "for dataset in datasets:\n",
    "    e1, e2, dl = fitting_cash(dataset)\n",
    "    err_amp_cs.append(e1)\n",
    "    err_sig_cs.append(e2)\n",
    "    delL.append(dl)"
   ]
  },
  {
   "cell_type": "code",
   "execution_count": 10,
   "metadata": {},
   "outputs": [
    {
     "data": {
      "text/plain": [
       "(array([3., 3., 3., 2., 2., 2., 2., 1., 1., 1.]),\n",
       " array([232.88458167, 245.41357718, 257.9425727 , 270.47156821,\n",
       "        283.00056373, 295.52955925, 308.05855476, 320.58755028,\n",
       "        333.11654579, 345.64554131, 358.17453682]),\n",
       " <a list of 10 Patch objects>)"
      ]
     },
     "execution_count": 10,
     "metadata": {},
     "output_type": "execute_result"
    },
    {
     "data": {
      "image/png": "[encoded data removed]",
      "text/plain": [
       "<Figure size 432x288 with 1 Axes>"
      ]
     },
     "metadata": {
      "needs_background": "light"
     },
     "output_type": "display_data"
    }
   ],
   "source": [
    "plt.hist(delL)"
   ]
  },
  {
   "cell_type": "markdown",
   "metadata": {},
   "source": [
    "## WSTAT - Ring background"
   ]
  },
  {
   "cell_type": "code",
   "execution_count": 11,
   "metadata": {},
   "outputs": [
    {
     "data": {
      "image/png": "[encoded data removed]",
      "text/plain": [
       "<Figure size 432x288 with 1 Axes>"
      ]
     },
     "metadata": {
      "needs_background": "light"
     },
     "output_type": "display_data"
    }
   ],
   "source": [
    "# Make the exclusion mask\n",
    "source_pos = model_simu.position\n",
    "regions = CircleSkyRegion(center=source_pos, radius=1.2 * u.deg)\n",
    "exclusion_mask = Map.from_geom(geom)\n",
    "exclusion_mask.data = geom.region_mask([regions], inside=False)\n",
    "exclusion_mask.sum_over_axes().plot();"
   ]
  },
  {
   "cell_type": "code",
   "execution_count": 12,
   "metadata": {},
   "outputs": [],
   "source": [
    "ring_maker = RingBackgroundMaker(\n",
    "    r_in=\"1.5 deg\", width=\"0.3 deg\", exclusion_mask=exclusion_mask\n",
    ")\n"
   ]
  },
  {
   "cell_type": "code",
   "execution_count": 13,
   "metadata": {},
   "outputs": [],
   "source": [
    "# Define sky model to fit the data\n",
    "spatial_model2 = GaussianSpatialModel(\n",
    "    lon_0=\"0.1 deg\", lat_0=\"0.1 deg\", sigma=\"0.5 deg\", frame=\"galactic\"\n",
    ")\n",
    "spectral_model2 = PowerLawSpectralModel(\n",
    "    index=3, amplitude=\"1e-12 cm-2 s-1 TeV-1\", reference=\"1 TeV\"\n",
    ")\n",
    "model_fit2 = SkyModel(\n",
    "    spatial_model=spatial_model2,\n",
    "    spectral_model=spectral_model2,\n",
    "    name=\"model-fit2\",\n",
    ")\n",
    "model_fit2.spectral_model.parameters['index'].frozen = True"
   ]
  },
  {
   "cell_type": "code",
   "execution_count": 14,
   "metadata": {},
   "outputs": [],
   "source": [
    "def fit_ring(dataset):\n",
    "    dataset_on_off = ring_maker.run(dataset)\n",
    "    dataset_on_off.psf = dataset.psf\n",
    "    L2 = dataset_on_off.stat_sum()\n",
    "    dataset_on_off.models = model_fit2\n",
    "    fit2 = Fit([dataset_on_off])\n",
    "    result2 = fit2.run(optimize_opts={\"print_level\": 0})\n",
    "    L3 = dataset_on_off.stat_sum()\n",
    "    e1 = result2.parameters['amplitude'].error\n",
    "    e2 = result2.parameters['sigma'].error\n",
    "    return e1, e2, L2-L3"
   ]
  },
  {
   "cell_type": "code",
   "execution_count": 15,
   "metadata": {},
   "outputs": [
    {
     "name": "stderr",
     "output_type": "stream",
     "text": [
      "No background model defined for dataset dataset-simu\n",
      "No background model defined for dataset dataset-simu\n",
      "No background model defined for dataset dataset-simu\n",
      "No background model defined for dataset dataset-simu\n",
      "No background model defined for dataset dataset-simu\n",
      "No background model defined for dataset dataset-simu\n",
      "No background model defined for dataset dataset-simu\n",
      "No background model defined for dataset dataset-simu\n",
      "No background model defined for dataset dataset-simu\n",
      "No background model defined for dataset dataset-simu\n",
      "No background model defined for dataset dataset-simu\n",
      "No background model defined for dataset dataset-simu\n",
      "No background model defined for dataset dataset-simu\n",
      "No background model defined for dataset dataset-simu\n",
      "No background model defined for dataset dataset-simu\n",
      "No background model defined for dataset dataset-simu\n",
      "No background model defined for dataset dataset-simu\n",
      "No background model defined for dataset dataset-simu\n",
      "No background model defined for dataset dataset-simu\n",
      "No background model defined for dataset dataset-simu\n"
     ]
    }
   ],
   "source": [
    "err_amp_ws = []\n",
    "err_sig_ws = []\n",
    "delL_onoff = []\n",
    "for dataset in datasets:\n",
    "    e1, e2, dl = fit_ring(dataset)\n",
    "    err_amp_ws.append(e1)\n",
    "    err_sig_ws.append(e2)\n",
    "    delL_onoff.append(dl)"
   ]
  },
  {
   "cell_type": "code",
   "execution_count": 16,
   "metadata": {},
   "outputs": [
    {
     "data": {
      "text/plain": [
       "<matplotlib.legend.Legend at 0x135eb66d8>"
      ]
     },
     "execution_count": 16,
     "metadata": {},
     "output_type": "execute_result"
    },
    {
     "data": {
      "image/png": "[encoded data removed]",
      "text/plain": [
       "<Figure size 432x288 with 1 Axes>"
      ]
     },
     "metadata": {
      "needs_background": "light"
     },
     "output_type": "display_data"
    }
   ],
   "source": [
    "plt.hist(delL, alpha=0.5, color='blue', label=\"cash\")\n",
    "plt.hist(delL_onoff, alpha=0.5, color='red', label=\"wstat\")\n",
    "plt.legend()"
   ]
  },
  {
   "cell_type": "code",
   "execution_count": 17,
   "metadata": {},
   "outputs": [
    {
     "data": {
      "text/plain": [
       "(282.47458035125163, 34.25303495917649)"
      ]
     },
     "execution_count": 17,
     "metadata": {},
     "output_type": "execute_result"
    }
   ],
   "source": [
    "np.mean(delL),  np.std(delL)"
   ]
  },
  {
   "cell_type": "code",
   "execution_count": 18,
   "metadata": {},
   "outputs": [
    {
     "data": {
      "text/plain": [
       "(278.2787207924845, 40.55276470349271)"
      ]
     },
     "execution_count": 18,
     "metadata": {},
     "output_type": "execute_result"
    }
   ],
   "source": [
    "np.mean(delL_onoff), np.std(delL_onoff)"
   ]
  },
  {
   "cell_type": "code",
   "execution_count": 19,
   "metadata": {},
   "outputs": [
    {
     "data": {
      "text/plain": [
       "<matplotlib.legend.Legend at 0x11c025f60>"
      ]
     },
     "execution_count": 19,
     "metadata": {},
     "output_type": "execute_result"
    },
    {
     "data": {
      "image/png": "[encoded data removed]",
      "text/plain": [
       "<Figure size 432x288 with 1 Axes>"
      ]
     },
     "metadata": {
      "needs_background": "light"
     },
     "output_type": "display_data"
    }
   ],
   "source": [
    "plt.hist(err_amp_cs, alpha=0.5, color='blue', label=\"cash\")\n",
    "plt.hist(err_amp_ws, alpha=0.5, color='red', label=\"wstat\")\n",
    "plt.title(\"error_amplitude\")\n",
    "plt.legend()"
   ]
  },
  {
   "cell_type": "code",
   "execution_count": 20,
   "metadata": {},
   "outputs": [
    {
     "data": {
      "text/plain": [
       "<matplotlib.legend.Legend at 0x1359e8e10>"
      ]
     },
     "execution_count": 20,
     "metadata": {},
     "output_type": "execute_result"
    },
    {
     "data": {
      "image/png": "[encoded data removed]",
      "text/plain": [
       "<Figure size 432x288 with 1 Axes>"
      ]
     },
     "metadata": {
      "needs_background": "light"
     },
     "output_type": "display_data"
    }
   ],
   "source": [
    "plt.hist(err_sig_cs, alpha=0.5, color='blue', label=\"cash\")\n",
    "plt.hist(err_sig_ws, alpha=0.5, color='red', label=\"wstat\")\n",
    "plt.title(\"error_sigma\")\n",
    "plt.legend()"
   ]
  },
  {
   "cell_type": "code",
   "execution_count": null,
   "metadata": {},
   "outputs": [],
   "source": []
  }
 ],
 "metadata": {
  "kernelspec": {
   "display_name": "Python 3",
   "language": "python",
   "name": "python3"
  },
  "language_info": {
   "codemirror_mode": {
    "name": "ipython",
    "version": 3
   },
   "file_extension": ".py",
   "mimetype": "text/x-python",
   "name": "python",
   "nbconvert_exporter": "python",
   "pygments_lexer": "ipython3",
   "version": "3.7.0"
  }
 },
 "nbformat": 4,
 "nbformat_minor": 4
}
